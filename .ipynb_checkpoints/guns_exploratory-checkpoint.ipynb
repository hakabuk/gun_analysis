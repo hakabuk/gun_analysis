{
 "cells": [
  {
   "cell_type": "markdown",
   "metadata": {},
   "source": [
    "# Analyzing Gun Deaths in the US: 2012-2014\n",
    "\n",
    "- [1. Exploratory analysis](#1)\n",
    "\n",
    "- [2. Visualization](#2)"
   ]
  },
  {
   "cell_type": "markdown",
   "metadata": {},
   "source": [
    "This analyzation inspects gun-death in the US in the years 2012-2014. The data originated from the CDC. I came across this thanks to FiveThirtyEight's [Gun Deaths in America][1] project. The data can be found [here][2].\n",
    "\n",
    "  [1]: https://fivethirtyeight.com/features/gun-deaths/\n",
    "  [2]: https://github.com/fivethirtyeight/guns-data"
   ]
  },
  {
   "cell_type": "markdown",
   "metadata": {},
   "source": [
    "## 1. Exploratory analysis <a class=\"anchor\" id=\"1\"></a>"
   ]
  },
  {
   "cell_type": "code",
   "execution_count": 1,
   "metadata": {
    "collapsed": false
   },
   "outputs": [],
   "source": [
    "import pandas as pd\n",
    "import numpy as np\n",
    "import warnings\n",
    "warnings.filterwarnings('ignore')"
   ]
  },
  {
   "cell_type": "code",
   "execution_count": 2,
   "metadata": {
    "collapsed": false,
    "scrolled": false
   },
   "outputs": [
    {
     "name": "stdout",
     "output_type": "stream",
     "text": [
      "(100798, 10)\n"
     ]
    },
    {
     "data": {
      "text/html": [
       "<div>\n",
       "<table border=\"1\" class=\"dataframe\">\n",
       "  <thead>\n",
       "    <tr style=\"text-align: right;\">\n",
       "      <th></th>\n",
       "      <th>year</th>\n",
       "      <th>month</th>\n",
       "      <th>intent</th>\n",
       "      <th>police</th>\n",
       "      <th>sex</th>\n",
       "      <th>age</th>\n",
       "      <th>race</th>\n",
       "      <th>hispanic</th>\n",
       "      <th>place</th>\n",
       "      <th>education</th>\n",
       "    </tr>\n",
       "  </thead>\n",
       "  <tbody>\n",
       "    <tr>\n",
       "      <th>1</th>\n",
       "      <td>2012</td>\n",
       "      <td>1</td>\n",
       "      <td>Suicide</td>\n",
       "      <td>0</td>\n",
       "      <td>M</td>\n",
       "      <td>34.0</td>\n",
       "      <td>Asian/Pacific Islander</td>\n",
       "      <td>100</td>\n",
       "      <td>Home</td>\n",
       "      <td>4.0</td>\n",
       "    </tr>\n",
       "    <tr>\n",
       "      <th>2</th>\n",
       "      <td>2012</td>\n",
       "      <td>1</td>\n",
       "      <td>Suicide</td>\n",
       "      <td>0</td>\n",
       "      <td>F</td>\n",
       "      <td>21.0</td>\n",
       "      <td>White</td>\n",
       "      <td>100</td>\n",
       "      <td>Street</td>\n",
       "      <td>3.0</td>\n",
       "    </tr>\n",
       "    <tr>\n",
       "      <th>3</th>\n",
       "      <td>2012</td>\n",
       "      <td>1</td>\n",
       "      <td>Suicide</td>\n",
       "      <td>0</td>\n",
       "      <td>M</td>\n",
       "      <td>60.0</td>\n",
       "      <td>White</td>\n",
       "      <td>100</td>\n",
       "      <td>Other specified</td>\n",
       "      <td>4.0</td>\n",
       "    </tr>\n",
       "    <tr>\n",
       "      <th>4</th>\n",
       "      <td>2012</td>\n",
       "      <td>2</td>\n",
       "      <td>Suicide</td>\n",
       "      <td>0</td>\n",
       "      <td>M</td>\n",
       "      <td>64.0</td>\n",
       "      <td>White</td>\n",
       "      <td>100</td>\n",
       "      <td>Home</td>\n",
       "      <td>4.0</td>\n",
       "    </tr>\n",
       "    <tr>\n",
       "      <th>5</th>\n",
       "      <td>2012</td>\n",
       "      <td>2</td>\n",
       "      <td>Suicide</td>\n",
       "      <td>0</td>\n",
       "      <td>M</td>\n",
       "      <td>31.0</td>\n",
       "      <td>White</td>\n",
       "      <td>100</td>\n",
       "      <td>Other specified</td>\n",
       "      <td>2.0</td>\n",
       "    </tr>\n",
       "  </tbody>\n",
       "</table>\n",
       "</div>"
      ],
      "text/plain": [
       "   year  month   intent  police sex   age                    race  hispanic  \\\n",
       "1  2012      1  Suicide       0   M  34.0  Asian/Pacific Islander       100   \n",
       "2  2012      1  Suicide       0   F  21.0                   White       100   \n",
       "3  2012      1  Suicide       0   M  60.0                   White       100   \n",
       "4  2012      2  Suicide       0   M  64.0                   White       100   \n",
       "5  2012      2  Suicide       0   M  31.0                   White       100   \n",
       "\n",
       "             place  education  \n",
       "1             Home        4.0  \n",
       "2           Street        3.0  \n",
       "3  Other specified        4.0  \n",
       "4             Home        4.0  \n",
       "5  Other specified        2.0  "
      ]
     },
     "execution_count": 2,
     "metadata": {},
     "output_type": "execute_result"
    }
   ],
   "source": [
    "guns = pd.read_csv('data/guns.csv', index_col=0)\n",
    "print guns.shape\n",
    "guns.head()"
   ]
  },
  {
   "cell_type": "markdown",
   "metadata": {},
   "source": [
    "Here's an explanation of each column:\n",
    "\n",
    "- **' '**: this is an identifier column, which contains the row number. It's common in CSV files to include a unique identifier for each row, but we can ignore it in this analysis.\n",
    "- **year**: the year in which the fatality occurred.\n",
    "- **month**: the month in which the fatality occurred.\n",
    "- **intent**: the intent of the perpetrator of the crime. This can be Suicide, Accidental, NA, Homicide, or Undetermined.\n",
    "- **police**: whether a police officer was involved with the shooting. Either 0 (false) or 1 (true).\n",
    "- **sex**: the gender of the victim. Either M or F.\n",
    "- **age**: the age of the victim.\n",
    "- **race**: the race of the victim. Either Asian/Pacific Islander, Native American/Native Alaskan, Black, Hispanic, or White.\n",
    "- **hispanic**: a code indicating the Hispanic origin of the victim.\n",
    "- **place**: where the shooting occurred. Has several categories, which you're encouraged to explore on your own.\n",
    "- **education**: educational status of the victim. Can be one of the following:\n",
    "    + **1**: Less than High School\n",
    "    + **2**: Graduated from High School or equivalent\n",
    "    + **3**: Some College\n",
    "    + **4**: At least graduated from College\n",
    "    + **5**: Not available\n",
    "\n",
    "It's good practice to get to know our data set before begining to analyze. "
   ]
  },
  {
   "cell_type": "code",
   "execution_count": 3,
   "metadata": {
    "collapsed": false,
    "scrolled": false
   },
   "outputs": [
    {
     "data": {
      "text/html": [
       "<div>\n",
       "<table border=\"1\" class=\"dataframe\">\n",
       "  <thead>\n",
       "    <tr style=\"text-align: right;\">\n",
       "      <th></th>\n",
       "      <th>year</th>\n",
       "      <th>month</th>\n",
       "      <th>intent</th>\n",
       "      <th>police</th>\n",
       "      <th>sex</th>\n",
       "      <th>age</th>\n",
       "      <th>race</th>\n",
       "      <th>hispanic</th>\n",
       "      <th>place</th>\n",
       "      <th>education</th>\n",
       "    </tr>\n",
       "    <tr>\n",
       "      <th>Index</th>\n",
       "      <th></th>\n",
       "      <th></th>\n",
       "      <th></th>\n",
       "      <th></th>\n",
       "      <th></th>\n",
       "      <th></th>\n",
       "      <th></th>\n",
       "      <th></th>\n",
       "      <th></th>\n",
       "      <th></th>\n",
       "    </tr>\n",
       "  </thead>\n",
       "  <tbody>\n",
       "    <tr>\n",
       "      <th>1</th>\n",
       "      <td>2012</td>\n",
       "      <td>1</td>\n",
       "      <td>Suicide</td>\n",
       "      <td>0</td>\n",
       "      <td>M</td>\n",
       "      <td>34.0</td>\n",
       "      <td>Asian/Pacific Islander</td>\n",
       "      <td>100</td>\n",
       "      <td>Home</td>\n",
       "      <td>4.0</td>\n",
       "    </tr>\n",
       "    <tr>\n",
       "      <th>2</th>\n",
       "      <td>2012</td>\n",
       "      <td>1</td>\n",
       "      <td>Suicide</td>\n",
       "      <td>0</td>\n",
       "      <td>F</td>\n",
       "      <td>21.0</td>\n",
       "      <td>White</td>\n",
       "      <td>100</td>\n",
       "      <td>Street</td>\n",
       "      <td>3.0</td>\n",
       "    </tr>\n",
       "    <tr>\n",
       "      <th>3</th>\n",
       "      <td>2012</td>\n",
       "      <td>1</td>\n",
       "      <td>Suicide</td>\n",
       "      <td>0</td>\n",
       "      <td>M</td>\n",
       "      <td>60.0</td>\n",
       "      <td>White</td>\n",
       "      <td>100</td>\n",
       "      <td>Other specified</td>\n",
       "      <td>4.0</td>\n",
       "    </tr>\n",
       "    <tr>\n",
       "      <th>4</th>\n",
       "      <td>2012</td>\n",
       "      <td>2</td>\n",
       "      <td>Suicide</td>\n",
       "      <td>0</td>\n",
       "      <td>M</td>\n",
       "      <td>64.0</td>\n",
       "      <td>White</td>\n",
       "      <td>100</td>\n",
       "      <td>Home</td>\n",
       "      <td>4.0</td>\n",
       "    </tr>\n",
       "    <tr>\n",
       "      <th>5</th>\n",
       "      <td>2012</td>\n",
       "      <td>2</td>\n",
       "      <td>Suicide</td>\n",
       "      <td>0</td>\n",
       "      <td>M</td>\n",
       "      <td>31.0</td>\n",
       "      <td>White</td>\n",
       "      <td>100</td>\n",
       "      <td>Other specified</td>\n",
       "      <td>2.0</td>\n",
       "    </tr>\n",
       "  </tbody>\n",
       "</table>\n",
       "</div>"
      ],
      "text/plain": [
       "       year  month   intent  police sex   age                    race  \\\n",
       "Index                                                                   \n",
       "1      2012      1  Suicide       0   M  34.0  Asian/Pacific Islander   \n",
       "2      2012      1  Suicide       0   F  21.0                   White   \n",
       "3      2012      1  Suicide       0   M  60.0                   White   \n",
       "4      2012      2  Suicide       0   M  64.0                   White   \n",
       "5      2012      2  Suicide       0   M  31.0                   White   \n",
       "\n",
       "       hispanic            place  education  \n",
       "Index                                        \n",
       "1           100             Home        4.0  \n",
       "2           100           Street        3.0  \n",
       "3           100  Other specified        4.0  \n",
       "4           100             Home        4.0  \n",
       "5           100  Other specified        2.0  "
      ]
     },
     "execution_count": 3,
     "metadata": {},
     "output_type": "execute_result"
    }
   ],
   "source": [
    "guns.index.name = 'Index'\n",
    "guns.head()"
   ]
  },
  {
   "cell_type": "code",
   "execution_count": 4,
   "metadata": {
    "collapsed": false
   },
   "outputs": [
    {
     "data": {
      "text/plain": [
       "Index([u'Year', u'Month', u'Intent', u'Police', u'Sex', u'Age', u'Race',\n",
       "       u'Hispanic', u'Place', u'Education'],\n",
       "      dtype='object')"
      ]
     },
     "execution_count": 4,
     "metadata": {},
     "output_type": "execute_result"
    }
   ],
   "source": [
    "# for readability and concistency - capitalizing column names\n",
    "guns.columns = map(str.capitalize, guns.columns)\n",
    "guns.columns"
   ]
  },
  {
   "cell_type": "markdown",
   "metadata": {},
   "source": [
    "Our data has almost 101,000 rows (gun death incidents) and 10 columns (categories)."
   ]
  },
  {
   "cell_type": "code",
   "execution_count": 5,
   "metadata": {
    "collapsed": false
   },
   "outputs": [
    {
     "data": {
      "text/plain": [
       "Year           int64\n",
       "Month          int64\n",
       "Intent        object\n",
       "Police         int64\n",
       "Sex           object\n",
       "Age          float64\n",
       "Race          object\n",
       "Hispanic       int64\n",
       "Place         object\n",
       "Education    float64\n",
       "dtype: object"
      ]
     },
     "execution_count": 5,
     "metadata": {},
     "output_type": "execute_result"
    }
   ],
   "source": [
    "guns.dtypes"
   ]
  },
  {
   "cell_type": "markdown",
   "metadata": {},
   "source": [
    "The float values in the education column could indicate there are NaN valuse, since every category is a whole number [1,2,3,4,5]. \n",
    "\n",
    "**Incompeteness/ Completeness**: checking to see how much of the data is NaN is important in order to know if the column is usefull/ useless."
   ]
  },
  {
   "cell_type": "code",
   "execution_count": 6,
   "metadata": {
    "collapsed": false,
    "scrolled": false
   },
   "outputs": [
    {
     "data": {
      "text/plain": [
       "Year         100798\n",
       "Month        100798\n",
       "Intent       100797\n",
       "Police       100798\n",
       "Sex          100798\n",
       "Age          100780\n",
       "Race         100798\n",
       "Hispanic     100798\n",
       "Place         99414\n",
       "Education    100745\n",
       "dtype: int64"
      ]
     },
     "execution_count": 6,
     "metadata": {},
     "output_type": "execute_result"
    }
   ],
   "source": [
    "guns.notnull().sum()"
   ]
  },
  {
   "cell_type": "markdown",
   "metadata": {},
   "source": [
    "In order to see the percentage of valid data:"
   ]
  },
  {
   "cell_type": "code",
   "execution_count": 7,
   "metadata": {
    "collapsed": false
   },
   "outputs": [
    {
     "data": {
      "text/plain": [
       "Year         100.000000\n",
       "Month        100.000000\n",
       "Intent        99.999008\n",
       "Police       100.000000\n",
       "Sex          100.000000\n",
       "Age           99.982143\n",
       "Race         100.000000\n",
       "Hispanic     100.000000\n",
       "Place         98.626957\n",
       "Education     99.947420\n",
       "dtype: float64"
      ]
     },
     "execution_count": 7,
     "metadata": {},
     "output_type": "execute_result"
    }
   ],
   "source": [
    "guns.notnull().sum() * 100.0/guns.shape[0]"
   ]
  },
  {
   "cell_type": "markdown",
   "metadata": {},
   "source": [
    "It seems that most of the columns have a at least 98.6% of the values - which means the data is close to complete (unlike real world data). That means we could probably delete all rows with NaN values and still not loose that much of our potential insights. \n",
    "\n",
    "Let's try to substitute as many NaN's as we can with real value, and then delete the rows we couldn't fill. \n",
    "\n",
    "Organizing the data by a column value: first by the year, then by month and age:"
   ]
  },
  {
   "cell_type": "code",
   "execution_count": 8,
   "metadata": {
    "collapsed": false,
    "scrolled": true
   },
   "outputs": [
    {
     "data": {
      "text/html": [
       "<div>\n",
       "<table border=\"1\" class=\"dataframe\">\n",
       "  <thead>\n",
       "    <tr style=\"text-align: right;\">\n",
       "      <th></th>\n",
       "      <th>Year</th>\n",
       "      <th>Month</th>\n",
       "      <th>Intent</th>\n",
       "      <th>Police</th>\n",
       "      <th>Sex</th>\n",
       "      <th>Age</th>\n",
       "      <th>Race</th>\n",
       "      <th>Hispanic</th>\n",
       "      <th>Place</th>\n",
       "      <th>Education</th>\n",
       "    </tr>\n",
       "    <tr>\n",
       "      <th>Index</th>\n",
       "      <th></th>\n",
       "      <th></th>\n",
       "      <th></th>\n",
       "      <th></th>\n",
       "      <th></th>\n",
       "      <th></th>\n",
       "      <th></th>\n",
       "      <th></th>\n",
       "      <th></th>\n",
       "      <th></th>\n",
       "    </tr>\n",
       "  </thead>\n",
       "  <tbody>\n",
       "    <tr>\n",
       "      <th>6579</th>\n",
       "      <td>2012</td>\n",
       "      <td>1</td>\n",
       "      <td>Homicide</td>\n",
       "      <td>0</td>\n",
       "      <td>M</td>\n",
       "      <td>0.0</td>\n",
       "      <td>Black</td>\n",
       "      <td>100</td>\n",
       "      <td>Home</td>\n",
       "      <td>1.0</td>\n",
       "    </tr>\n",
       "    <tr>\n",
       "      <th>2492</th>\n",
       "      <td>2012</td>\n",
       "      <td>1</td>\n",
       "      <td>Homicide</td>\n",
       "      <td>0</td>\n",
       "      <td>F</td>\n",
       "      <td>1.0</td>\n",
       "      <td>Hispanic</td>\n",
       "      <td>210</td>\n",
       "      <td>Home</td>\n",
       "      <td>1.0</td>\n",
       "    </tr>\n",
       "    <tr>\n",
       "      <th>2589</th>\n",
       "      <td>2012</td>\n",
       "      <td>1</td>\n",
       "      <td>Homicide</td>\n",
       "      <td>0</td>\n",
       "      <td>M</td>\n",
       "      <td>2.0</td>\n",
       "      <td>Hispanic</td>\n",
       "      <td>210</td>\n",
       "      <td>Home</td>\n",
       "      <td>1.0</td>\n",
       "    </tr>\n",
       "    <tr>\n",
       "      <th>10772</th>\n",
       "      <td>2012</td>\n",
       "      <td>1</td>\n",
       "      <td>Homicide</td>\n",
       "      <td>0</td>\n",
       "      <td>F</td>\n",
       "      <td>2.0</td>\n",
       "      <td>Black</td>\n",
       "      <td>100</td>\n",
       "      <td>Home</td>\n",
       "      <td>1.0</td>\n",
       "    </tr>\n",
       "    <tr>\n",
       "      <th>2493</th>\n",
       "      <td>2012</td>\n",
       "      <td>1</td>\n",
       "      <td>Homicide</td>\n",
       "      <td>0</td>\n",
       "      <td>M</td>\n",
       "      <td>3.0</td>\n",
       "      <td>Hispanic</td>\n",
       "      <td>210</td>\n",
       "      <td>Home</td>\n",
       "      <td>1.0</td>\n",
       "    </tr>\n",
       "    <tr>\n",
       "      <th>8997</th>\n",
       "      <td>2012</td>\n",
       "      <td>1</td>\n",
       "      <td>Homicide</td>\n",
       "      <td>0</td>\n",
       "      <td>F</td>\n",
       "      <td>6.0</td>\n",
       "      <td>White</td>\n",
       "      <td>100</td>\n",
       "      <td>Home</td>\n",
       "      <td>1.0</td>\n",
       "    </tr>\n",
       "    <tr>\n",
       "      <th>26731</th>\n",
       "      <td>2012</td>\n",
       "      <td>1</td>\n",
       "      <td>Homicide</td>\n",
       "      <td>0</td>\n",
       "      <td>M</td>\n",
       "      <td>7.0</td>\n",
       "      <td>White</td>\n",
       "      <td>100</td>\n",
       "      <td>Home</td>\n",
       "      <td>1.0</td>\n",
       "    </tr>\n",
       "    <tr>\n",
       "      <th>32851</th>\n",
       "      <td>2012</td>\n",
       "      <td>1</td>\n",
       "      <td>Homicide</td>\n",
       "      <td>0</td>\n",
       "      <td>M</td>\n",
       "      <td>9.0</td>\n",
       "      <td>White</td>\n",
       "      <td>100</td>\n",
       "      <td>Home</td>\n",
       "      <td>1.0</td>\n",
       "    </tr>\n",
       "    <tr>\n",
       "      <th>13687</th>\n",
       "      <td>2012</td>\n",
       "      <td>1</td>\n",
       "      <td>Homicide</td>\n",
       "      <td>0</td>\n",
       "      <td>M</td>\n",
       "      <td>11.0</td>\n",
       "      <td>Black</td>\n",
       "      <td>100</td>\n",
       "      <td>Home</td>\n",
       "      <td>1.0</td>\n",
       "    </tr>\n",
       "    <tr>\n",
       "      <th>20111</th>\n",
       "      <td>2012</td>\n",
       "      <td>1</td>\n",
       "      <td>Suicide</td>\n",
       "      <td>0</td>\n",
       "      <td>F</td>\n",
       "      <td>11.0</td>\n",
       "      <td>Black</td>\n",
       "      <td>100</td>\n",
       "      <td>Home</td>\n",
       "      <td>1.0</td>\n",
       "    </tr>\n",
       "  </tbody>\n",
       "</table>\n",
       "</div>"
      ],
      "text/plain": [
       "       Year  Month    Intent  Police Sex   Age      Race  Hispanic Place  \\\n",
       "Index                                                                      \n",
       "6579   2012      1  Homicide       0   M   0.0     Black       100  Home   \n",
       "2492   2012      1  Homicide       0   F   1.0  Hispanic       210  Home   \n",
       "2589   2012      1  Homicide       0   M   2.0  Hispanic       210  Home   \n",
       "10772  2012      1  Homicide       0   F   2.0     Black       100  Home   \n",
       "2493   2012      1  Homicide       0   M   3.0  Hispanic       210  Home   \n",
       "8997   2012      1  Homicide       0   F   6.0     White       100  Home   \n",
       "26731  2012      1  Homicide       0   M   7.0     White       100  Home   \n",
       "32851  2012      1  Homicide       0   M   9.0     White       100  Home   \n",
       "13687  2012      1  Homicide       0   M  11.0     Black       100  Home   \n",
       "20111  2012      1   Suicide       0   F  11.0     Black       100  Home   \n",
       "\n",
       "       Education  \n",
       "Index             \n",
       "6579         1.0  \n",
       "2492         1.0  \n",
       "2589         1.0  \n",
       "10772        1.0  \n",
       "2493         1.0  \n",
       "8997         1.0  \n",
       "26731        1.0  \n",
       "32851        1.0  \n",
       "13687        1.0  \n",
       "20111        1.0  "
      ]
     },
     "execution_count": 8,
     "metadata": {},
     "output_type": "execute_result"
    }
   ],
   "source": [
    "guns.sort_values(['Year', 'Month', 'Age'], inplace=True)\n",
    "guns.head(10)"
   ]
  },
  {
   "cell_type": "code",
   "execution_count": 9,
   "metadata": {
    "collapsed": false
   },
   "outputs": [
    {
     "data": {
      "text/html": [
       "<div>\n",
       "<table border=\"1\" class=\"dataframe\">\n",
       "  <thead>\n",
       "    <tr style=\"text-align: right;\">\n",
       "      <th></th>\n",
       "      <th>Year</th>\n",
       "      <th>Month</th>\n",
       "      <th>Intent</th>\n",
       "      <th>Police</th>\n",
       "      <th>Sex</th>\n",
       "      <th>Age</th>\n",
       "      <th>Race</th>\n",
       "      <th>Hispanic</th>\n",
       "      <th>Place</th>\n",
       "      <th>Education</th>\n",
       "    </tr>\n",
       "    <tr>\n",
       "      <th>Index</th>\n",
       "      <th></th>\n",
       "      <th></th>\n",
       "      <th></th>\n",
       "      <th></th>\n",
       "      <th></th>\n",
       "      <th></th>\n",
       "      <th></th>\n",
       "      <th></th>\n",
       "      <th></th>\n",
       "      <th></th>\n",
       "    </tr>\n",
       "  </thead>\n",
       "  <tbody>\n",
       "    <tr>\n",
       "      <th>87010</th>\n",
       "      <td>2014</td>\n",
       "      <td>12</td>\n",
       "      <td>Suicide</td>\n",
       "      <td>0</td>\n",
       "      <td>M</td>\n",
       "      <td>93.0</td>\n",
       "      <td>White</td>\n",
       "      <td>100</td>\n",
       "      <td>Home</td>\n",
       "      <td>3.0</td>\n",
       "    </tr>\n",
       "    <tr>\n",
       "      <th>91470</th>\n",
       "      <td>2014</td>\n",
       "      <td>12</td>\n",
       "      <td>Suicide</td>\n",
       "      <td>0</td>\n",
       "      <td>M</td>\n",
       "      <td>94.0</td>\n",
       "      <td>White</td>\n",
       "      <td>100</td>\n",
       "      <td>Home</td>\n",
       "      <td>2.0</td>\n",
       "    </tr>\n",
       "    <tr>\n",
       "      <th>88093</th>\n",
       "      <td>2014</td>\n",
       "      <td>12</td>\n",
       "      <td>Suicide</td>\n",
       "      <td>0</td>\n",
       "      <td>M</td>\n",
       "      <td>95.0</td>\n",
       "      <td>White</td>\n",
       "      <td>100</td>\n",
       "      <td>Home</td>\n",
       "      <td>5.0</td>\n",
       "    </tr>\n",
       "    <tr>\n",
       "      <th>78912</th>\n",
       "      <td>2014</td>\n",
       "      <td>12</td>\n",
       "      <td>Suicide</td>\n",
       "      <td>0</td>\n",
       "      <td>M</td>\n",
       "      <td>96.0</td>\n",
       "      <td>Black</td>\n",
       "      <td>100</td>\n",
       "      <td>Home</td>\n",
       "      <td>1.0</td>\n",
       "    </tr>\n",
       "    <tr>\n",
       "      <th>77249</th>\n",
       "      <td>2014</td>\n",
       "      <td>12</td>\n",
       "      <td>Suicide</td>\n",
       "      <td>0</td>\n",
       "      <td>M</td>\n",
       "      <td>97.0</td>\n",
       "      <td>White</td>\n",
       "      <td>100</td>\n",
       "      <td>Home</td>\n",
       "      <td>1.0</td>\n",
       "    </tr>\n",
       "  </tbody>\n",
       "</table>\n",
       "</div>"
      ],
      "text/plain": [
       "       Year  Month   Intent  Police Sex   Age   Race  Hispanic Place  \\\n",
       "Index                                                                  \n",
       "87010  2014     12  Suicide       0   M  93.0  White       100  Home   \n",
       "91470  2014     12  Suicide       0   M  94.0  White       100  Home   \n",
       "88093  2014     12  Suicide       0   M  95.0  White       100  Home   \n",
       "78912  2014     12  Suicide       0   M  96.0  Black       100  Home   \n",
       "77249  2014     12  Suicide       0   M  97.0  White       100  Home   \n",
       "\n",
       "       Education  \n",
       "Index             \n",
       "87010        3.0  \n",
       "91470        2.0  \n",
       "88093        5.0  \n",
       "78912        1.0  \n",
       "77249        1.0  "
      ]
     },
     "execution_count": 9,
     "metadata": {},
     "output_type": "execute_result"
    }
   ],
   "source": [
    "# just in case let's look at the tail too:\n",
    "guns.tail(5)"
   ]
  },
  {
   "cell_type": "markdown",
   "metadata": {},
   "source": [
    "For me, the most interesting column is 'Intent'. This is what I would want to predict. "
   ]
  },
  {
   "cell_type": "code",
   "execution_count": 10,
   "metadata": {
    "collapsed": false,
    "scrolled": true
   },
   "outputs": [
    {
     "data": {
      "text/plain": [
       "Suicide         63175\n",
       "Homicide        35176\n",
       "Accidental       1639\n",
       "Undetermined      807\n",
       "Name: Intent, dtype: int64"
      ]
     },
     "execution_count": 10,
     "metadata": {},
     "output_type": "execute_result"
    }
   ],
   "source": [
    "guns.Intent.value_counts(ascending=False)"
   ]
  },
  {
   "cell_type": "markdown",
   "metadata": {},
   "source": [
    "Looking at the normalized values makes the picture clearer."
   ]
  },
  {
   "cell_type": "code",
   "execution_count": 11,
   "metadata": {
    "collapsed": false,
    "scrolled": true
   },
   "outputs": [
    {
     "data": {
      "text/plain": [
       "Suicide         0.626749\n",
       "Homicide        0.348975\n",
       "Accidental      0.016260\n",
       "Undetermined    0.008006\n",
       "NaN             0.000010\n",
       "Name: Intent, dtype: float64"
      ]
     },
     "execution_count": 11,
     "metadata": {},
     "output_type": "execute_result"
    }
   ],
   "source": [
    "# Note: 'normalize=False' excludes the 'NaN's where here it includes them\n",
    "guns.Intent.value_counts(ascending=False, dropna=False, normalize=True) "
   ]
  },
  {
   "cell_type": "markdown",
   "metadata": {},
   "source": [
    "It is interesting that while suicide does not sound like the most common gun death in the US, it amounted to almost 2/3 of the gun deaths in 2012-2014. Yet the media tend to give more coverage to homicides.\n",
    "\n",
    "Off topic: If this interest you, I recommend listening to [The suicide paradox](http://freakonomics.com/podcast/new-freakonomics-radio-podcast-the-suicide-paradox/) on the amazing podcast Freakonomics."
   ]
  },
  {
   "cell_type": "markdown",
   "metadata": {},
   "source": [
    "The **describe()** method can give us an overview of numerical columns. Since most columns are categorical, we can use it on the 'age' and 'education' columns."
   ]
  },
  {
   "cell_type": "code",
   "execution_count": 12,
   "metadata": {
    "collapsed": false,
    "scrolled": true
   },
   "outputs": [
    {
     "name": "stdout",
     "output_type": "stream",
     "text": [
      "Education:\n",
      "count    100745.000000\n",
      "mean          2.296352\n",
      "std           0.990105\n",
      "min           1.000000\n",
      "25%           2.000000\n",
      "50%           2.000000\n",
      "75%           3.000000\n",
      "max           5.000000\n",
      "Name: Education, dtype: float64\n",
      "--------------------\n",
      "\n",
      "Age:\n",
      "count    100780.000000\n",
      "mean         43.857601\n",
      "std          19.496181\n",
      "min           0.000000\n",
      "25%          27.000000\n",
      "50%          42.000000\n",
      "75%          58.000000\n",
      "max         107.000000\n",
      "Name: Age, dtype: float64\n",
      "--------------------\n",
      "\n"
     ]
    }
   ],
   "source": [
    "cols = ['Education', 'Age']\n",
    "for col in cols:\n",
    "    print col + ':'\n",
    "    print guns[col].describe()\n",
    "    print '-' * 20 + '\\n'"
   ]
  },
  {
   "cell_type": "code",
   "execution_count": 13,
   "metadata": {
    "collapsed": false,
    "scrolled": true
   },
   "outputs": [
    {
     "name": "stdout",
     "output_type": "stream",
     "text": [
      "Education:\n",
      "count    100745.000000\n",
      "mean          2.296352\n",
      "std           0.990105\n",
      "min           1.000000\n",
      "10%           1.000000\n",
      "20%           1.000000\n",
      "30.0%         2.000000\n",
      "40%           2.000000\n",
      "50%           2.000000\n",
      "60%           2.000000\n",
      "70%           3.000000\n",
      "80%           3.000000\n",
      "90%           4.000000\n",
      "100%          5.000000\n",
      "max           5.000000\n",
      "Name: Education, dtype: float64\n",
      "--------------------\n",
      "\n",
      "Age:\n",
      "count    100780.000000\n",
      "mean         43.857601\n",
      "std          19.496181\n",
      "min           0.000000\n",
      "10%          21.000000\n",
      "20%          25.000000\n",
      "30.0%        29.000000\n",
      "40%          35.000000\n",
      "50%          42.000000\n",
      "60%          49.000000\n",
      "70%          55.000000\n",
      "80%          61.000000\n",
      "90%          72.000000\n",
      "100%        107.000000\n",
      "max         107.000000\n",
      "Name: Age, dtype: float64\n",
      "--------------------\n",
      "\n"
     ]
    }
   ],
   "source": [
    "percentiles = np.arange(0.1,1.1,0.1)\n",
    "for col in cols:\n",
    "    print col + ':'\n",
    "    print guns[col][guns[col].notnull()].describe(percentiles=percentiles) \n",
    "    print '-' * 20 + '\\n'"
   ]
  },
  {
   "cell_type": "markdown",
   "metadata": {},
   "source": [
    "**Cleaning 'Education' column**: Notice that the minimum age is 0. Let's check how many of the gun incidents resulted in the deaths of children under the age of 16:"
   ]
  },
  {
   "cell_type": "code",
   "execution_count": 14,
   "metadata": {
    "collapsed": false,
    "scrolled": true
   },
   "outputs": [
    {
     "data": {
      "text/plain": [
       "(1841, 10)"
      ]
     },
     "execution_count": 14,
     "metadata": {},
     "output_type": "execute_result"
    }
   ],
   "source": [
    "guns[guns['Age'] < 16].shape"
   ]
  },
  {
   "cell_type": "markdown",
   "metadata": {},
   "source": [
    "We can see more info if we filter only those cases:"
   ]
  },
  {
   "cell_type": "code",
   "execution_count": 15,
   "metadata": {
    "collapsed": false,
    "scrolled": true
   },
   "outputs": [
    {
     "data": {
      "text/html": [
       "<div>\n",
       "<table border=\"1\" class=\"dataframe\">\n",
       "  <thead>\n",
       "    <tr style=\"text-align: right;\">\n",
       "      <th></th>\n",
       "      <th>Year</th>\n",
       "      <th>Month</th>\n",
       "      <th>Intent</th>\n",
       "      <th>Police</th>\n",
       "      <th>Sex</th>\n",
       "      <th>Age</th>\n",
       "      <th>Race</th>\n",
       "      <th>Hispanic</th>\n",
       "      <th>Place</th>\n",
       "      <th>Education</th>\n",
       "    </tr>\n",
       "    <tr>\n",
       "      <th>Index</th>\n",
       "      <th></th>\n",
       "      <th></th>\n",
       "      <th></th>\n",
       "      <th></th>\n",
       "      <th></th>\n",
       "      <th></th>\n",
       "      <th></th>\n",
       "      <th></th>\n",
       "      <th></th>\n",
       "      <th></th>\n",
       "    </tr>\n",
       "  </thead>\n",
       "  <tbody>\n",
       "    <tr>\n",
       "      <th>6579</th>\n",
       "      <td>2012</td>\n",
       "      <td>1</td>\n",
       "      <td>Homicide</td>\n",
       "      <td>0</td>\n",
       "      <td>M</td>\n",
       "      <td>0.0</td>\n",
       "      <td>Black</td>\n",
       "      <td>100</td>\n",
       "      <td>Home</td>\n",
       "      <td>1.0</td>\n",
       "    </tr>\n",
       "    <tr>\n",
       "      <th>2492</th>\n",
       "      <td>2012</td>\n",
       "      <td>1</td>\n",
       "      <td>Homicide</td>\n",
       "      <td>0</td>\n",
       "      <td>F</td>\n",
       "      <td>1.0</td>\n",
       "      <td>Hispanic</td>\n",
       "      <td>210</td>\n",
       "      <td>Home</td>\n",
       "      <td>1.0</td>\n",
       "    </tr>\n",
       "    <tr>\n",
       "      <th>2589</th>\n",
       "      <td>2012</td>\n",
       "      <td>1</td>\n",
       "      <td>Homicide</td>\n",
       "      <td>0</td>\n",
       "      <td>M</td>\n",
       "      <td>2.0</td>\n",
       "      <td>Hispanic</td>\n",
       "      <td>210</td>\n",
       "      <td>Home</td>\n",
       "      <td>1.0</td>\n",
       "    </tr>\n",
       "    <tr>\n",
       "      <th>10772</th>\n",
       "      <td>2012</td>\n",
       "      <td>1</td>\n",
       "      <td>Homicide</td>\n",
       "      <td>0</td>\n",
       "      <td>F</td>\n",
       "      <td>2.0</td>\n",
       "      <td>Black</td>\n",
       "      <td>100</td>\n",
       "      <td>Home</td>\n",
       "      <td>1.0</td>\n",
       "    </tr>\n",
       "    <tr>\n",
       "      <th>2493</th>\n",
       "      <td>2012</td>\n",
       "      <td>1</td>\n",
       "      <td>Homicide</td>\n",
       "      <td>0</td>\n",
       "      <td>M</td>\n",
       "      <td>3.0</td>\n",
       "      <td>Hispanic</td>\n",
       "      <td>210</td>\n",
       "      <td>Home</td>\n",
       "      <td>1.0</td>\n",
       "    </tr>\n",
       "    <tr>\n",
       "      <th>8997</th>\n",
       "      <td>2012</td>\n",
       "      <td>1</td>\n",
       "      <td>Homicide</td>\n",
       "      <td>0</td>\n",
       "      <td>F</td>\n",
       "      <td>6.0</td>\n",
       "      <td>White</td>\n",
       "      <td>100</td>\n",
       "      <td>Home</td>\n",
       "      <td>1.0</td>\n",
       "    </tr>\n",
       "    <tr>\n",
       "      <th>26731</th>\n",
       "      <td>2012</td>\n",
       "      <td>1</td>\n",
       "      <td>Homicide</td>\n",
       "      <td>0</td>\n",
       "      <td>M</td>\n",
       "      <td>7.0</td>\n",
       "      <td>White</td>\n",
       "      <td>100</td>\n",
       "      <td>Home</td>\n",
       "      <td>1.0</td>\n",
       "    </tr>\n",
       "    <tr>\n",
       "      <th>32851</th>\n",
       "      <td>2012</td>\n",
       "      <td>1</td>\n",
       "      <td>Homicide</td>\n",
       "      <td>0</td>\n",
       "      <td>M</td>\n",
       "      <td>9.0</td>\n",
       "      <td>White</td>\n",
       "      <td>100</td>\n",
       "      <td>Home</td>\n",
       "      <td>1.0</td>\n",
       "    </tr>\n",
       "    <tr>\n",
       "      <th>13687</th>\n",
       "      <td>2012</td>\n",
       "      <td>1</td>\n",
       "      <td>Homicide</td>\n",
       "      <td>0</td>\n",
       "      <td>M</td>\n",
       "      <td>11.0</td>\n",
       "      <td>Black</td>\n",
       "      <td>100</td>\n",
       "      <td>Home</td>\n",
       "      <td>1.0</td>\n",
       "    </tr>\n",
       "    <tr>\n",
       "      <th>20111</th>\n",
       "      <td>2012</td>\n",
       "      <td>1</td>\n",
       "      <td>Suicide</td>\n",
       "      <td>0</td>\n",
       "      <td>F</td>\n",
       "      <td>11.0</td>\n",
       "      <td>Black</td>\n",
       "      <td>100</td>\n",
       "      <td>Home</td>\n",
       "      <td>1.0</td>\n",
       "    </tr>\n",
       "    <tr>\n",
       "      <th>10791</th>\n",
       "      <td>2012</td>\n",
       "      <td>1</td>\n",
       "      <td>Homicide</td>\n",
       "      <td>0</td>\n",
       "      <td>M</td>\n",
       "      <td>12.0</td>\n",
       "      <td>Black</td>\n",
       "      <td>100</td>\n",
       "      <td>Home</td>\n",
       "      <td>1.0</td>\n",
       "    </tr>\n",
       "    <tr>\n",
       "      <th>11949</th>\n",
       "      <td>2012</td>\n",
       "      <td>1</td>\n",
       "      <td>Suicide</td>\n",
       "      <td>0</td>\n",
       "      <td>M</td>\n",
       "      <td>12.0</td>\n",
       "      <td>White</td>\n",
       "      <td>100</td>\n",
       "      <td>Home</td>\n",
       "      <td>1.0</td>\n",
       "    </tr>\n",
       "    <tr>\n",
       "      <th>15547</th>\n",
       "      <td>2012</td>\n",
       "      <td>1</td>\n",
       "      <td>Homicide</td>\n",
       "      <td>0</td>\n",
       "      <td>F</td>\n",
       "      <td>12.0</td>\n",
       "      <td>Black</td>\n",
       "      <td>100</td>\n",
       "      <td>Home</td>\n",
       "      <td>1.0</td>\n",
       "    </tr>\n",
       "    <tr>\n",
       "      <th>30807</th>\n",
       "      <td>2012</td>\n",
       "      <td>1</td>\n",
       "      <td>Homicide</td>\n",
       "      <td>0</td>\n",
       "      <td>F</td>\n",
       "      <td>12.0</td>\n",
       "      <td>Black</td>\n",
       "      <td>100</td>\n",
       "      <td>Home</td>\n",
       "      <td>1.0</td>\n",
       "    </tr>\n",
       "    <tr>\n",
       "      <th>10264</th>\n",
       "      <td>2012</td>\n",
       "      <td>1</td>\n",
       "      <td>Suicide</td>\n",
       "      <td>0</td>\n",
       "      <td>M</td>\n",
       "      <td>13.0</td>\n",
       "      <td>Asian/Pacific Islander</td>\n",
       "      <td>100</td>\n",
       "      <td>Home</td>\n",
       "      <td>1.0</td>\n",
       "    </tr>\n",
       "    <tr>\n",
       "      <th>28146</th>\n",
       "      <td>2012</td>\n",
       "      <td>1</td>\n",
       "      <td>Suicide</td>\n",
       "      <td>0</td>\n",
       "      <td>M</td>\n",
       "      <td>13.0</td>\n",
       "      <td>White</td>\n",
       "      <td>100</td>\n",
       "      <td>Home</td>\n",
       "      <td>1.0</td>\n",
       "    </tr>\n",
       "    <tr>\n",
       "      <th>33148</th>\n",
       "      <td>2012</td>\n",
       "      <td>1</td>\n",
       "      <td>Undetermined</td>\n",
       "      <td>0</td>\n",
       "      <td>M</td>\n",
       "      <td>13.0</td>\n",
       "      <td>White</td>\n",
       "      <td>100</td>\n",
       "      <td>Other specified</td>\n",
       "      <td>1.0</td>\n",
       "    </tr>\n",
       "    <tr>\n",
       "      <th>2423</th>\n",
       "      <td>2012</td>\n",
       "      <td>1</td>\n",
       "      <td>Homicide</td>\n",
       "      <td>0</td>\n",
       "      <td>M</td>\n",
       "      <td>14.0</td>\n",
       "      <td>Black</td>\n",
       "      <td>100</td>\n",
       "      <td>Home</td>\n",
       "      <td>1.0</td>\n",
       "    </tr>\n",
       "    <tr>\n",
       "      <th>5496</th>\n",
       "      <td>2012</td>\n",
       "      <td>1</td>\n",
       "      <td>Suicide</td>\n",
       "      <td>0</td>\n",
       "      <td>M</td>\n",
       "      <td>14.0</td>\n",
       "      <td>White</td>\n",
       "      <td>100</td>\n",
       "      <td>Home</td>\n",
       "      <td>1.0</td>\n",
       "    </tr>\n",
       "    <tr>\n",
       "      <th>6114</th>\n",
       "      <td>2012</td>\n",
       "      <td>1</td>\n",
       "      <td>Homicide</td>\n",
       "      <td>0</td>\n",
       "      <td>M</td>\n",
       "      <td>14.0</td>\n",
       "      <td>Hispanic</td>\n",
       "      <td>260</td>\n",
       "      <td>Street</td>\n",
       "      <td>1.0</td>\n",
       "    </tr>\n",
       "    <tr>\n",
       "      <th>6649</th>\n",
       "      <td>2012</td>\n",
       "      <td>1</td>\n",
       "      <td>Suicide</td>\n",
       "      <td>0</td>\n",
       "      <td>F</td>\n",
       "      <td>14.0</td>\n",
       "      <td>Hispanic</td>\n",
       "      <td>275</td>\n",
       "      <td>Home</td>\n",
       "      <td>1.0</td>\n",
       "    </tr>\n",
       "    <tr>\n",
       "      <th>9007</th>\n",
       "      <td>2012</td>\n",
       "      <td>1</td>\n",
       "      <td>Accidental</td>\n",
       "      <td>0</td>\n",
       "      <td>M</td>\n",
       "      <td>14.0</td>\n",
       "      <td>White</td>\n",
       "      <td>100</td>\n",
       "      <td>Home</td>\n",
       "      <td>1.0</td>\n",
       "    </tr>\n",
       "    <tr>\n",
       "      <th>10775</th>\n",
       "      <td>2012</td>\n",
       "      <td>1</td>\n",
       "      <td>Homicide</td>\n",
       "      <td>0</td>\n",
       "      <td>M</td>\n",
       "      <td>14.0</td>\n",
       "      <td>Black</td>\n",
       "      <td>100</td>\n",
       "      <td>School/instiution</td>\n",
       "      <td>1.0</td>\n",
       "    </tr>\n",
       "    <tr>\n",
       "      <th>15526</th>\n",
       "      <td>2012</td>\n",
       "      <td>1</td>\n",
       "      <td>Suicide</td>\n",
       "      <td>0</td>\n",
       "      <td>F</td>\n",
       "      <td>14.0</td>\n",
       "      <td>White</td>\n",
       "      <td>100</td>\n",
       "      <td>Home</td>\n",
       "      <td>1.0</td>\n",
       "    </tr>\n",
       "    <tr>\n",
       "      <th>15593</th>\n",
       "      <td>2012</td>\n",
       "      <td>1</td>\n",
       "      <td>Suicide</td>\n",
       "      <td>0</td>\n",
       "      <td>M</td>\n",
       "      <td>14.0</td>\n",
       "      <td>White</td>\n",
       "      <td>100</td>\n",
       "      <td>Home</td>\n",
       "      <td>1.0</td>\n",
       "    </tr>\n",
       "    <tr>\n",
       "      <th>17086</th>\n",
       "      <td>2012</td>\n",
       "      <td>1</td>\n",
       "      <td>Suicide</td>\n",
       "      <td>0</td>\n",
       "      <td>M</td>\n",
       "      <td>14.0</td>\n",
       "      <td>White</td>\n",
       "      <td>100</td>\n",
       "      <td>Home</td>\n",
       "      <td>1.0</td>\n",
       "    </tr>\n",
       "    <tr>\n",
       "      <th>23229</th>\n",
       "      <td>2012</td>\n",
       "      <td>1</td>\n",
       "      <td>Suicide</td>\n",
       "      <td>0</td>\n",
       "      <td>M</td>\n",
       "      <td>14.0</td>\n",
       "      <td>White</td>\n",
       "      <td>100</td>\n",
       "      <td>Home</td>\n",
       "      <td>1.0</td>\n",
       "    </tr>\n",
       "    <tr>\n",
       "      <th>23272</th>\n",
       "      <td>2012</td>\n",
       "      <td>1</td>\n",
       "      <td>Suicide</td>\n",
       "      <td>0</td>\n",
       "      <td>M</td>\n",
       "      <td>14.0</td>\n",
       "      <td>White</td>\n",
       "      <td>100</td>\n",
       "      <td>Home</td>\n",
       "      <td>1.0</td>\n",
       "    </tr>\n",
       "    <tr>\n",
       "      <th>24307</th>\n",
       "      <td>2012</td>\n",
       "      <td>1</td>\n",
       "      <td>Homicide</td>\n",
       "      <td>0</td>\n",
       "      <td>M</td>\n",
       "      <td>14.0</td>\n",
       "      <td>Hispanic</td>\n",
       "      <td>260</td>\n",
       "      <td>Other unspecified</td>\n",
       "      <td>1.0</td>\n",
       "    </tr>\n",
       "    <tr>\n",
       "      <th>24376</th>\n",
       "      <td>2012</td>\n",
       "      <td>1</td>\n",
       "      <td>Homicide</td>\n",
       "      <td>0</td>\n",
       "      <td>M</td>\n",
       "      <td>14.0</td>\n",
       "      <td>Hispanic</td>\n",
       "      <td>260</td>\n",
       "      <td>Other unspecified</td>\n",
       "      <td>1.0</td>\n",
       "    </tr>\n",
       "    <tr>\n",
       "      <th>...</th>\n",
       "      <td>...</td>\n",
       "      <td>...</td>\n",
       "      <td>...</td>\n",
       "      <td>...</td>\n",
       "      <td>...</td>\n",
       "      <td>...</td>\n",
       "      <td>...</td>\n",
       "      <td>...</td>\n",
       "      <td>...</td>\n",
       "      <td>...</td>\n",
       "    </tr>\n",
       "    <tr>\n",
       "      <th>90299</th>\n",
       "      <td>2014</td>\n",
       "      <td>12</td>\n",
       "      <td>Suicide</td>\n",
       "      <td>0</td>\n",
       "      <td>M</td>\n",
       "      <td>13.0</td>\n",
       "      <td>White</td>\n",
       "      <td>100</td>\n",
       "      <td>Home</td>\n",
       "      <td>1.0</td>\n",
       "    </tr>\n",
       "    <tr>\n",
       "      <th>90307</th>\n",
       "      <td>2014</td>\n",
       "      <td>12</td>\n",
       "      <td>Suicide</td>\n",
       "      <td>0</td>\n",
       "      <td>F</td>\n",
       "      <td>13.0</td>\n",
       "      <td>Asian/Pacific Islander</td>\n",
       "      <td>100</td>\n",
       "      <td>Home</td>\n",
       "      <td>1.0</td>\n",
       "    </tr>\n",
       "    <tr>\n",
       "      <th>91433</th>\n",
       "      <td>2014</td>\n",
       "      <td>12</td>\n",
       "      <td>Suicide</td>\n",
       "      <td>0</td>\n",
       "      <td>M</td>\n",
       "      <td>13.0</td>\n",
       "      <td>White</td>\n",
       "      <td>100</td>\n",
       "      <td>Home</td>\n",
       "      <td>1.0</td>\n",
       "    </tr>\n",
       "    <tr>\n",
       "      <th>75779</th>\n",
       "      <td>2014</td>\n",
       "      <td>12</td>\n",
       "      <td>Suicide</td>\n",
       "      <td>0</td>\n",
       "      <td>M</td>\n",
       "      <td>14.0</td>\n",
       "      <td>White</td>\n",
       "      <td>100</td>\n",
       "      <td>Home</td>\n",
       "      <td>1.0</td>\n",
       "    </tr>\n",
       "    <tr>\n",
       "      <th>75883</th>\n",
       "      <td>2014</td>\n",
       "      <td>12</td>\n",
       "      <td>Homicide</td>\n",
       "      <td>0</td>\n",
       "      <td>M</td>\n",
       "      <td>14.0</td>\n",
       "      <td>Hispanic</td>\n",
       "      <td>223</td>\n",
       "      <td>Street</td>\n",
       "      <td>1.0</td>\n",
       "    </tr>\n",
       "    <tr>\n",
       "      <th>78880</th>\n",
       "      <td>2014</td>\n",
       "      <td>12</td>\n",
       "      <td>Suicide</td>\n",
       "      <td>0</td>\n",
       "      <td>M</td>\n",
       "      <td>14.0</td>\n",
       "      <td>White</td>\n",
       "      <td>100</td>\n",
       "      <td>Home</td>\n",
       "      <td>1.0</td>\n",
       "    </tr>\n",
       "    <tr>\n",
       "      <th>80723</th>\n",
       "      <td>2014</td>\n",
       "      <td>12</td>\n",
       "      <td>Suicide</td>\n",
       "      <td>0</td>\n",
       "      <td>M</td>\n",
       "      <td>14.0</td>\n",
       "      <td>White</td>\n",
       "      <td>100</td>\n",
       "      <td>Other specified</td>\n",
       "      <td>1.0</td>\n",
       "    </tr>\n",
       "    <tr>\n",
       "      <th>83639</th>\n",
       "      <td>2014</td>\n",
       "      <td>12</td>\n",
       "      <td>Suicide</td>\n",
       "      <td>0</td>\n",
       "      <td>M</td>\n",
       "      <td>14.0</td>\n",
       "      <td>White</td>\n",
       "      <td>100</td>\n",
       "      <td>Other specified</td>\n",
       "      <td>1.0</td>\n",
       "    </tr>\n",
       "    <tr>\n",
       "      <th>83659</th>\n",
       "      <td>2014</td>\n",
       "      <td>12</td>\n",
       "      <td>Suicide</td>\n",
       "      <td>0</td>\n",
       "      <td>M</td>\n",
       "      <td>14.0</td>\n",
       "      <td>White</td>\n",
       "      <td>100</td>\n",
       "      <td>School/instiution</td>\n",
       "      <td>1.0</td>\n",
       "    </tr>\n",
       "    <tr>\n",
       "      <th>84027</th>\n",
       "      <td>2014</td>\n",
       "      <td>12</td>\n",
       "      <td>Suicide</td>\n",
       "      <td>0</td>\n",
       "      <td>M</td>\n",
       "      <td>14.0</td>\n",
       "      <td>White</td>\n",
       "      <td>100</td>\n",
       "      <td>Home</td>\n",
       "      <td>1.0</td>\n",
       "    </tr>\n",
       "    <tr>\n",
       "      <th>84584</th>\n",
       "      <td>2014</td>\n",
       "      <td>12</td>\n",
       "      <td>Suicide</td>\n",
       "      <td>0</td>\n",
       "      <td>F</td>\n",
       "      <td>14.0</td>\n",
       "      <td>White</td>\n",
       "      <td>100</td>\n",
       "      <td>Home</td>\n",
       "      <td>1.0</td>\n",
       "    </tr>\n",
       "    <tr>\n",
       "      <th>84614</th>\n",
       "      <td>2014</td>\n",
       "      <td>12</td>\n",
       "      <td>Suicide</td>\n",
       "      <td>0</td>\n",
       "      <td>M</td>\n",
       "      <td>14.0</td>\n",
       "      <td>White</td>\n",
       "      <td>100</td>\n",
       "      <td>Home</td>\n",
       "      <td>1.0</td>\n",
       "    </tr>\n",
       "    <tr>\n",
       "      <th>85520</th>\n",
       "      <td>2014</td>\n",
       "      <td>12</td>\n",
       "      <td>Homicide</td>\n",
       "      <td>0</td>\n",
       "      <td>M</td>\n",
       "      <td>14.0</td>\n",
       "      <td>White</td>\n",
       "      <td>100</td>\n",
       "      <td>Home</td>\n",
       "      <td>1.0</td>\n",
       "    </tr>\n",
       "    <tr>\n",
       "      <th>88546</th>\n",
       "      <td>2014</td>\n",
       "      <td>12</td>\n",
       "      <td>Homicide</td>\n",
       "      <td>0</td>\n",
       "      <td>M</td>\n",
       "      <td>14.0</td>\n",
       "      <td>Black</td>\n",
       "      <td>100</td>\n",
       "      <td>Home</td>\n",
       "      <td>1.0</td>\n",
       "    </tr>\n",
       "    <tr>\n",
       "      <th>90966</th>\n",
       "      <td>2014</td>\n",
       "      <td>12</td>\n",
       "      <td>Homicide</td>\n",
       "      <td>0</td>\n",
       "      <td>M</td>\n",
       "      <td>14.0</td>\n",
       "      <td>Black</td>\n",
       "      <td>100</td>\n",
       "      <td>Home</td>\n",
       "      <td>1.0</td>\n",
       "    </tr>\n",
       "    <tr>\n",
       "      <th>93638</th>\n",
       "      <td>2014</td>\n",
       "      <td>12</td>\n",
       "      <td>Suicide</td>\n",
       "      <td>0</td>\n",
       "      <td>M</td>\n",
       "      <td>14.0</td>\n",
       "      <td>White</td>\n",
       "      <td>100</td>\n",
       "      <td>Home</td>\n",
       "      <td>1.0</td>\n",
       "    </tr>\n",
       "    <tr>\n",
       "      <th>98992</th>\n",
       "      <td>2014</td>\n",
       "      <td>12</td>\n",
       "      <td>Suicide</td>\n",
       "      <td>0</td>\n",
       "      <td>M</td>\n",
       "      <td>14.0</td>\n",
       "      <td>White</td>\n",
       "      <td>100</td>\n",
       "      <td>Home</td>\n",
       "      <td>1.0</td>\n",
       "    </tr>\n",
       "    <tr>\n",
       "      <th>100156</th>\n",
       "      <td>2014</td>\n",
       "      <td>12</td>\n",
       "      <td>Suicide</td>\n",
       "      <td>0</td>\n",
       "      <td>M</td>\n",
       "      <td>14.0</td>\n",
       "      <td>White</td>\n",
       "      <td>100</td>\n",
       "      <td>Other specified</td>\n",
       "      <td>1.0</td>\n",
       "    </tr>\n",
       "    <tr>\n",
       "      <th>69545</th>\n",
       "      <td>2014</td>\n",
       "      <td>12</td>\n",
       "      <td>Homicide</td>\n",
       "      <td>0</td>\n",
       "      <td>F</td>\n",
       "      <td>15.0</td>\n",
       "      <td>White</td>\n",
       "      <td>100</td>\n",
       "      <td>Other specified</td>\n",
       "      <td>1.0</td>\n",
       "    </tr>\n",
       "    <tr>\n",
       "      <th>73097</th>\n",
       "      <td>2014</td>\n",
       "      <td>12</td>\n",
       "      <td>Suicide</td>\n",
       "      <td>0</td>\n",
       "      <td>M</td>\n",
       "      <td>15.0</td>\n",
       "      <td>White</td>\n",
       "      <td>100</td>\n",
       "      <td>Other specified</td>\n",
       "      <td>1.0</td>\n",
       "    </tr>\n",
       "    <tr>\n",
       "      <th>77341</th>\n",
       "      <td>2014</td>\n",
       "      <td>12</td>\n",
       "      <td>Homicide</td>\n",
       "      <td>0</td>\n",
       "      <td>M</td>\n",
       "      <td>15.0</td>\n",
       "      <td>Black</td>\n",
       "      <td>100</td>\n",
       "      <td>Home</td>\n",
       "      <td>1.0</td>\n",
       "    </tr>\n",
       "    <tr>\n",
       "      <th>78928</th>\n",
       "      <td>2014</td>\n",
       "      <td>12</td>\n",
       "      <td>Suicide</td>\n",
       "      <td>0</td>\n",
       "      <td>M</td>\n",
       "      <td>15.0</td>\n",
       "      <td>Hispanic</td>\n",
       "      <td>210</td>\n",
       "      <td>Street</td>\n",
       "      <td>1.0</td>\n",
       "    </tr>\n",
       "    <tr>\n",
       "      <th>78938</th>\n",
       "      <td>2014</td>\n",
       "      <td>12</td>\n",
       "      <td>Homicide</td>\n",
       "      <td>0</td>\n",
       "      <td>M</td>\n",
       "      <td>15.0</td>\n",
       "      <td>Black</td>\n",
       "      <td>100</td>\n",
       "      <td>Other specified</td>\n",
       "      <td>1.0</td>\n",
       "    </tr>\n",
       "    <tr>\n",
       "      <th>78941</th>\n",
       "      <td>2014</td>\n",
       "      <td>12</td>\n",
       "      <td>Homicide</td>\n",
       "      <td>0</td>\n",
       "      <td>M</td>\n",
       "      <td>15.0</td>\n",
       "      <td>Black</td>\n",
       "      <td>100</td>\n",
       "      <td>School/instiution</td>\n",
       "      <td>1.0</td>\n",
       "    </tr>\n",
       "    <tr>\n",
       "      <th>78945</th>\n",
       "      <td>2014</td>\n",
       "      <td>12</td>\n",
       "      <td>Suicide</td>\n",
       "      <td>0</td>\n",
       "      <td>M</td>\n",
       "      <td>15.0</td>\n",
       "      <td>Black</td>\n",
       "      <td>100</td>\n",
       "      <td>Home</td>\n",
       "      <td>1.0</td>\n",
       "    </tr>\n",
       "    <tr>\n",
       "      <th>78986</th>\n",
       "      <td>2014</td>\n",
       "      <td>12</td>\n",
       "      <td>Homicide</td>\n",
       "      <td>0</td>\n",
       "      <td>M</td>\n",
       "      <td>15.0</td>\n",
       "      <td>Black</td>\n",
       "      <td>100</td>\n",
       "      <td>Other unspecified</td>\n",
       "      <td>1.0</td>\n",
       "    </tr>\n",
       "    <tr>\n",
       "      <th>83635</th>\n",
       "      <td>2014</td>\n",
       "      <td>12</td>\n",
       "      <td>Suicide</td>\n",
       "      <td>0</td>\n",
       "      <td>M</td>\n",
       "      <td>15.0</td>\n",
       "      <td>White</td>\n",
       "      <td>100</td>\n",
       "      <td>Home</td>\n",
       "      <td>1.0</td>\n",
       "    </tr>\n",
       "    <tr>\n",
       "      <th>86825</th>\n",
       "      <td>2014</td>\n",
       "      <td>12</td>\n",
       "      <td>Accidental</td>\n",
       "      <td>0</td>\n",
       "      <td>M</td>\n",
       "      <td>15.0</td>\n",
       "      <td>White</td>\n",
       "      <td>100</td>\n",
       "      <td>Other unspecified</td>\n",
       "      <td>1.0</td>\n",
       "    </tr>\n",
       "    <tr>\n",
       "      <th>86855</th>\n",
       "      <td>2014</td>\n",
       "      <td>12</td>\n",
       "      <td>Suicide</td>\n",
       "      <td>0</td>\n",
       "      <td>M</td>\n",
       "      <td>15.0</td>\n",
       "      <td>Hispanic</td>\n",
       "      <td>260</td>\n",
       "      <td>Industrial/construction</td>\n",
       "      <td>1.0</td>\n",
       "    </tr>\n",
       "    <tr>\n",
       "      <th>97536</th>\n",
       "      <td>2014</td>\n",
       "      <td>12</td>\n",
       "      <td>Suicide</td>\n",
       "      <td>0</td>\n",
       "      <td>M</td>\n",
       "      <td>15.0</td>\n",
       "      <td>White</td>\n",
       "      <td>100</td>\n",
       "      <td>Home</td>\n",
       "      <td>1.0</td>\n",
       "    </tr>\n",
       "  </tbody>\n",
       "</table>\n",
       "<p>1841 rows × 10 columns</p>\n",
       "</div>"
      ],
      "text/plain": [
       "        Year  Month        Intent  Police Sex   Age                    Race  \\\n",
       "Index                                                                         \n",
       "6579    2012      1      Homicide       0   M   0.0                   Black   \n",
       "2492    2012      1      Homicide       0   F   1.0                Hispanic   \n",
       "2589    2012      1      Homicide       0   M   2.0                Hispanic   \n",
       "10772   2012      1      Homicide       0   F   2.0                   Black   \n",
       "2493    2012      1      Homicide       0   M   3.0                Hispanic   \n",
       "8997    2012      1      Homicide       0   F   6.0                   White   \n",
       "26731   2012      1      Homicide       0   M   7.0                   White   \n",
       "32851   2012      1      Homicide       0   M   9.0                   White   \n",
       "13687   2012      1      Homicide       0   M  11.0                   Black   \n",
       "20111   2012      1       Suicide       0   F  11.0                   Black   \n",
       "10791   2012      1      Homicide       0   M  12.0                   Black   \n",
       "11949   2012      1       Suicide       0   M  12.0                   White   \n",
       "15547   2012      1      Homicide       0   F  12.0                   Black   \n",
       "30807   2012      1      Homicide       0   F  12.0                   Black   \n",
       "10264   2012      1       Suicide       0   M  13.0  Asian/Pacific Islander   \n",
       "28146   2012      1       Suicide       0   M  13.0                   White   \n",
       "33148   2012      1  Undetermined       0   M  13.0                   White   \n",
       "2423    2012      1      Homicide       0   M  14.0                   Black   \n",
       "5496    2012      1       Suicide       0   M  14.0                   White   \n",
       "6114    2012      1      Homicide       0   M  14.0                Hispanic   \n",
       "6649    2012      1       Suicide       0   F  14.0                Hispanic   \n",
       "9007    2012      1    Accidental       0   M  14.0                   White   \n",
       "10775   2012      1      Homicide       0   M  14.0                   Black   \n",
       "15526   2012      1       Suicide       0   F  14.0                   White   \n",
       "15593   2012      1       Suicide       0   M  14.0                   White   \n",
       "17086   2012      1       Suicide       0   M  14.0                   White   \n",
       "23229   2012      1       Suicide       0   M  14.0                   White   \n",
       "23272   2012      1       Suicide       0   M  14.0                   White   \n",
       "24307   2012      1      Homicide       0   M  14.0                Hispanic   \n",
       "24376   2012      1      Homicide       0   M  14.0                Hispanic   \n",
       "...      ...    ...           ...     ...  ..   ...                     ...   \n",
       "90299   2014     12       Suicide       0   M  13.0                   White   \n",
       "90307   2014     12       Suicide       0   F  13.0  Asian/Pacific Islander   \n",
       "91433   2014     12       Suicide       0   M  13.0                   White   \n",
       "75779   2014     12       Suicide       0   M  14.0                   White   \n",
       "75883   2014     12      Homicide       0   M  14.0                Hispanic   \n",
       "78880   2014     12       Suicide       0   M  14.0                   White   \n",
       "80723   2014     12       Suicide       0   M  14.0                   White   \n",
       "83639   2014     12       Suicide       0   M  14.0                   White   \n",
       "83659   2014     12       Suicide       0   M  14.0                   White   \n",
       "84027   2014     12       Suicide       0   M  14.0                   White   \n",
       "84584   2014     12       Suicide       0   F  14.0                   White   \n",
       "84614   2014     12       Suicide       0   M  14.0                   White   \n",
       "85520   2014     12      Homicide       0   M  14.0                   White   \n",
       "88546   2014     12      Homicide       0   M  14.0                   Black   \n",
       "90966   2014     12      Homicide       0   M  14.0                   Black   \n",
       "93638   2014     12       Suicide       0   M  14.0                   White   \n",
       "98992   2014     12       Suicide       0   M  14.0                   White   \n",
       "100156  2014     12       Suicide       0   M  14.0                   White   \n",
       "69545   2014     12      Homicide       0   F  15.0                   White   \n",
       "73097   2014     12       Suicide       0   M  15.0                   White   \n",
       "77341   2014     12      Homicide       0   M  15.0                   Black   \n",
       "78928   2014     12       Suicide       0   M  15.0                Hispanic   \n",
       "78938   2014     12      Homicide       0   M  15.0                   Black   \n",
       "78941   2014     12      Homicide       0   M  15.0                   Black   \n",
       "78945   2014     12       Suicide       0   M  15.0                   Black   \n",
       "78986   2014     12      Homicide       0   M  15.0                   Black   \n",
       "83635   2014     12       Suicide       0   M  15.0                   White   \n",
       "86825   2014     12    Accidental       0   M  15.0                   White   \n",
       "86855   2014     12       Suicide       0   M  15.0                Hispanic   \n",
       "97536   2014     12       Suicide       0   M  15.0                   White   \n",
       "\n",
       "        Hispanic                    Place  Education  \n",
       "Index                                                 \n",
       "6579         100                     Home        1.0  \n",
       "2492         210                     Home        1.0  \n",
       "2589         210                     Home        1.0  \n",
       "10772        100                     Home        1.0  \n",
       "2493         210                     Home        1.0  \n",
       "8997         100                     Home        1.0  \n",
       "26731        100                     Home        1.0  \n",
       "32851        100                     Home        1.0  \n",
       "13687        100                     Home        1.0  \n",
       "20111        100                     Home        1.0  \n",
       "10791        100                     Home        1.0  \n",
       "11949        100                     Home        1.0  \n",
       "15547        100                     Home        1.0  \n",
       "30807        100                     Home        1.0  \n",
       "10264        100                     Home        1.0  \n",
       "28146        100                     Home        1.0  \n",
       "33148        100          Other specified        1.0  \n",
       "2423         100                     Home        1.0  \n",
       "5496         100                     Home        1.0  \n",
       "6114         260                   Street        1.0  \n",
       "6649         275                     Home        1.0  \n",
       "9007         100                     Home        1.0  \n",
       "10775        100        School/instiution        1.0  \n",
       "15526        100                     Home        1.0  \n",
       "15593        100                     Home        1.0  \n",
       "17086        100                     Home        1.0  \n",
       "23229        100                     Home        1.0  \n",
       "23272        100                     Home        1.0  \n",
       "24307        260        Other unspecified        1.0  \n",
       "24376        260        Other unspecified        1.0  \n",
       "...          ...                      ...        ...  \n",
       "90299        100                     Home        1.0  \n",
       "90307        100                     Home        1.0  \n",
       "91433        100                     Home        1.0  \n",
       "75779        100                     Home        1.0  \n",
       "75883        223                   Street        1.0  \n",
       "78880        100                     Home        1.0  \n",
       "80723        100          Other specified        1.0  \n",
       "83639        100          Other specified        1.0  \n",
       "83659        100        School/instiution        1.0  \n",
       "84027        100                     Home        1.0  \n",
       "84584        100                     Home        1.0  \n",
       "84614        100                     Home        1.0  \n",
       "85520        100                     Home        1.0  \n",
       "88546        100                     Home        1.0  \n",
       "90966        100                     Home        1.0  \n",
       "93638        100                     Home        1.0  \n",
       "98992        100                     Home        1.0  \n",
       "100156       100          Other specified        1.0  \n",
       "69545        100          Other specified        1.0  \n",
       "73097        100          Other specified        1.0  \n",
       "77341        100                     Home        1.0  \n",
       "78928        210                   Street        1.0  \n",
       "78938        100          Other specified        1.0  \n",
       "78941        100        School/instiution        1.0  \n",
       "78945        100                     Home        1.0  \n",
       "78986        100        Other unspecified        1.0  \n",
       "83635        100                     Home        1.0  \n",
       "86825        100        Other unspecified        1.0  \n",
       "86855        260  Industrial/construction        1.0  \n",
       "97536        100                     Home        1.0  \n",
       "\n",
       "[1841 rows x 10 columns]"
      ]
     },
     "execution_count": 15,
     "metadata": {},
     "output_type": "execute_result"
    }
   ],
   "source": [
    "guns[guns['Age'] < 16]"
   ]
  },
  {
   "cell_type": "markdown",
   "metadata": {},
   "source": [
    "**Converting `NaN` values in 'education' column**: Since we have only 11 entries with `NaN`, we could just throw them away, but for practice - let's try to fill in real data in its place. Note, that if it was a larger proportion (say >5%) and you were using for Machine Learning you might want to figure out a way to fill in the information in some manner."
   ]
  },
  {
   "cell_type": "markdown",
   "metadata": {},
   "source": [
    "Notice that in the education columns - a lot of these children have 'NaN' or the value 5.0 (= Not available). Let's assume all the children under 16 had education 1.0 (= Less than high school), and fill in this data accordingly:"
   ]
  },
  {
   "cell_type": "code",
   "execution_count": 16,
   "metadata": {
    "collapsed": false,
    "scrolled": true
   },
   "outputs": [
    {
     "data": {
      "text/html": [
       "<div>\n",
       "<table border=\"1\" class=\"dataframe\">\n",
       "  <thead>\n",
       "    <tr style=\"text-align: right;\">\n",
       "      <th></th>\n",
       "      <th>Year</th>\n",
       "      <th>Month</th>\n",
       "      <th>Intent</th>\n",
       "      <th>Police</th>\n",
       "      <th>Sex</th>\n",
       "      <th>Age</th>\n",
       "      <th>Race</th>\n",
       "      <th>Hispanic</th>\n",
       "      <th>Place</th>\n",
       "      <th>Education</th>\n",
       "    </tr>\n",
       "    <tr>\n",
       "      <th>Index</th>\n",
       "      <th></th>\n",
       "      <th></th>\n",
       "      <th></th>\n",
       "      <th></th>\n",
       "      <th></th>\n",
       "      <th></th>\n",
       "      <th></th>\n",
       "      <th></th>\n",
       "      <th></th>\n",
       "      <th></th>\n",
       "    </tr>\n",
       "  </thead>\n",
       "  <tbody>\n",
       "    <tr>\n",
       "      <th>22146</th>\n",
       "      <td>2012</td>\n",
       "      <td>2</td>\n",
       "      <td>Homicide</td>\n",
       "      <td>0</td>\n",
       "      <td>F</td>\n",
       "      <td>1.0</td>\n",
       "      <td>Black</td>\n",
       "      <td>100</td>\n",
       "      <td>Trade/service area</td>\n",
       "      <td>5.0</td>\n",
       "    </tr>\n",
       "    <tr>\n",
       "      <th>13751</th>\n",
       "      <td>2012</td>\n",
       "      <td>2</td>\n",
       "      <td>Accidental</td>\n",
       "      <td>0</td>\n",
       "      <td>M</td>\n",
       "      <td>4.0</td>\n",
       "      <td>Black</td>\n",
       "      <td>100</td>\n",
       "      <td>Home</td>\n",
       "      <td>NaN</td>\n",
       "    </tr>\n",
       "    <tr>\n",
       "      <th>1626</th>\n",
       "      <td>2012</td>\n",
       "      <td>3</td>\n",
       "      <td>Homicide</td>\n",
       "      <td>0</td>\n",
       "      <td>M</td>\n",
       "      <td>0.0</td>\n",
       "      <td>Hispanic</td>\n",
       "      <td>210</td>\n",
       "      <td>Home</td>\n",
       "      <td>5.0</td>\n",
       "    </tr>\n",
       "    <tr>\n",
       "      <th>13968</th>\n",
       "      <td>2012</td>\n",
       "      <td>3</td>\n",
       "      <td>Homicide</td>\n",
       "      <td>0</td>\n",
       "      <td>M</td>\n",
       "      <td>2.0</td>\n",
       "      <td>Black</td>\n",
       "      <td>100</td>\n",
       "      <td>Other unspecified</td>\n",
       "      <td>NaN</td>\n",
       "    </tr>\n",
       "    <tr>\n",
       "      <th>1627</th>\n",
       "      <td>2012</td>\n",
       "      <td>3</td>\n",
       "      <td>Homicide</td>\n",
       "      <td>0</td>\n",
       "      <td>M</td>\n",
       "      <td>3.0</td>\n",
       "      <td>Hispanic</td>\n",
       "      <td>210</td>\n",
       "      <td>Home</td>\n",
       "      <td>5.0</td>\n",
       "    </tr>\n",
       "    <tr>\n",
       "      <th>14885</th>\n",
       "      <td>2012</td>\n",
       "      <td>3</td>\n",
       "      <td>Accidental</td>\n",
       "      <td>0</td>\n",
       "      <td>M</td>\n",
       "      <td>4.0</td>\n",
       "      <td>Black</td>\n",
       "      <td>100</td>\n",
       "      <td>Home</td>\n",
       "      <td>NaN</td>\n",
       "    </tr>\n",
       "    <tr>\n",
       "      <th>22237</th>\n",
       "      <td>2012</td>\n",
       "      <td>4</td>\n",
       "      <td>Homicide</td>\n",
       "      <td>0</td>\n",
       "      <td>M</td>\n",
       "      <td>2.0</td>\n",
       "      <td>White</td>\n",
       "      <td>100</td>\n",
       "      <td>Home</td>\n",
       "      <td>5.0</td>\n",
       "    </tr>\n",
       "    <tr>\n",
       "      <th>495</th>\n",
       "      <td>2012</td>\n",
       "      <td>4</td>\n",
       "      <td>Homicide</td>\n",
       "      <td>0</td>\n",
       "      <td>F</td>\n",
       "      <td>5.0</td>\n",
       "      <td>White</td>\n",
       "      <td>100</td>\n",
       "      <td>Home</td>\n",
       "      <td>NaN</td>\n",
       "    </tr>\n",
       "    <tr>\n",
       "      <th>1770</th>\n",
       "      <td>2012</td>\n",
       "      <td>5</td>\n",
       "      <td>Homicide</td>\n",
       "      <td>0</td>\n",
       "      <td>F</td>\n",
       "      <td>1.0</td>\n",
       "      <td>Hispanic</td>\n",
       "      <td>270</td>\n",
       "      <td>Home</td>\n",
       "      <td>5.0</td>\n",
       "    </tr>\n",
       "    <tr>\n",
       "      <th>14018</th>\n",
       "      <td>2012</td>\n",
       "      <td>5</td>\n",
       "      <td>Homicide</td>\n",
       "      <td>0</td>\n",
       "      <td>M</td>\n",
       "      <td>3.0</td>\n",
       "      <td>White</td>\n",
       "      <td>100</td>\n",
       "      <td>Home</td>\n",
       "      <td>NaN</td>\n",
       "    </tr>\n",
       "    <tr>\n",
       "      <th>22464</th>\n",
       "      <td>2012</td>\n",
       "      <td>5</td>\n",
       "      <td>Homicide</td>\n",
       "      <td>0</td>\n",
       "      <td>M</td>\n",
       "      <td>3.0</td>\n",
       "      <td>White</td>\n",
       "      <td>100</td>\n",
       "      <td>Home</td>\n",
       "      <td>5.0</td>\n",
       "    </tr>\n",
       "    <tr>\n",
       "      <th>5727</th>\n",
       "      <td>2012</td>\n",
       "      <td>5</td>\n",
       "      <td>Homicide</td>\n",
       "      <td>0</td>\n",
       "      <td>M</td>\n",
       "      <td>4.0</td>\n",
       "      <td>White</td>\n",
       "      <td>100</td>\n",
       "      <td>Home</td>\n",
       "      <td>NaN</td>\n",
       "    </tr>\n",
       "    <tr>\n",
       "      <th>32938</th>\n",
       "      <td>2012</td>\n",
       "      <td>5</td>\n",
       "      <td>Homicide</td>\n",
       "      <td>0</td>\n",
       "      <td>F</td>\n",
       "      <td>4.0</td>\n",
       "      <td>White</td>\n",
       "      <td>100</td>\n",
       "      <td>Other unspecified</td>\n",
       "      <td>NaN</td>\n",
       "    </tr>\n",
       "    <tr>\n",
       "      <th>13890</th>\n",
       "      <td>2012</td>\n",
       "      <td>5</td>\n",
       "      <td>Homicide</td>\n",
       "      <td>0</td>\n",
       "      <td>F</td>\n",
       "      <td>5.0</td>\n",
       "      <td>Black</td>\n",
       "      <td>100</td>\n",
       "      <td>Street</td>\n",
       "      <td>NaN</td>\n",
       "    </tr>\n",
       "    <tr>\n",
       "      <th>32940</th>\n",
       "      <td>2012</td>\n",
       "      <td>5</td>\n",
       "      <td>Homicide</td>\n",
       "      <td>0</td>\n",
       "      <td>M</td>\n",
       "      <td>6.0</td>\n",
       "      <td>White</td>\n",
       "      <td>100</td>\n",
       "      <td>Other specified</td>\n",
       "      <td>NaN</td>\n",
       "    </tr>\n",
       "    <tr>\n",
       "      <th>433</th>\n",
       "      <td>2012</td>\n",
       "      <td>6</td>\n",
       "      <td>Homicide</td>\n",
       "      <td>0</td>\n",
       "      <td>M</td>\n",
       "      <td>3.0</td>\n",
       "      <td>White</td>\n",
       "      <td>100</td>\n",
       "      <td>Other unspecified</td>\n",
       "      <td>NaN</td>\n",
       "    </tr>\n",
       "    <tr>\n",
       "      <th>9493</th>\n",
       "      <td>2012</td>\n",
       "      <td>7</td>\n",
       "      <td>Accidental</td>\n",
       "      <td>0</td>\n",
       "      <td>M</td>\n",
       "      <td>0.0</td>\n",
       "      <td>Black</td>\n",
       "      <td>100</td>\n",
       "      <td>Other unspecified</td>\n",
       "      <td>5.0</td>\n",
       "    </tr>\n",
       "    <tr>\n",
       "      <th>15098</th>\n",
       "      <td>2012</td>\n",
       "      <td>7</td>\n",
       "      <td>Homicide</td>\n",
       "      <td>0</td>\n",
       "      <td>F</td>\n",
       "      <td>2.0</td>\n",
       "      <td>White</td>\n",
       "      <td>100</td>\n",
       "      <td>Home</td>\n",
       "      <td>NaN</td>\n",
       "    </tr>\n",
       "    <tr>\n",
       "      <th>19289</th>\n",
       "      <td>2012</td>\n",
       "      <td>7</td>\n",
       "      <td>Homicide</td>\n",
       "      <td>0</td>\n",
       "      <td>M</td>\n",
       "      <td>3.0</td>\n",
       "      <td>White</td>\n",
       "      <td>100</td>\n",
       "      <td>Home</td>\n",
       "      <td>NaN</td>\n",
       "    </tr>\n",
       "    <tr>\n",
       "      <th>31238</th>\n",
       "      <td>2012</td>\n",
       "      <td>7</td>\n",
       "      <td>Accidental</td>\n",
       "      <td>0</td>\n",
       "      <td>M</td>\n",
       "      <td>4.0</td>\n",
       "      <td>Black</td>\n",
       "      <td>100</td>\n",
       "      <td>Other unspecified</td>\n",
       "      <td>NaN</td>\n",
       "    </tr>\n",
       "    <tr>\n",
       "      <th>5929</th>\n",
       "      <td>2012</td>\n",
       "      <td>7</td>\n",
       "      <td>Homicide</td>\n",
       "      <td>0</td>\n",
       "      <td>F</td>\n",
       "      <td>6.0</td>\n",
       "      <td>White</td>\n",
       "      <td>100</td>\n",
       "      <td>School/instiution</td>\n",
       "      <td>NaN</td>\n",
       "    </tr>\n",
       "    <tr>\n",
       "      <th>14051</th>\n",
       "      <td>2012</td>\n",
       "      <td>7</td>\n",
       "      <td>Accidental</td>\n",
       "      <td>0</td>\n",
       "      <td>M</td>\n",
       "      <td>6.0</td>\n",
       "      <td>White</td>\n",
       "      <td>100</td>\n",
       "      <td>Home</td>\n",
       "      <td>NaN</td>\n",
       "    </tr>\n",
       "    <tr>\n",
       "      <th>22704</th>\n",
       "      <td>2012</td>\n",
       "      <td>8</td>\n",
       "      <td>Homicide</td>\n",
       "      <td>0</td>\n",
       "      <td>F</td>\n",
       "      <td>1.0</td>\n",
       "      <td>Black</td>\n",
       "      <td>100</td>\n",
       "      <td>Home</td>\n",
       "      <td>5.0</td>\n",
       "    </tr>\n",
       "    <tr>\n",
       "      <th>22756</th>\n",
       "      <td>2012</td>\n",
       "      <td>8</td>\n",
       "      <td>Homicide</td>\n",
       "      <td>0</td>\n",
       "      <td>F</td>\n",
       "      <td>6.0</td>\n",
       "      <td>Black</td>\n",
       "      <td>100</td>\n",
       "      <td>Other specified</td>\n",
       "      <td>5.0</td>\n",
       "    </tr>\n",
       "    <tr>\n",
       "      <th>29601</th>\n",
       "      <td>2012</td>\n",
       "      <td>9</td>\n",
       "      <td>Accidental</td>\n",
       "      <td>0</td>\n",
       "      <td>M</td>\n",
       "      <td>0.0</td>\n",
       "      <td>Black</td>\n",
       "      <td>100</td>\n",
       "      <td>Other unspecified</td>\n",
       "      <td>5.0</td>\n",
       "    </tr>\n",
       "    <tr>\n",
       "      <th>31313</th>\n",
       "      <td>2012</td>\n",
       "      <td>9</td>\n",
       "      <td>Accidental</td>\n",
       "      <td>0</td>\n",
       "      <td>M</td>\n",
       "      <td>2.0</td>\n",
       "      <td>White</td>\n",
       "      <td>100</td>\n",
       "      <td>Other specified</td>\n",
       "      <td>NaN</td>\n",
       "    </tr>\n",
       "    <tr>\n",
       "      <th>664</th>\n",
       "      <td>2012</td>\n",
       "      <td>9</td>\n",
       "      <td>Homicide</td>\n",
       "      <td>0</td>\n",
       "      <td>F</td>\n",
       "      <td>4.0</td>\n",
       "      <td>Black</td>\n",
       "      <td>100</td>\n",
       "      <td>Home</td>\n",
       "      <td>NaN</td>\n",
       "    </tr>\n",
       "    <tr>\n",
       "      <th>14274</th>\n",
       "      <td>2012</td>\n",
       "      <td>9</td>\n",
       "      <td>Suicide</td>\n",
       "      <td>0</td>\n",
       "      <td>M</td>\n",
       "      <td>15.0</td>\n",
       "      <td>Black</td>\n",
       "      <td>100</td>\n",
       "      <td>Home</td>\n",
       "      <td>5.0</td>\n",
       "    </tr>\n",
       "    <tr>\n",
       "      <th>22936</th>\n",
       "      <td>2012</td>\n",
       "      <td>10</td>\n",
       "      <td>Homicide</td>\n",
       "      <td>0</td>\n",
       "      <td>M</td>\n",
       "      <td>3.0</td>\n",
       "      <td>White</td>\n",
       "      <td>100</td>\n",
       "      <td>Home</td>\n",
       "      <td>5.0</td>\n",
       "    </tr>\n",
       "    <tr>\n",
       "      <th>33094</th>\n",
       "      <td>2012</td>\n",
       "      <td>11</td>\n",
       "      <td>Homicide</td>\n",
       "      <td>0</td>\n",
       "      <td>F</td>\n",
       "      <td>3.0</td>\n",
       "      <td>White</td>\n",
       "      <td>100</td>\n",
       "      <td>Farm</td>\n",
       "      <td>NaN</td>\n",
       "    </tr>\n",
       "    <tr>\n",
       "      <th>...</th>\n",
       "      <td>...</td>\n",
       "      <td>...</td>\n",
       "      <td>...</td>\n",
       "      <td>...</td>\n",
       "      <td>...</td>\n",
       "      <td>...</td>\n",
       "      <td>...</td>\n",
       "      <td>...</td>\n",
       "      <td>...</td>\n",
       "      <td>...</td>\n",
       "    </tr>\n",
       "    <tr>\n",
       "      <th>60832</th>\n",
       "      <td>2013</td>\n",
       "      <td>7</td>\n",
       "      <td>Homicide</td>\n",
       "      <td>0</td>\n",
       "      <td>M</td>\n",
       "      <td>4.0</td>\n",
       "      <td>White</td>\n",
       "      <td>100</td>\n",
       "      <td>Home</td>\n",
       "      <td>5.0</td>\n",
       "    </tr>\n",
       "    <tr>\n",
       "      <th>35648</th>\n",
       "      <td>2013</td>\n",
       "      <td>8</td>\n",
       "      <td>Homicide</td>\n",
       "      <td>0</td>\n",
       "      <td>M</td>\n",
       "      <td>0.0</td>\n",
       "      <td>Asian/Pacific Islander</td>\n",
       "      <td>100</td>\n",
       "      <td>Street</td>\n",
       "      <td>5.0</td>\n",
       "    </tr>\n",
       "    <tr>\n",
       "      <th>57240</th>\n",
       "      <td>2013</td>\n",
       "      <td>8</td>\n",
       "      <td>Homicide</td>\n",
       "      <td>0</td>\n",
       "      <td>M</td>\n",
       "      <td>0.0</td>\n",
       "      <td>Hispanic</td>\n",
       "      <td>210</td>\n",
       "      <td>Home</td>\n",
       "      <td>5.0</td>\n",
       "    </tr>\n",
       "    <tr>\n",
       "      <th>33655</th>\n",
       "      <td>2013</td>\n",
       "      <td>9</td>\n",
       "      <td>Homicide</td>\n",
       "      <td>0</td>\n",
       "      <td>M</td>\n",
       "      <td>2.0</td>\n",
       "      <td>Native American/Native Alaskan</td>\n",
       "      <td>100</td>\n",
       "      <td>Home</td>\n",
       "      <td>NaN</td>\n",
       "    </tr>\n",
       "    <tr>\n",
       "      <th>53031</th>\n",
       "      <td>2013</td>\n",
       "      <td>10</td>\n",
       "      <td>Accidental</td>\n",
       "      <td>0</td>\n",
       "      <td>F</td>\n",
       "      <td>2.0</td>\n",
       "      <td>Black</td>\n",
       "      <td>100</td>\n",
       "      <td>Home</td>\n",
       "      <td>NaN</td>\n",
       "    </tr>\n",
       "    <tr>\n",
       "      <th>39510</th>\n",
       "      <td>2013</td>\n",
       "      <td>10</td>\n",
       "      <td>Accidental</td>\n",
       "      <td>0</td>\n",
       "      <td>M</td>\n",
       "      <td>3.0</td>\n",
       "      <td>White</td>\n",
       "      <td>100</td>\n",
       "      <td>Home</td>\n",
       "      <td>NaN</td>\n",
       "    </tr>\n",
       "    <tr>\n",
       "      <th>47879</th>\n",
       "      <td>2013</td>\n",
       "      <td>11</td>\n",
       "      <td>Homicide</td>\n",
       "      <td>0</td>\n",
       "      <td>M</td>\n",
       "      <td>0.0</td>\n",
       "      <td>Black</td>\n",
       "      <td>100</td>\n",
       "      <td>Street</td>\n",
       "      <td>5.0</td>\n",
       "    </tr>\n",
       "    <tr>\n",
       "      <th>48724</th>\n",
       "      <td>2013</td>\n",
       "      <td>11</td>\n",
       "      <td>Homicide</td>\n",
       "      <td>0</td>\n",
       "      <td>M</td>\n",
       "      <td>0.0</td>\n",
       "      <td>White</td>\n",
       "      <td>100</td>\n",
       "      <td>Home</td>\n",
       "      <td>NaN</td>\n",
       "    </tr>\n",
       "    <tr>\n",
       "      <th>39631</th>\n",
       "      <td>2013</td>\n",
       "      <td>11</td>\n",
       "      <td>Homicide</td>\n",
       "      <td>0</td>\n",
       "      <td>F</td>\n",
       "      <td>1.0</td>\n",
       "      <td>Asian/Pacific Islander</td>\n",
       "      <td>100</td>\n",
       "      <td>Home</td>\n",
       "      <td>NaN</td>\n",
       "    </tr>\n",
       "    <tr>\n",
       "      <th>53144</th>\n",
       "      <td>2013</td>\n",
       "      <td>11</td>\n",
       "      <td>Accidental</td>\n",
       "      <td>0</td>\n",
       "      <td>M</td>\n",
       "      <td>4.0</td>\n",
       "      <td>White</td>\n",
       "      <td>100</td>\n",
       "      <td>Home</td>\n",
       "      <td>NaN</td>\n",
       "    </tr>\n",
       "    <tr>\n",
       "      <th>38577</th>\n",
       "      <td>2013</td>\n",
       "      <td>11</td>\n",
       "      <td>Suicide</td>\n",
       "      <td>0</td>\n",
       "      <td>M</td>\n",
       "      <td>15.0</td>\n",
       "      <td>Hispanic</td>\n",
       "      <td>210</td>\n",
       "      <td>Farm</td>\n",
       "      <td>5.0</td>\n",
       "    </tr>\n",
       "    <tr>\n",
       "      <th>36004</th>\n",
       "      <td>2013</td>\n",
       "      <td>12</td>\n",
       "      <td>Accidental</td>\n",
       "      <td>0</td>\n",
       "      <td>M</td>\n",
       "      <td>3.0</td>\n",
       "      <td>Hispanic</td>\n",
       "      <td>210</td>\n",
       "      <td>Home</td>\n",
       "      <td>5.0</td>\n",
       "    </tr>\n",
       "    <tr>\n",
       "      <th>85760</th>\n",
       "      <td>2014</td>\n",
       "      <td>1</td>\n",
       "      <td>Accidental</td>\n",
       "      <td>0</td>\n",
       "      <td>F</td>\n",
       "      <td>1.0</td>\n",
       "      <td>Black</td>\n",
       "      <td>100</td>\n",
       "      <td>Home</td>\n",
       "      <td>5.0</td>\n",
       "    </tr>\n",
       "    <tr>\n",
       "      <th>73654</th>\n",
       "      <td>2014</td>\n",
       "      <td>1</td>\n",
       "      <td>Homicide</td>\n",
       "      <td>0</td>\n",
       "      <td>M</td>\n",
       "      <td>15.0</td>\n",
       "      <td>White</td>\n",
       "      <td>100</td>\n",
       "      <td>Home</td>\n",
       "      <td>5.0</td>\n",
       "    </tr>\n",
       "    <tr>\n",
       "      <th>68193</th>\n",
       "      <td>2014</td>\n",
       "      <td>2</td>\n",
       "      <td>Accidental</td>\n",
       "      <td>0</td>\n",
       "      <td>M</td>\n",
       "      <td>5.0</td>\n",
       "      <td>White</td>\n",
       "      <td>100</td>\n",
       "      <td>Home</td>\n",
       "      <td>5.0</td>\n",
       "    </tr>\n",
       "    <tr>\n",
       "      <th>99453</th>\n",
       "      <td>2014</td>\n",
       "      <td>2</td>\n",
       "      <td>Suicide</td>\n",
       "      <td>0</td>\n",
       "      <td>M</td>\n",
       "      <td>14.0</td>\n",
       "      <td>White</td>\n",
       "      <td>100</td>\n",
       "      <td>Home</td>\n",
       "      <td>5.0</td>\n",
       "    </tr>\n",
       "    <tr>\n",
       "      <th>89702</th>\n",
       "      <td>2014</td>\n",
       "      <td>6</td>\n",
       "      <td>Homicide</td>\n",
       "      <td>0</td>\n",
       "      <td>M</td>\n",
       "      <td>2.0</td>\n",
       "      <td>Black</td>\n",
       "      <td>100</td>\n",
       "      <td>Home</td>\n",
       "      <td>5.0</td>\n",
       "    </tr>\n",
       "    <tr>\n",
       "      <th>98454</th>\n",
       "      <td>2014</td>\n",
       "      <td>6</td>\n",
       "      <td>Homicide</td>\n",
       "      <td>0</td>\n",
       "      <td>M</td>\n",
       "      <td>2.0</td>\n",
       "      <td>White</td>\n",
       "      <td>100</td>\n",
       "      <td>Home</td>\n",
       "      <td>NaN</td>\n",
       "    </tr>\n",
       "    <tr>\n",
       "      <th>82879</th>\n",
       "      <td>2014</td>\n",
       "      <td>7</td>\n",
       "      <td>Homicide</td>\n",
       "      <td>0</td>\n",
       "      <td>F</td>\n",
       "      <td>2.0</td>\n",
       "      <td>Black</td>\n",
       "      <td>100</td>\n",
       "      <td>Home</td>\n",
       "      <td>5.0</td>\n",
       "    </tr>\n",
       "    <tr>\n",
       "      <th>89809</th>\n",
       "      <td>2014</td>\n",
       "      <td>7</td>\n",
       "      <td>Homicide</td>\n",
       "      <td>0</td>\n",
       "      <td>M</td>\n",
       "      <td>15.0</td>\n",
       "      <td>Black</td>\n",
       "      <td>100</td>\n",
       "      <td>Home</td>\n",
       "      <td>5.0</td>\n",
       "    </tr>\n",
       "    <tr>\n",
       "      <th>82217</th>\n",
       "      <td>2014</td>\n",
       "      <td>8</td>\n",
       "      <td>Homicide</td>\n",
       "      <td>0</td>\n",
       "      <td>F</td>\n",
       "      <td>3.0</td>\n",
       "      <td>Black</td>\n",
       "      <td>100</td>\n",
       "      <td>Home</td>\n",
       "      <td>NaN</td>\n",
       "    </tr>\n",
       "    <tr>\n",
       "      <th>82248</th>\n",
       "      <td>2014</td>\n",
       "      <td>8</td>\n",
       "      <td>Homicide</td>\n",
       "      <td>0</td>\n",
       "      <td>F</td>\n",
       "      <td>3.0</td>\n",
       "      <td>Black</td>\n",
       "      <td>100</td>\n",
       "      <td>Home</td>\n",
       "      <td>NaN</td>\n",
       "    </tr>\n",
       "    <tr>\n",
       "      <th>98654</th>\n",
       "      <td>2014</td>\n",
       "      <td>8</td>\n",
       "      <td>Homicide</td>\n",
       "      <td>0</td>\n",
       "      <td>F</td>\n",
       "      <td>4.0</td>\n",
       "      <td>Black</td>\n",
       "      <td>100</td>\n",
       "      <td>Home</td>\n",
       "      <td>NaN</td>\n",
       "    </tr>\n",
       "    <tr>\n",
       "      <th>98656</th>\n",
       "      <td>2014</td>\n",
       "      <td>8</td>\n",
       "      <td>Homicide</td>\n",
       "      <td>0</td>\n",
       "      <td>F</td>\n",
       "      <td>6.0</td>\n",
       "      <td>Black</td>\n",
       "      <td>100</td>\n",
       "      <td>Home</td>\n",
       "      <td>NaN</td>\n",
       "    </tr>\n",
       "    <tr>\n",
       "      <th>98630</th>\n",
       "      <td>2014</td>\n",
       "      <td>9</td>\n",
       "      <td>Accidental</td>\n",
       "      <td>0</td>\n",
       "      <td>F</td>\n",
       "      <td>4.0</td>\n",
       "      <td>Black</td>\n",
       "      <td>100</td>\n",
       "      <td>Home</td>\n",
       "      <td>NaN</td>\n",
       "    </tr>\n",
       "    <tr>\n",
       "      <th>98842</th>\n",
       "      <td>2014</td>\n",
       "      <td>10</td>\n",
       "      <td>Homicide</td>\n",
       "      <td>0</td>\n",
       "      <td>M</td>\n",
       "      <td>2.0</td>\n",
       "      <td>Black</td>\n",
       "      <td>100</td>\n",
       "      <td>Home</td>\n",
       "      <td>NaN</td>\n",
       "    </tr>\n",
       "    <tr>\n",
       "      <th>100427</th>\n",
       "      <td>2014</td>\n",
       "      <td>11</td>\n",
       "      <td>Homicide</td>\n",
       "      <td>0</td>\n",
       "      <td>F</td>\n",
       "      <td>6.0</td>\n",
       "      <td>White</td>\n",
       "      <td>100</td>\n",
       "      <td>Street</td>\n",
       "      <td>NaN</td>\n",
       "    </tr>\n",
       "    <tr>\n",
       "      <th>94822</th>\n",
       "      <td>2014</td>\n",
       "      <td>12</td>\n",
       "      <td>Accidental</td>\n",
       "      <td>0</td>\n",
       "      <td>F</td>\n",
       "      <td>0.0</td>\n",
       "      <td>Black</td>\n",
       "      <td>100</td>\n",
       "      <td>Other unspecified</td>\n",
       "      <td>5.0</td>\n",
       "    </tr>\n",
       "    <tr>\n",
       "      <th>68134</th>\n",
       "      <td>2014</td>\n",
       "      <td>12</td>\n",
       "      <td>Accidental</td>\n",
       "      <td>0</td>\n",
       "      <td>M</td>\n",
       "      <td>3.0</td>\n",
       "      <td>Black</td>\n",
       "      <td>100</td>\n",
       "      <td>Home</td>\n",
       "      <td>NaN</td>\n",
       "    </tr>\n",
       "    <tr>\n",
       "      <th>93647</th>\n",
       "      <td>2014</td>\n",
       "      <td>12</td>\n",
       "      <td>Accidental</td>\n",
       "      <td>0</td>\n",
       "      <td>M</td>\n",
       "      <td>3.0</td>\n",
       "      <td>White</td>\n",
       "      <td>100</td>\n",
       "      <td>Other specified</td>\n",
       "      <td>5.0</td>\n",
       "    </tr>\n",
       "  </tbody>\n",
       "</table>\n",
       "<p>77 rows × 10 columns</p>\n",
       "</div>"
      ],
      "text/plain": [
       "        Year  Month      Intent  Police Sex   Age  \\\n",
       "Index                                               \n",
       "22146   2012      2    Homicide       0   F   1.0   \n",
       "13751   2012      2  Accidental       0   M   4.0   \n",
       "1626    2012      3    Homicide       0   M   0.0   \n",
       "13968   2012      3    Homicide       0   M   2.0   \n",
       "1627    2012      3    Homicide       0   M   3.0   \n",
       "14885   2012      3  Accidental       0   M   4.0   \n",
       "22237   2012      4    Homicide       0   M   2.0   \n",
       "495     2012      4    Homicide       0   F   5.0   \n",
       "1770    2012      5    Homicide       0   F   1.0   \n",
       "14018   2012      5    Homicide       0   M   3.0   \n",
       "22464   2012      5    Homicide       0   M   3.0   \n",
       "5727    2012      5    Homicide       0   M   4.0   \n",
       "32938   2012      5    Homicide       0   F   4.0   \n",
       "13890   2012      5    Homicide       0   F   5.0   \n",
       "32940   2012      5    Homicide       0   M   6.0   \n",
       "433     2012      6    Homicide       0   M   3.0   \n",
       "9493    2012      7  Accidental       0   M   0.0   \n",
       "15098   2012      7    Homicide       0   F   2.0   \n",
       "19289   2012      7    Homicide       0   M   3.0   \n",
       "31238   2012      7  Accidental       0   M   4.0   \n",
       "5929    2012      7    Homicide       0   F   6.0   \n",
       "14051   2012      7  Accidental       0   M   6.0   \n",
       "22704   2012      8    Homicide       0   F   1.0   \n",
       "22756   2012      8    Homicide       0   F   6.0   \n",
       "29601   2012      9  Accidental       0   M   0.0   \n",
       "31313   2012      9  Accidental       0   M   2.0   \n",
       "664     2012      9    Homicide       0   F   4.0   \n",
       "14274   2012      9     Suicide       0   M  15.0   \n",
       "22936   2012     10    Homicide       0   M   3.0   \n",
       "33094   2012     11    Homicide       0   F   3.0   \n",
       "...      ...    ...         ...     ...  ..   ...   \n",
       "60832   2013      7    Homicide       0   M   4.0   \n",
       "35648   2013      8    Homicide       0   M   0.0   \n",
       "57240   2013      8    Homicide       0   M   0.0   \n",
       "33655   2013      9    Homicide       0   M   2.0   \n",
       "53031   2013     10  Accidental       0   F   2.0   \n",
       "39510   2013     10  Accidental       0   M   3.0   \n",
       "47879   2013     11    Homicide       0   M   0.0   \n",
       "48724   2013     11    Homicide       0   M   0.0   \n",
       "39631   2013     11    Homicide       0   F   1.0   \n",
       "53144   2013     11  Accidental       0   M   4.0   \n",
       "38577   2013     11     Suicide       0   M  15.0   \n",
       "36004   2013     12  Accidental       0   M   3.0   \n",
       "85760   2014      1  Accidental       0   F   1.0   \n",
       "73654   2014      1    Homicide       0   M  15.0   \n",
       "68193   2014      2  Accidental       0   M   5.0   \n",
       "99453   2014      2     Suicide       0   M  14.0   \n",
       "89702   2014      6    Homicide       0   M   2.0   \n",
       "98454   2014      6    Homicide       0   M   2.0   \n",
       "82879   2014      7    Homicide       0   F   2.0   \n",
       "89809   2014      7    Homicide       0   M  15.0   \n",
       "82217   2014      8    Homicide       0   F   3.0   \n",
       "82248   2014      8    Homicide       0   F   3.0   \n",
       "98654   2014      8    Homicide       0   F   4.0   \n",
       "98656   2014      8    Homicide       0   F   6.0   \n",
       "98630   2014      9  Accidental       0   F   4.0   \n",
       "98842   2014     10    Homicide       0   M   2.0   \n",
       "100427  2014     11    Homicide       0   F   6.0   \n",
       "94822   2014     12  Accidental       0   F   0.0   \n",
       "68134   2014     12  Accidental       0   M   3.0   \n",
       "93647   2014     12  Accidental       0   M   3.0   \n",
       "\n",
       "                                  Race  Hispanic               Place  \\\n",
       "Index                                                                  \n",
       "22146                            Black       100  Trade/service area   \n",
       "13751                            Black       100                Home   \n",
       "1626                          Hispanic       210                Home   \n",
       "13968                            Black       100   Other unspecified   \n",
       "1627                          Hispanic       210                Home   \n",
       "14885                            Black       100                Home   \n",
       "22237                            White       100                Home   \n",
       "495                              White       100                Home   \n",
       "1770                          Hispanic       270                Home   \n",
       "14018                            White       100                Home   \n",
       "22464                            White       100                Home   \n",
       "5727                             White       100                Home   \n",
       "32938                            White       100   Other unspecified   \n",
       "13890                            Black       100              Street   \n",
       "32940                            White       100     Other specified   \n",
       "433                              White       100   Other unspecified   \n",
       "9493                             Black       100   Other unspecified   \n",
       "15098                            White       100                Home   \n",
       "19289                            White       100                Home   \n",
       "31238                            Black       100   Other unspecified   \n",
       "5929                             White       100   School/instiution   \n",
       "14051                            White       100                Home   \n",
       "22704                            Black       100                Home   \n",
       "22756                            Black       100     Other specified   \n",
       "29601                            Black       100   Other unspecified   \n",
       "31313                            White       100     Other specified   \n",
       "664                              Black       100                Home   \n",
       "14274                            Black       100                Home   \n",
       "22936                            White       100                Home   \n",
       "33094                            White       100                Farm   \n",
       "...                                ...       ...                 ...   \n",
       "60832                            White       100                Home   \n",
       "35648           Asian/Pacific Islander       100              Street   \n",
       "57240                         Hispanic       210                Home   \n",
       "33655   Native American/Native Alaskan       100                Home   \n",
       "53031                            Black       100                Home   \n",
       "39510                            White       100                Home   \n",
       "47879                            Black       100              Street   \n",
       "48724                            White       100                Home   \n",
       "39631           Asian/Pacific Islander       100                Home   \n",
       "53144                            White       100                Home   \n",
       "38577                         Hispanic       210                Farm   \n",
       "36004                         Hispanic       210                Home   \n",
       "85760                            Black       100                Home   \n",
       "73654                            White       100                Home   \n",
       "68193                            White       100                Home   \n",
       "99453                            White       100                Home   \n",
       "89702                            Black       100                Home   \n",
       "98454                            White       100                Home   \n",
       "82879                            Black       100                Home   \n",
       "89809                            Black       100                Home   \n",
       "82217                            Black       100                Home   \n",
       "82248                            Black       100                Home   \n",
       "98654                            Black       100                Home   \n",
       "98656                            Black       100                Home   \n",
       "98630                            Black       100                Home   \n",
       "98842                            Black       100                Home   \n",
       "100427                           White       100              Street   \n",
       "94822                            Black       100   Other unspecified   \n",
       "68134                            Black       100                Home   \n",
       "93647                            White       100     Other specified   \n",
       "\n",
       "        Education  \n",
       "Index              \n",
       "22146         5.0  \n",
       "13751         NaN  \n",
       "1626          5.0  \n",
       "13968         NaN  \n",
       "1627          5.0  \n",
       "14885         NaN  \n",
       "22237         5.0  \n",
       "495           NaN  \n",
       "1770          5.0  \n",
       "14018         NaN  \n",
       "22464         5.0  \n",
       "5727          NaN  \n",
       "32938         NaN  \n",
       "13890         NaN  \n",
       "32940         NaN  \n",
       "433           NaN  \n",
       "9493          5.0  \n",
       "15098         NaN  \n",
       "19289         NaN  \n",
       "31238         NaN  \n",
       "5929          NaN  \n",
       "14051         NaN  \n",
       "22704         5.0  \n",
       "22756         5.0  \n",
       "29601         5.0  \n",
       "31313         NaN  \n",
       "664           NaN  \n",
       "14274         5.0  \n",
       "22936         5.0  \n",
       "33094         NaN  \n",
       "...           ...  \n",
       "60832         5.0  \n",
       "35648         5.0  \n",
       "57240         5.0  \n",
       "33655         NaN  \n",
       "53031         NaN  \n",
       "39510         NaN  \n",
       "47879         5.0  \n",
       "48724         NaN  \n",
       "39631         NaN  \n",
       "53144         NaN  \n",
       "38577         5.0  \n",
       "36004         5.0  \n",
       "85760         5.0  \n",
       "73654         5.0  \n",
       "68193         5.0  \n",
       "99453         5.0  \n",
       "89702         5.0  \n",
       "98454         NaN  \n",
       "82879         5.0  \n",
       "89809         5.0  \n",
       "82217         NaN  \n",
       "82248         NaN  \n",
       "98654         NaN  \n",
       "98656         NaN  \n",
       "98630         NaN  \n",
       "98842         NaN  \n",
       "100427        NaN  \n",
       "94822         5.0  \n",
       "68134         NaN  \n",
       "93647         5.0  \n",
       "\n",
       "[77 rows x 10 columns]"
      ]
     },
     "execution_count": 16,
     "metadata": {},
     "output_type": "execute_result"
    }
   ],
   "source": [
    "guns[(guns['Age'] < 16) & ((guns['Education'].isnull()) | (guns['Education'] == 5.0))]"
   ]
  },
  {
   "cell_type": "code",
   "execution_count": 17,
   "metadata": {
    "collapsed": false,
    "scrolled": true
   },
   "outputs": [
    {
     "data": {
      "text/html": [
       "<div>\n",
       "<table border=\"1\" class=\"dataframe\">\n",
       "  <thead>\n",
       "    <tr style=\"text-align: right;\">\n",
       "      <th></th>\n",
       "      <th>Year</th>\n",
       "      <th>Month</th>\n",
       "      <th>Intent</th>\n",
       "      <th>Police</th>\n",
       "      <th>Sex</th>\n",
       "      <th>Age</th>\n",
       "      <th>Race</th>\n",
       "      <th>Hispanic</th>\n",
       "      <th>Place</th>\n",
       "      <th>Education</th>\n",
       "    </tr>\n",
       "    <tr>\n",
       "      <th>Index</th>\n",
       "      <th></th>\n",
       "      <th></th>\n",
       "      <th></th>\n",
       "      <th></th>\n",
       "      <th></th>\n",
       "      <th></th>\n",
       "      <th></th>\n",
       "      <th></th>\n",
       "      <th></th>\n",
       "      <th></th>\n",
       "    </tr>\n",
       "  </thead>\n",
       "  <tbody>\n",
       "    <tr>\n",
       "      <th>18803</th>\n",
       "      <td>2012</td>\n",
       "      <td>2</td>\n",
       "      <td>Suicide</td>\n",
       "      <td>0</td>\n",
       "      <td>M</td>\n",
       "      <td>35.0</td>\n",
       "      <td>Hispanic</td>\n",
       "      <td>211</td>\n",
       "      <td>Home</td>\n",
       "      <td>NaN</td>\n",
       "    </tr>\n",
       "    <tr>\n",
       "      <th>18812</th>\n",
       "      <td>2012</td>\n",
       "      <td>2</td>\n",
       "      <td>Suicide</td>\n",
       "      <td>0</td>\n",
       "      <td>M</td>\n",
       "      <td>72.0</td>\n",
       "      <td>White</td>\n",
       "      <td>100</td>\n",
       "      <td>Other unspecified</td>\n",
       "      <td>NaN</td>\n",
       "    </tr>\n",
       "    <tr>\n",
       "      <th>5765</th>\n",
       "      <td>2012</td>\n",
       "      <td>6</td>\n",
       "      <td>Homicide</td>\n",
       "      <td>0</td>\n",
       "      <td>M</td>\n",
       "      <td>27.0</td>\n",
       "      <td>Hispanic</td>\n",
       "      <td>211</td>\n",
       "      <td>Home</td>\n",
       "      <td>NaN</td>\n",
       "    </tr>\n",
       "    <tr>\n",
       "      <th>32965</th>\n",
       "      <td>2012</td>\n",
       "      <td>7</td>\n",
       "      <td>Suicide</td>\n",
       "      <td>0</td>\n",
       "      <td>M</td>\n",
       "      <td>47.0</td>\n",
       "      <td>White</td>\n",
       "      <td>100</td>\n",
       "      <td>Home</td>\n",
       "      <td>NaN</td>\n",
       "    </tr>\n",
       "    <tr>\n",
       "      <th>32650</th>\n",
       "      <td>2012</td>\n",
       "      <td>8</td>\n",
       "      <td>Homicide</td>\n",
       "      <td>0</td>\n",
       "      <td>M</td>\n",
       "      <td>29.0</td>\n",
       "      <td>Hispanic</td>\n",
       "      <td>211</td>\n",
       "      <td>Street</td>\n",
       "      <td>NaN</td>\n",
       "    </tr>\n",
       "    <tr>\n",
       "      <th>66179</th>\n",
       "      <td>2013</td>\n",
       "      <td>4</td>\n",
       "      <td>Homicide</td>\n",
       "      <td>0</td>\n",
       "      <td>M</td>\n",
       "      <td>58.0</td>\n",
       "      <td>Asian/Pacific Islander</td>\n",
       "      <td>100</td>\n",
       "      <td>Home</td>\n",
       "      <td>NaN</td>\n",
       "    </tr>\n",
       "    <tr>\n",
       "      <th>66733</th>\n",
       "      <td>2013</td>\n",
       "      <td>8</td>\n",
       "      <td>Suicide</td>\n",
       "      <td>0</td>\n",
       "      <td>M</td>\n",
       "      <td>72.0</td>\n",
       "      <td>White</td>\n",
       "      <td>100</td>\n",
       "      <td>Other specified</td>\n",
       "      <td>NaN</td>\n",
       "    </tr>\n",
       "    <tr>\n",
       "      <th>39490</th>\n",
       "      <td>2013</td>\n",
       "      <td>10</td>\n",
       "      <td>Suicide</td>\n",
       "      <td>0</td>\n",
       "      <td>M</td>\n",
       "      <td>62.0</td>\n",
       "      <td>Hispanic</td>\n",
       "      <td>211</td>\n",
       "      <td>Other specified</td>\n",
       "      <td>NaN</td>\n",
       "    </tr>\n",
       "    <tr>\n",
       "      <th>53193</th>\n",
       "      <td>2013</td>\n",
       "      <td>12</td>\n",
       "      <td>Accidental</td>\n",
       "      <td>0</td>\n",
       "      <td>M</td>\n",
       "      <td>68.0</td>\n",
       "      <td>White</td>\n",
       "      <td>100</td>\n",
       "      <td>Other unspecified</td>\n",
       "      <td>NaN</td>\n",
       "    </tr>\n",
       "    <tr>\n",
       "      <th>72570</th>\n",
       "      <td>2014</td>\n",
       "      <td>1</td>\n",
       "      <td>Suicide</td>\n",
       "      <td>0</td>\n",
       "      <td>M</td>\n",
       "      <td>41.0</td>\n",
       "      <td>White</td>\n",
       "      <td>100</td>\n",
       "      <td>Home</td>\n",
       "      <td>NaN</td>\n",
       "    </tr>\n",
       "    <tr>\n",
       "      <th>98263</th>\n",
       "      <td>2014</td>\n",
       "      <td>4</td>\n",
       "      <td>Homicide</td>\n",
       "      <td>0</td>\n",
       "      <td>M</td>\n",
       "      <td>51.0</td>\n",
       "      <td>White</td>\n",
       "      <td>100</td>\n",
       "      <td>Home</td>\n",
       "      <td>NaN</td>\n",
       "    </tr>\n",
       "  </tbody>\n",
       "</table>\n",
       "</div>"
      ],
      "text/plain": [
       "       Year  Month      Intent  Police Sex   Age                    Race  \\\n",
       "Index                                                                      \n",
       "18803  2012      2     Suicide       0   M  35.0                Hispanic   \n",
       "18812  2012      2     Suicide       0   M  72.0                   White   \n",
       "5765   2012      6    Homicide       0   M  27.0                Hispanic   \n",
       "32965  2012      7     Suicide       0   M  47.0                   White   \n",
       "32650  2012      8    Homicide       0   M  29.0                Hispanic   \n",
       "66179  2013      4    Homicide       0   M  58.0  Asian/Pacific Islander   \n",
       "66733  2013      8     Suicide       0   M  72.0                   White   \n",
       "39490  2013     10     Suicide       0   M  62.0                Hispanic   \n",
       "53193  2013     12  Accidental       0   M  68.0                   White   \n",
       "72570  2014      1     Suicide       0   M  41.0                   White   \n",
       "98263  2014      4    Homicide       0   M  51.0                   White   \n",
       "\n",
       "       Hispanic              Place  Education  \n",
       "Index                                          \n",
       "18803       211               Home        NaN  \n",
       "18812       100  Other unspecified        NaN  \n",
       "5765        211               Home        NaN  \n",
       "32965       100               Home        NaN  \n",
       "32650       211             Street        NaN  \n",
       "66179       100               Home        NaN  \n",
       "66733       100    Other specified        NaN  \n",
       "39490       211    Other specified        NaN  \n",
       "53193       100  Other unspecified        NaN  \n",
       "72570       100               Home        NaN  \n",
       "98263       100               Home        NaN  "
      ]
     },
     "execution_count": 17,
     "metadata": {},
     "output_type": "execute_result"
    }
   ],
   "source": [
    "index_temp = guns[(guns['Age'] < 16) & \n",
    "                  ((guns['Education'].isnull()) | (guns['Education'] == 5.0))].index\n",
    "guns.loc[index_temp, 'Education'] = 1.0\n",
    "guns[guns.Education.isnull()]"
   ]
  },
  {
   "cell_type": "markdown",
   "metadata": {},
   "source": [
    "In fact, having a 2 year old catagorized under the same education level as a 16 year old (1.0= Under high schools) does not make sence. Let's catagorize children under 5 as 0.0 (= Less than elementary school)."
   ]
  },
  {
   "cell_type": "code",
   "execution_count": 18,
   "metadata": {
    "collapsed": false,
    "scrolled": false
   },
   "outputs": [
    {
     "data": {
      "text/plain": [
       "count    100787.000000\n",
       "mean          2.292032\n",
       "std           0.993588\n",
       "min           0.000000\n",
       "25%           2.000000\n",
       "50%           2.000000\n",
       "75%           3.000000\n",
       "max           5.000000\n",
       "Name: Education, dtype: float64"
      ]
     },
     "execution_count": 18,
     "metadata": {},
     "output_type": "execute_result"
    }
   ],
   "source": [
    "index_temp = guns[(guns['Age'] < 5)].index\n",
    "guns.loc[index_temp, 'Education'] = 0.0\n",
    "guns.Education.describe()"
   ]
  },
  {
   "cell_type": "markdown",
   "metadata": {},
   "source": [
    "Let's get rid of rows that has '5.0' (Not available) and NaN in the 'education' column:"
   ]
  },
  {
   "cell_type": "code",
   "execution_count": 19,
   "metadata": {
    "collapsed": false,
    "scrolled": true
   },
   "outputs": [
    {
     "data": {
      "text/plain": [
       "2.0    42258\n",
       "3.0    21430\n",
       "1.0    21284\n",
       "4.0    12879\n",
       "0.0      241\n",
       "Name: Education, dtype: int64"
      ]
     },
     "execution_count": 19,
     "metadata": {},
     "output_type": "execute_result"
    }
   ],
   "source": [
    "# subset = can include a list of column names\n",
    "guns.dropna(inplace=True)\n",
    "guns = guns[guns.Education != 5.0]\n",
    "\n",
    "guns.Education.value_counts()"
   ]
  },
  {
   "cell_type": "markdown",
   "metadata": {},
   "source": [
    "Another way to get insights about the DataFrame is to look at the **unique()** values in the columns. I chose to leave out the columns 'age' and index:"
   ]
  },
  {
   "cell_type": "code",
   "execution_count": 20,
   "metadata": {
    "collapsed": false,
    "scrolled": true
   },
   "outputs": [
    {
     "name": "stdout",
     "output_type": "stream",
     "text": [
      "Year :  [2012 2013 2014]\n",
      "Month :  [ 1  2  3  4  5  6  7  8  9 10 11 12]\n",
      "Intent :  ['Homicide' 'Suicide' 'Undetermined' 'Accidental']\n",
      "Police :  [0 1]\n",
      "Sex :  ['M' 'F']\n",
      "Race :  ['Black' 'Hispanic' 'White' 'Asian/Pacific Islander'\n",
      " 'Native American/Native Alaskan']\n",
      "Hispanic :  [100 210 260 275 223 211 282 226 220 998 270 281 271 261 222 231 239 250\n",
      " 200 225 280 234 235 237 299 227 233 224 221 286 242 212 291 252 232 217\n",
      " 209 218 238]\n",
      "Place :  ['Home' 'Other specified' 'Street' 'School/instiution' 'Other unspecified'\n",
      " 'Farm' 'Trade/service area' 'Residential institution' 'Sports'\n",
      " 'Industrial/construction']\n",
      "Education :  [ 0.  1.  2.  3.  4.]\n"
     ]
    }
   ],
   "source": [
    "for col in guns.columns:\n",
    "    if col not in ['Age', '']:\n",
    "        print col, ': ', guns[col].unique()"
   ]
  },
  {
   "cell_type": "markdown",
   "metadata": {},
   "source": [
    "Gender comparison:"
   ]
  },
  {
   "cell_type": "code",
   "execution_count": 21,
   "metadata": {
    "collapsed": false
   },
   "outputs": [
    {
     "data": {
      "text/plain": [
       "M    83883\n",
       "F    14209\n",
       "Name: Sex, dtype: int64"
      ]
     },
     "execution_count": 21,
     "metadata": {},
     "output_type": "execute_result"
    }
   ],
   "source": [
    "guns.Sex.value_counts()"
   ]
  },
  {
   "cell_type": "markdown",
   "metadata": {},
   "source": [
    "We can use this column to split the percentage of Male/Female death cases:"
   ]
  },
  {
   "cell_type": "code",
   "execution_count": 22,
   "metadata": {
    "collapsed": false,
    "scrolled": false
   },
   "outputs": [
    {
     "data": {
      "text/plain": [
       "M    0.855146\n",
       "F    0.144854\n",
       "Name: Sex, dtype: float64"
      ]
     },
     "execution_count": 22,
     "metadata": {},
     "output_type": "execute_result"
    }
   ],
   "source": [
    "guns.Sex.value_counts(normalize=True)"
   ]
  },
  {
   "cell_type": "markdown",
   "metadata": {},
   "source": [
    "The normalized values and the count values seem similar since there are close to 100,000 rows in the data set. "
   ]
  },
  {
   "cell_type": "markdown",
   "metadata": {},
   "source": [
    "**Question:** Compare yearly number of deaths: rising or decending? "
   ]
  },
  {
   "cell_type": "code",
   "execution_count": 23,
   "metadata": {
    "collapsed": false,
    "scrolled": true
   },
   "outputs": [
    {
     "data": {
      "text/plain": [
       "2012    32646\n",
       "2013    32758\n",
       "2014    32688\n",
       "Name: Year, dtype: int64"
      ]
     },
     "execution_count": 23,
     "metadata": {},
     "output_type": "execute_result"
    }
   ],
   "source": [
    "guns.Year.value_counts(sort=False)"
   ]
  },
  {
   "cell_type": "code",
   "execution_count": 24,
   "metadata": {
    "collapsed": false
   },
   "outputs": [
    {
     "data": {
      "text/plain": [
       "2012    0.000000\n",
       "2013    0.343074\n",
       "2014    0.128653\n",
       "Name: Year, dtype: float64"
      ]
     },
     "execution_count": 24,
     "metadata": {},
     "output_type": "execute_result"
    }
   ],
   "source": [
    "# evaluating the percentage change between years\n",
    "n2012 = guns[2012 == guns['Year']].shape[0]\n",
    "(guns.Year.value_counts(sort=False) - n2012) * 100./ n2012"
   ]
  },
  {
   "cell_type": "markdown",
   "metadata": {},
   "source": [
    "**Answer:** Seems like it stays about the same. The change does not look significant (<0.3%) by looking at the values."
   ]
  },
  {
   "cell_type": "markdown",
   "metadata": {},
   "source": [
    "**Question: **Are there certain months with significally more/less gun deaths than others?"
   ]
  },
  {
   "cell_type": "code",
   "execution_count": 25,
   "metadata": {
    "collapsed": false,
    "scrolled": false
   },
   "outputs": [
    {
     "data": {
      "text/plain": [
       "7     8747\n",
       "8     8520\n",
       "5     8429\n",
       "6     8424\n",
       "9     8305\n",
       "4     8211\n",
       "12    8186\n",
       "10    8185\n",
       "3     8085\n",
       "1     8061\n",
       "11    8033\n",
       "2     6906\n",
       "Name: Month, dtype: int64"
      ]
     },
     "execution_count": 25,
     "metadata": {},
     "output_type": "execute_result"
    }
   ],
   "source": [
    "guns.Month.value_counts(sort=True)"
   ]
  },
  {
   "cell_type": "code",
   "execution_count": 26,
   "metadata": {
    "collapsed": false
   },
   "outputs": [
    {
     "data": {
      "text/plain": [
       "7      7.005668\n",
       "8      4.228683\n",
       "5      3.115443\n",
       "6      3.054276\n",
       "9      1.598499\n",
       "4      0.448558\n",
       "12     0.142723\n",
       "10     0.130490\n",
       "3     -1.092852\n",
       "1     -1.386454\n",
       "11    -1.728989\n",
       "2    -15.516046\n",
       "Name: Month, dtype: float64"
      ]
     },
     "execution_count": 26,
     "metadata": {},
     "output_type": "execute_result"
    }
   ],
   "source": [
    "nexpected_month = guns.shape[0]/12.\n",
    "(guns.Month.value_counts(sort=True) - nexpected_month) * 100./nexpected_month"
   ]
  },
  {
   "cell_type": "markdown",
   "metadata": {},
   "source": [
    "**Answer:** It seems February has around 15% less gun deaths than the expected (Is it its length, the weather, a different reason or a combination of all? If we want to further investigate this - we can to look at the 'location' column to see if most gun deaths in certain months occured outside/inside).\n",
    "\n",
    "Also, we see July has 7% more than expected year-wide, way above anything month. \n",
    "\n",
    "This is not accurate since we're not taking in account the number of days in each month. We could devide it by number of days in each month, but 2012 was a leap year which changes the number for february. \n",
    "\n",
    "The best practice is to convert the month values to datetime objects. "
   ]
  },
  {
   "cell_type": "markdown",
   "metadata": {},
   "source": [
    "**Season/Month analysis:** Since we're dealing with dates, let's arrange the data by year and month: "
   ]
  },
  {
   "cell_type": "code",
   "execution_count": 27,
   "metadata": {
    "collapsed": false
   },
   "outputs": [
    {
     "data": {
      "text/html": [
       "<div>\n",
       "<table border=\"1\" class=\"dataframe\">\n",
       "  <thead>\n",
       "    <tr style=\"text-align: right;\">\n",
       "      <th></th>\n",
       "      <th>Year</th>\n",
       "      <th>Month</th>\n",
       "      <th>Intent</th>\n",
       "      <th>Police</th>\n",
       "      <th>Sex</th>\n",
       "      <th>Age</th>\n",
       "      <th>Race</th>\n",
       "      <th>Hispanic</th>\n",
       "      <th>Place</th>\n",
       "      <th>Education</th>\n",
       "    </tr>\n",
       "    <tr>\n",
       "      <th>Index</th>\n",
       "      <th></th>\n",
       "      <th></th>\n",
       "      <th></th>\n",
       "      <th></th>\n",
       "      <th></th>\n",
       "      <th></th>\n",
       "      <th></th>\n",
       "      <th></th>\n",
       "      <th></th>\n",
       "      <th></th>\n",
       "    </tr>\n",
       "  </thead>\n",
       "  <tbody>\n",
       "    <tr>\n",
       "      <th>6579</th>\n",
       "      <td>2012</td>\n",
       "      <td>1</td>\n",
       "      <td>Homicide</td>\n",
       "      <td>0</td>\n",
       "      <td>M</td>\n",
       "      <td>0.0</td>\n",
       "      <td>Black</td>\n",
       "      <td>100</td>\n",
       "      <td>Home</td>\n",
       "      <td>0.0</td>\n",
       "    </tr>\n",
       "    <tr>\n",
       "      <th>2492</th>\n",
       "      <td>2012</td>\n",
       "      <td>1</td>\n",
       "      <td>Homicide</td>\n",
       "      <td>0</td>\n",
       "      <td>F</td>\n",
       "      <td>1.0</td>\n",
       "      <td>Hispanic</td>\n",
       "      <td>210</td>\n",
       "      <td>Home</td>\n",
       "      <td>0.0</td>\n",
       "    </tr>\n",
       "    <tr>\n",
       "      <th>2589</th>\n",
       "      <td>2012</td>\n",
       "      <td>1</td>\n",
       "      <td>Homicide</td>\n",
       "      <td>0</td>\n",
       "      <td>M</td>\n",
       "      <td>2.0</td>\n",
       "      <td>Hispanic</td>\n",
       "      <td>210</td>\n",
       "      <td>Home</td>\n",
       "      <td>0.0</td>\n",
       "    </tr>\n",
       "    <tr>\n",
       "      <th>10772</th>\n",
       "      <td>2012</td>\n",
       "      <td>1</td>\n",
       "      <td>Homicide</td>\n",
       "      <td>0</td>\n",
       "      <td>F</td>\n",
       "      <td>2.0</td>\n",
       "      <td>Black</td>\n",
       "      <td>100</td>\n",
       "      <td>Home</td>\n",
       "      <td>0.0</td>\n",
       "    </tr>\n",
       "    <tr>\n",
       "      <th>2493</th>\n",
       "      <td>2012</td>\n",
       "      <td>1</td>\n",
       "      <td>Homicide</td>\n",
       "      <td>0</td>\n",
       "      <td>M</td>\n",
       "      <td>3.0</td>\n",
       "      <td>Hispanic</td>\n",
       "      <td>210</td>\n",
       "      <td>Home</td>\n",
       "      <td>0.0</td>\n",
       "    </tr>\n",
       "  </tbody>\n",
       "</table>\n",
       "</div>"
      ],
      "text/plain": [
       "       Year  Month    Intent  Police Sex  Age      Race  Hispanic Place  \\\n",
       "Index                                                                     \n",
       "6579   2012      1  Homicide       0   M  0.0     Black       100  Home   \n",
       "2492   2012      1  Homicide       0   F  1.0  Hispanic       210  Home   \n",
       "2589   2012      1  Homicide       0   M  2.0  Hispanic       210  Home   \n",
       "10772  2012      1  Homicide       0   F  2.0     Black       100  Home   \n",
       "2493   2012      1  Homicide       0   M  3.0  Hispanic       210  Home   \n",
       "\n",
       "       Education  \n",
       "Index             \n",
       "6579         0.0  \n",
       "2492         0.0  \n",
       "2589         0.0  \n",
       "10772        0.0  \n",
       "2493         0.0  "
      ]
     },
     "execution_count": 27,
     "metadata": {},
     "output_type": "execute_result"
    }
   ],
   "source": [
    "guns.sort_values(['Year', 'Month'], inplace=True)\n",
    "guns.head()"
   ]
  },
  {
   "cell_type": "markdown",
   "metadata": {},
   "source": [
    "A date object implies year, month and day. **We cannot create a datetime object without a day**, but for the sake of practice - let's combine the 2 date values (of type int64) into one datetime object, and assign '1' in the day value."
   ]
  },
  {
   "cell_type": "code",
   "execution_count": 28,
   "metadata": {
    "collapsed": true
   },
   "outputs": [],
   "source": [
    "import datetime"
   ]
  },
  {
   "cell_type": "code",
   "execution_count": 29,
   "metadata": {
    "collapsed": false,
    "scrolled": true
   },
   "outputs": [
    {
     "data": {
      "text/plain": [
       "Date    datetime64[ns]\n",
       "dtype: object"
      ]
     },
     "execution_count": 29,
     "metadata": {},
     "output_type": "execute_result"
    }
   ],
   "source": [
    "# The purpose of *10000 and the *100 are to convert 2012, 01, 01 into 20120101 for readability\n",
    "guns['Date'] = pd.to_datetime((guns.Year * 10000 + guns.Month * 100 + 1).apply(str),format='%Y%m%d')\n",
    "guns.dtypes.tail(1)"
   ]
  },
  {
   "cell_type": "code",
   "execution_count": 30,
   "metadata": {
    "collapsed": false,
    "scrolled": true
   },
   "outputs": [
    {
     "data": {
      "text/html": [
       "<div>\n",
       "<table border=\"1\" class=\"dataframe\">\n",
       "  <thead>\n",
       "    <tr style=\"text-align: right;\">\n",
       "      <th></th>\n",
       "      <th>Intent</th>\n",
       "      <th>Police</th>\n",
       "      <th>Sex</th>\n",
       "      <th>Age</th>\n",
       "      <th>Race</th>\n",
       "      <th>Hispanic</th>\n",
       "      <th>Place</th>\n",
       "      <th>Education</th>\n",
       "      <th>Date</th>\n",
       "    </tr>\n",
       "    <tr>\n",
       "      <th>Index</th>\n",
       "      <th></th>\n",
       "      <th></th>\n",
       "      <th></th>\n",
       "      <th></th>\n",
       "      <th></th>\n",
       "      <th></th>\n",
       "      <th></th>\n",
       "      <th></th>\n",
       "      <th></th>\n",
       "    </tr>\n",
       "  </thead>\n",
       "  <tbody>\n",
       "    <tr>\n",
       "      <th>6579</th>\n",
       "      <td>Homicide</td>\n",
       "      <td>0</td>\n",
       "      <td>M</td>\n",
       "      <td>0.0</td>\n",
       "      <td>Black</td>\n",
       "      <td>100</td>\n",
       "      <td>Home</td>\n",
       "      <td>0.0</td>\n",
       "      <td>2012-01-01</td>\n",
       "    </tr>\n",
       "    <tr>\n",
       "      <th>2492</th>\n",
       "      <td>Homicide</td>\n",
       "      <td>0</td>\n",
       "      <td>F</td>\n",
       "      <td>1.0</td>\n",
       "      <td>Hispanic</td>\n",
       "      <td>210</td>\n",
       "      <td>Home</td>\n",
       "      <td>0.0</td>\n",
       "      <td>2012-01-01</td>\n",
       "    </tr>\n",
       "    <tr>\n",
       "      <th>2589</th>\n",
       "      <td>Homicide</td>\n",
       "      <td>0</td>\n",
       "      <td>M</td>\n",
       "      <td>2.0</td>\n",
       "      <td>Hispanic</td>\n",
       "      <td>210</td>\n",
       "      <td>Home</td>\n",
       "      <td>0.0</td>\n",
       "      <td>2012-01-01</td>\n",
       "    </tr>\n",
       "    <tr>\n",
       "      <th>10772</th>\n",
       "      <td>Homicide</td>\n",
       "      <td>0</td>\n",
       "      <td>F</td>\n",
       "      <td>2.0</td>\n",
       "      <td>Black</td>\n",
       "      <td>100</td>\n",
       "      <td>Home</td>\n",
       "      <td>0.0</td>\n",
       "      <td>2012-01-01</td>\n",
       "    </tr>\n",
       "    <tr>\n",
       "      <th>2493</th>\n",
       "      <td>Homicide</td>\n",
       "      <td>0</td>\n",
       "      <td>M</td>\n",
       "      <td>3.0</td>\n",
       "      <td>Hispanic</td>\n",
       "      <td>210</td>\n",
       "      <td>Home</td>\n",
       "      <td>0.0</td>\n",
       "      <td>2012-01-01</td>\n",
       "    </tr>\n",
       "  </tbody>\n",
       "</table>\n",
       "</div>"
      ],
      "text/plain": [
       "         Intent  Police Sex  Age      Race  Hispanic Place  Education  \\\n",
       "Index                                                                   \n",
       "6579   Homicide       0   M  0.0     Black       100  Home        0.0   \n",
       "2492   Homicide       0   F  1.0  Hispanic       210  Home        0.0   \n",
       "2589   Homicide       0   M  2.0  Hispanic       210  Home        0.0   \n",
       "10772  Homicide       0   F  2.0     Black       100  Home        0.0   \n",
       "2493   Homicide       0   M  3.0  Hispanic       210  Home        0.0   \n",
       "\n",
       "            Date  \n",
       "Index             \n",
       "6579  2012-01-01  \n",
       "2492  2012-01-01  \n",
       "2589  2012-01-01  \n",
       "10772 2012-01-01  \n",
       "2493  2012-01-01  "
      ]
     },
     "execution_count": 30,
     "metadata": {},
     "output_type": "execute_result"
    }
   ],
   "source": [
    "# now that we're done with these columns:\n",
    "del guns['Year']\n",
    "del guns['Month']\n",
    "guns.head()"
   ]
  },
  {
   "cell_type": "code",
   "execution_count": 31,
   "metadata": {
    "collapsed": true
   },
   "outputs": [],
   "source": [
    "import calendar"
   ]
  },
  {
   "cell_type": "code",
   "execution_count": 32,
   "metadata": {
    "collapsed": false,
    "scrolled": true
   },
   "outputs": [
    {
     "name": "stdout",
     "output_type": "stream",
     "text": [
      "datetime64[ns]\n",
      "(36, 1)\n"
     ]
    },
    {
     "data": {
      "text/html": [
       "<div>\n",
       "<table border=\"1\" class=\"dataframe\">\n",
       "  <thead>\n",
       "    <tr style=\"text-align: right;\">\n",
       "      <th></th>\n",
       "      <th>Count</th>\n",
       "    </tr>\n",
       "    <tr>\n",
       "      <th>Date</th>\n",
       "      <th></th>\n",
       "    </tr>\n",
       "  </thead>\n",
       "  <tbody>\n",
       "    <tr>\n",
       "      <th>2012-01-01</th>\n",
       "      <td>2695</td>\n",
       "    </tr>\n",
       "    <tr>\n",
       "      <th>2012-02-01</th>\n",
       "      <td>2283</td>\n",
       "    </tr>\n",
       "    <tr>\n",
       "      <th>2012-03-01</th>\n",
       "      <td>2678</td>\n",
       "    </tr>\n",
       "    <tr>\n",
       "      <th>2012-04-01</th>\n",
       "      <td>2721</td>\n",
       "    </tr>\n",
       "    <tr>\n",
       "      <th>2012-05-01</th>\n",
       "      <td>2928</td>\n",
       "    </tr>\n",
       "  </tbody>\n",
       "</table>\n",
       "</div>"
      ],
      "text/plain": [
       "            Count\n",
       "Date             \n",
       "2012-01-01   2695\n",
       "2012-02-01   2283\n",
       "2012-03-01   2678\n",
       "2012-04-01   2721\n",
       "2012-05-01   2928"
      ]
     },
     "execution_count": 32,
     "metadata": {},
     "output_type": "execute_result"
    }
   ],
   "source": [
    "monthly_rates = pd.DataFrame(guns.groupby('Date').size(), columns=['Count'])\n",
    "monthly_rates.index.to_datetime\n",
    "print monthly_rates.index.dtype\n",
    "print monthly_rates.shape\n",
    "monthly_rates.head()"
   ]
  },
  {
   "cell_type": "code",
   "execution_count": 33,
   "metadata": {
    "collapsed": false,
    "scrolled": true
   },
   "outputs": [
    {
     "data": {
      "text/html": [
       "<div>\n",
       "<table border=\"1\" class=\"dataframe\">\n",
       "  <thead>\n",
       "    <tr style=\"text-align: right;\">\n",
       "      <th></th>\n",
       "      <th>Count</th>\n",
       "      <th>Days_per_month</th>\n",
       "    </tr>\n",
       "    <tr>\n",
       "      <th>Date</th>\n",
       "      <th></th>\n",
       "      <th></th>\n",
       "    </tr>\n",
       "  </thead>\n",
       "  <tbody>\n",
       "    <tr>\n",
       "      <th>2012-01-01</th>\n",
       "      <td>2695</td>\n",
       "      <td>31</td>\n",
       "    </tr>\n",
       "    <tr>\n",
       "      <th>2012-02-01</th>\n",
       "      <td>2283</td>\n",
       "      <td>29</td>\n",
       "    </tr>\n",
       "    <tr>\n",
       "      <th>2012-03-01</th>\n",
       "      <td>2678</td>\n",
       "      <td>31</td>\n",
       "    </tr>\n",
       "    <tr>\n",
       "      <th>2012-04-01</th>\n",
       "      <td>2721</td>\n",
       "      <td>30</td>\n",
       "    </tr>\n",
       "    <tr>\n",
       "      <th>2012-05-01</th>\n",
       "      <td>2928</td>\n",
       "      <td>31</td>\n",
       "    </tr>\n",
       "  </tbody>\n",
       "</table>\n",
       "</div>"
      ],
      "text/plain": [
       "            Count  Days_per_month\n",
       "Date                             \n",
       "2012-01-01   2695              31\n",
       "2012-02-01   2283              29\n",
       "2012-03-01   2678              31\n",
       "2012-04-01   2721              30\n",
       "2012-05-01   2928              31"
      ]
     },
     "execution_count": 33,
     "metadata": {},
     "output_type": "execute_result"
    }
   ],
   "source": [
    "days_per_month = []\n",
    "for val in monthly_rates.index:\n",
    "    days_per_month.append(calendar.monthrange(val.year, val.month)[1])\n",
    "monthly_rates['Days_per_month'] = days_per_month\n",
    "monthly_rates.head()"
   ]
  },
  {
   "cell_type": "markdown",
   "metadata": {},
   "source": [
    "Note: another way to do this is to set the 'day' in each date as the last day of each month [instead of the first day]. This way we have the length of the month in the day field and don't need 'monthrange'. However, having a '01' in each of the datetime objects make it look more consistent and less random, in my view. As long as we remember that the values refer to the whole month."
   ]
  },
  {
   "cell_type": "code",
   "execution_count": 34,
   "metadata": {
    "collapsed": false
   },
   "outputs": [
    {
     "name": "stdout",
     "output_type": "stream",
     "text": [
      "(36, 3)\n"
     ]
    },
    {
     "data": {
      "text/html": [
       "<div>\n",
       "<table border=\"1\" class=\"dataframe\">\n",
       "  <thead>\n",
       "    <tr style=\"text-align: right;\">\n",
       "      <th></th>\n",
       "      <th>Count</th>\n",
       "      <th>Days_per_month</th>\n",
       "      <th>Average_per_day</th>\n",
       "    </tr>\n",
       "    <tr>\n",
       "      <th>Date</th>\n",
       "      <th></th>\n",
       "      <th></th>\n",
       "      <th></th>\n",
       "    </tr>\n",
       "  </thead>\n",
       "  <tbody>\n",
       "    <tr>\n",
       "      <th>2014-08-01</th>\n",
       "      <td>2882</td>\n",
       "      <td>31</td>\n",
       "      <td>92.967742</td>\n",
       "    </tr>\n",
       "    <tr>\n",
       "      <th>2014-09-01</th>\n",
       "      <td>2851</td>\n",
       "      <td>30</td>\n",
       "      <td>95.033333</td>\n",
       "    </tr>\n",
       "    <tr>\n",
       "      <th>2014-10-01</th>\n",
       "      <td>2792</td>\n",
       "      <td>31</td>\n",
       "      <td>90.064516</td>\n",
       "    </tr>\n",
       "    <tr>\n",
       "      <th>2014-11-01</th>\n",
       "      <td>2688</td>\n",
       "      <td>30</td>\n",
       "      <td>89.600000</td>\n",
       "    </tr>\n",
       "    <tr>\n",
       "      <th>2014-12-01</th>\n",
       "      <td>2771</td>\n",
       "      <td>31</td>\n",
       "      <td>89.387097</td>\n",
       "    </tr>\n",
       "  </tbody>\n",
       "</table>\n",
       "</div>"
      ],
      "text/plain": [
       "            Count  Days_per_month  Average_per_day\n",
       "Date                                              \n",
       "2014-08-01   2882              31        92.967742\n",
       "2014-09-01   2851              30        95.033333\n",
       "2014-10-01   2792              31        90.064516\n",
       "2014-11-01   2688              30        89.600000\n",
       "2014-12-01   2771              31        89.387097"
      ]
     },
     "execution_count": 34,
     "metadata": {},
     "output_type": "execute_result"
    }
   ],
   "source": [
    "monthly_rates['Average_per_day'] = monthly_rates['Count']*1./monthly_rates['Days_per_month']\n",
    "print monthly_rates.shape\n",
    "monthly_rates.tail()"
   ]
  },
  {
   "cell_type": "code",
   "execution_count": 35,
   "metadata": {
    "collapsed": false,
    "scrolled": false
   },
   "outputs": [
    {
     "data": {
      "text/html": [
       "<div>\n",
       "<table border=\"1\" class=\"dataframe\">\n",
       "  <thead>\n",
       "    <tr style=\"text-align: right;\">\n",
       "      <th></th>\n",
       "      <th>Month</th>\n",
       "      <th>Value</th>\n",
       "    </tr>\n",
       "  </thead>\n",
       "  <tbody>\n",
       "    <tr>\n",
       "      <th>0</th>\n",
       "      <td>1</td>\n",
       "      <td>86.677419</td>\n",
       "    </tr>\n",
       "    <tr>\n",
       "      <th>1</th>\n",
       "      <td>2</td>\n",
       "      <td>81.277094</td>\n",
       "    </tr>\n",
       "    <tr>\n",
       "      <th>2</th>\n",
       "      <td>3</td>\n",
       "      <td>86.935484</td>\n",
       "    </tr>\n",
       "    <tr>\n",
       "      <th>3</th>\n",
       "      <td>4</td>\n",
       "      <td>91.233333</td>\n",
       "    </tr>\n",
       "    <tr>\n",
       "      <th>4</th>\n",
       "      <td>5</td>\n",
       "      <td>90.634409</td>\n",
       "    </tr>\n",
       "    <tr>\n",
       "      <th>5</th>\n",
       "      <td>6</td>\n",
       "      <td>93.600000</td>\n",
       "    </tr>\n",
       "    <tr>\n",
       "      <th>6</th>\n",
       "      <td>7</td>\n",
       "      <td>94.053763</td>\n",
       "    </tr>\n",
       "    <tr>\n",
       "      <th>7</th>\n",
       "      <td>8</td>\n",
       "      <td>91.612903</td>\n",
       "    </tr>\n",
       "    <tr>\n",
       "      <th>8</th>\n",
       "      <td>9</td>\n",
       "      <td>92.277778</td>\n",
       "    </tr>\n",
       "    <tr>\n",
       "      <th>9</th>\n",
       "      <td>10</td>\n",
       "      <td>88.010753</td>\n",
       "    </tr>\n",
       "    <tr>\n",
       "      <th>10</th>\n",
       "      <td>11</td>\n",
       "      <td>89.255556</td>\n",
       "    </tr>\n",
       "    <tr>\n",
       "      <th>11</th>\n",
       "      <td>12</td>\n",
       "      <td>88.021505</td>\n",
       "    </tr>\n",
       "  </tbody>\n",
       "</table>\n",
       "</div>"
      ],
      "text/plain": [
       "    Month      Value\n",
       "0       1  86.677419\n",
       "1       2  81.277094\n",
       "2       3  86.935484\n",
       "3       4  91.233333\n",
       "4       5  90.634409\n",
       "5       6  93.600000\n",
       "6       7  94.053763\n",
       "7       8  91.612903\n",
       "8       9  92.277778\n",
       "9      10  88.010753\n",
       "10     11  89.255556\n",
       "11     12  88.021505"
      ]
     },
     "execution_count": 35,
     "metadata": {},
     "output_type": "execute_result"
    }
   ],
   "source": [
    "month_rate_dict = {}\n",
    "for i in range(1,13):\n",
    "    bool_temp = monthly_rates.index.month == i\n",
    "    month_average = (sum(monthly_rates.loc[bool_temp, 'Average_per_day']))/3.\n",
    "    month_rate_dict[i] = month_average\n",
    "avg_month_rate = pd.DataFrame(month_rate_dict.items(), columns=['Month', 'Value'])\n",
    "avg_month_rate"
   ]
  },
  {
   "cell_type": "code",
   "execution_count": 36,
   "metadata": {
    "collapsed": false
   },
   "outputs": [
    {
     "data": {
      "text/plain": [
       "89.5"
      ]
     },
     "execution_count": 36,
     "metadata": {},
     "output_type": "execute_result"
    }
   ],
   "source": [
    "# calculating the expected cases for each day [+1. becuase 2012 was a leap year]\n",
    "nexpected_day = guns.shape[0]/(365*3 + 1.)\n",
    "nexpected_day"
   ]
  },
  {
   "cell_type": "code",
   "execution_count": 37,
   "metadata": {
    "collapsed": false
   },
   "outputs": [
    {
     "name": "stdout",
     "output_type": "stream",
     "text": [
      "    Month      Value  Percent_change\n",
      "1       2  81.277094       -9.187605\n",
      "0       1  86.677419       -3.153721\n",
      "2       3  86.935484       -2.865381\n",
      "9      10  88.010753       -1.663963\n",
      "11     12  88.021505       -1.651949\n",
      "10     11  89.255556       -0.273122\n",
      "4       5  90.634409        1.267496\n",
      "3       4  91.233333        1.936685\n",
      "7       8  91.612903        2.360786\n",
      "8       9  92.277778        3.103662\n",
      "5       6  93.600000        4.581006\n",
      "6       7  94.053763        5.088004\n"
     ]
    }
   ],
   "source": [
    "avg_month_rate['Percent_change'] = (avg_month_rate.Value - nexpected_day) * 100./ nexpected_day\n",
    "print avg_month_rate.sort('Percent_change')"
   ]
  },
  {
   "cell_type": "markdown",
   "metadata": {
    "collapsed": true
   },
   "source": [
    "Now that we have the daily average, we can say with more certainty that July (~(+5.3%)) and June (~(+4.6%)) have higher gun death rate than the rest of the months, while February (~(-9%)) has significantly lower amount of guns deaths (but not 15% lower as the 'rough analysis' from before showed)."
   ]
  },
  {
   "cell_type": "markdown",
   "metadata": {},
   "source": [
    "**Question:** What percentage of cases were police officers involved in?"
   ]
  },
  {
   "cell_type": "code",
   "execution_count": 38,
   "metadata": {
    "collapsed": false,
    "scrolled": true
   },
   "outputs": [
    {
     "data": {
      "text/plain": [
       "0    99.98063\n",
       "1     0.01937\n",
       "Name: Police, dtype: float64"
      ]
     },
     "execution_count": 38,
     "metadata": {},
     "output_type": "execute_result"
    }
   ],
   "source": [
    "100 * guns.Police.value_counts(normalize=True)"
   ]
  },
  {
   "cell_type": "markdown",
   "metadata": {},
   "source": [
    "Seeing this kind of distribution means this column does not give us any additional information about the cases and we can remove it all together. "
   ]
  },
  {
   "cell_type": "code",
   "execution_count": 39,
   "metadata": {
    "collapsed": false,
    "scrolled": true
   },
   "outputs": [
    {
     "name": "stdout",
     "output_type": "stream",
     "text": [
      "(98092, 8)\n"
     ]
    },
    {
     "data": {
      "text/html": [
       "<div>\n",
       "<table border=\"1\" class=\"dataframe\">\n",
       "  <thead>\n",
       "    <tr style=\"text-align: right;\">\n",
       "      <th></th>\n",
       "      <th>Intent</th>\n",
       "      <th>Sex</th>\n",
       "      <th>Age</th>\n",
       "      <th>Race</th>\n",
       "      <th>Hispanic</th>\n",
       "      <th>Place</th>\n",
       "      <th>Education</th>\n",
       "      <th>Date</th>\n",
       "    </tr>\n",
       "    <tr>\n",
       "      <th>Index</th>\n",
       "      <th></th>\n",
       "      <th></th>\n",
       "      <th></th>\n",
       "      <th></th>\n",
       "      <th></th>\n",
       "      <th></th>\n",
       "      <th></th>\n",
       "      <th></th>\n",
       "    </tr>\n",
       "  </thead>\n",
       "  <tbody>\n",
       "    <tr>\n",
       "      <th>6579</th>\n",
       "      <td>Homicide</td>\n",
       "      <td>M</td>\n",
       "      <td>0.0</td>\n",
       "      <td>Black</td>\n",
       "      <td>100</td>\n",
       "      <td>Home</td>\n",
       "      <td>0.0</td>\n",
       "      <td>2012-01-01</td>\n",
       "    </tr>\n",
       "    <tr>\n",
       "      <th>2492</th>\n",
       "      <td>Homicide</td>\n",
       "      <td>F</td>\n",
       "      <td>1.0</td>\n",
       "      <td>Hispanic</td>\n",
       "      <td>210</td>\n",
       "      <td>Home</td>\n",
       "      <td>0.0</td>\n",
       "      <td>2012-01-01</td>\n",
       "    </tr>\n",
       "    <tr>\n",
       "      <th>2589</th>\n",
       "      <td>Homicide</td>\n",
       "      <td>M</td>\n",
       "      <td>2.0</td>\n",
       "      <td>Hispanic</td>\n",
       "      <td>210</td>\n",
       "      <td>Home</td>\n",
       "      <td>0.0</td>\n",
       "      <td>2012-01-01</td>\n",
       "    </tr>\n",
       "    <tr>\n",
       "      <th>10772</th>\n",
       "      <td>Homicide</td>\n",
       "      <td>F</td>\n",
       "      <td>2.0</td>\n",
       "      <td>Black</td>\n",
       "      <td>100</td>\n",
       "      <td>Home</td>\n",
       "      <td>0.0</td>\n",
       "      <td>2012-01-01</td>\n",
       "    </tr>\n",
       "    <tr>\n",
       "      <th>2493</th>\n",
       "      <td>Homicide</td>\n",
       "      <td>M</td>\n",
       "      <td>3.0</td>\n",
       "      <td>Hispanic</td>\n",
       "      <td>210</td>\n",
       "      <td>Home</td>\n",
       "      <td>0.0</td>\n",
       "      <td>2012-01-01</td>\n",
       "    </tr>\n",
       "  </tbody>\n",
       "</table>\n",
       "</div>"
      ],
      "text/plain": [
       "         Intent Sex  Age      Race  Hispanic Place  Education       Date\n",
       "Index                                                                   \n",
       "6579   Homicide   M  0.0     Black       100  Home        0.0 2012-01-01\n",
       "2492   Homicide   F  1.0  Hispanic       210  Home        0.0 2012-01-01\n",
       "2589   Homicide   M  2.0  Hispanic       210  Home        0.0 2012-01-01\n",
       "10772  Homicide   F  2.0     Black       100  Home        0.0 2012-01-01\n",
       "2493   Homicide   M  3.0  Hispanic       210  Home        0.0 2012-01-01"
      ]
     },
     "execution_count": 39,
     "metadata": {},
     "output_type": "execute_result"
    }
   ],
   "source": [
    "del guns['Police']\n",
    "print guns.shape\n",
    "guns.head()"
   ]
  },
  {
   "cell_type": "markdown",
   "metadata": {},
   "source": [
    "**Question: **Which race appears the most in the df and which appears the least?"
   ]
  },
  {
   "cell_type": "code",
   "execution_count": 40,
   "metadata": {
    "collapsed": false
   },
   "outputs": [
    {
     "data": {
      "text/plain": [
       "White                             0.658841\n",
       "Black                             0.231497\n",
       "Hispanic                          0.087816\n",
       "Asian/Pacific Islander            0.012876\n",
       "Native American/Native Alaskan    0.008971\n",
       "Name: Race, dtype: float64"
      ]
     },
     "execution_count": 40,
     "metadata": {},
     "output_type": "execute_result"
    }
   ],
   "source": [
    "guns.Race.value_counts(sort=True, normalize=True)"
   ]
  },
  {
   "cell_type": "markdown",
   "metadata": {},
   "source": [
    "**Answer:** We can not conclude anything by those numbers unless we take in account the distribution of races in the US population."
   ]
  },
  {
   "cell_type": "markdown",
   "metadata": {},
   "source": [
    "**Question:** How do you sample a dataframe? \n",
    "\n",
    "**Answer:**"
   ]
  },
  {
   "cell_type": "code",
   "execution_count": 41,
   "metadata": {
    "collapsed": false
   },
   "outputs": [
    {
     "data": {
      "text/html": [
       "<div>\n",
       "<table border=\"1\" class=\"dataframe\">\n",
       "  <thead>\n",
       "    <tr style=\"text-align: right;\">\n",
       "      <th></th>\n",
       "      <th>Intent</th>\n",
       "      <th>Sex</th>\n",
       "      <th>Age</th>\n",
       "      <th>Race</th>\n",
       "      <th>Hispanic</th>\n",
       "      <th>Place</th>\n",
       "      <th>Education</th>\n",
       "      <th>Date</th>\n",
       "    </tr>\n",
       "    <tr>\n",
       "      <th>Index</th>\n",
       "      <th></th>\n",
       "      <th></th>\n",
       "      <th></th>\n",
       "      <th></th>\n",
       "      <th></th>\n",
       "      <th></th>\n",
       "      <th></th>\n",
       "      <th></th>\n",
       "    </tr>\n",
       "  </thead>\n",
       "  <tbody>\n",
       "    <tr>\n",
       "      <th>22813</th>\n",
       "      <td>Suicide</td>\n",
       "      <td>M</td>\n",
       "      <td>55.0</td>\n",
       "      <td>White</td>\n",
       "      <td>100</td>\n",
       "      <td>Trade/service area</td>\n",
       "      <td>2.0</td>\n",
       "      <td>2012-08-01</td>\n",
       "    </tr>\n",
       "    <tr>\n",
       "      <th>66277</th>\n",
       "      <td>Homicide</td>\n",
       "      <td>M</td>\n",
       "      <td>23.0</td>\n",
       "      <td>Hispanic</td>\n",
       "      <td>260</td>\n",
       "      <td>Street</td>\n",
       "      <td>2.0</td>\n",
       "      <td>2013-08-01</td>\n",
       "    </tr>\n",
       "    <tr>\n",
       "      <th>31665</th>\n",
       "      <td>Suicide</td>\n",
       "      <td>M</td>\n",
       "      <td>29.0</td>\n",
       "      <td>White</td>\n",
       "      <td>100</td>\n",
       "      <td>Home</td>\n",
       "      <td>2.0</td>\n",
       "      <td>2012-09-01</td>\n",
       "    </tr>\n",
       "    <tr>\n",
       "      <th>98338</th>\n",
       "      <td>Suicide</td>\n",
       "      <td>M</td>\n",
       "      <td>56.0</td>\n",
       "      <td>White</td>\n",
       "      <td>100</td>\n",
       "      <td>Other unspecified</td>\n",
       "      <td>2.0</td>\n",
       "      <td>2014-05-01</td>\n",
       "    </tr>\n",
       "    <tr>\n",
       "      <th>57210</th>\n",
       "      <td>Suicide</td>\n",
       "      <td>F</td>\n",
       "      <td>27.0</td>\n",
       "      <td>White</td>\n",
       "      <td>100</td>\n",
       "      <td>Home</td>\n",
       "      <td>3.0</td>\n",
       "      <td>2013-08-01</td>\n",
       "    </tr>\n",
       "  </tbody>\n",
       "</table>\n",
       "</div>"
      ],
      "text/plain": [
       "         Intent Sex   Age      Race  Hispanic               Place  Education  \\\n",
       "Index                                                                          \n",
       "22813   Suicide   M  55.0     White       100  Trade/service area        2.0   \n",
       "66277  Homicide   M  23.0  Hispanic       260              Street        2.0   \n",
       "31665   Suicide   M  29.0     White       100                Home        2.0   \n",
       "98338   Suicide   M  56.0     White       100   Other unspecified        2.0   \n",
       "57210   Suicide   F  27.0     White       100                Home        3.0   \n",
       "\n",
       "            Date  \n",
       "Index             \n",
       "22813 2012-08-01  \n",
       "66277 2013-08-01  \n",
       "31665 2012-09-01  \n",
       "98338 2014-05-01  \n",
       "57210 2013-08-01  "
      ]
     },
     "execution_count": 41,
     "metadata": {},
     "output_type": "execute_result"
    }
   ],
   "source": [
    "# a sample of about 10% of the data may look like this:\n",
    "sample_guns = guns.sample(n=10000)\n",
    "sample_guns.head()"
   ]
  },
  {
   "cell_type": "code",
   "execution_count": 42,
   "metadata": {
    "collapsed": false
   },
   "outputs": [
    {
     "data": {
      "text/plain": [
       "M    0.8512\n",
       "F    0.1488\n",
       "Name: Sex, dtype: float64"
      ]
     },
     "execution_count": 42,
     "metadata": {},
     "output_type": "execute_result"
    }
   ],
   "source": [
    "# we can look at the M/F distribution, in order to make sure it's similar to the original data\n",
    "sample_guns.Sex.value_counts(normalize=True)"
   ]
  },
  {
   "cell_type": "markdown",
   "metadata": {},
   "source": [
    "** Question:** How do you define a categorical columns/pd.Series? E.g please order guns['intent'] by this order: 'Homicide','Suicide','Accidental','Undetermined'"
   ]
  },
  {
   "cell_type": "code",
   "execution_count": 43,
   "metadata": {
    "collapsed": false,
    "scrolled": true
   },
   "outputs": [
    {
     "data": {
      "text/html": [
       "<div>\n",
       "<table border=\"1\" class=\"dataframe\">\n",
       "  <thead>\n",
       "    <tr style=\"text-align: right;\">\n",
       "      <th></th>\n",
       "      <th>Intent</th>\n",
       "      <th>Sex</th>\n",
       "      <th>Age</th>\n",
       "      <th>Race</th>\n",
       "      <th>Hispanic</th>\n",
       "      <th>Place</th>\n",
       "      <th>Education</th>\n",
       "      <th>Date</th>\n",
       "    </tr>\n",
       "    <tr>\n",
       "      <th>Index</th>\n",
       "      <th></th>\n",
       "      <th></th>\n",
       "      <th></th>\n",
       "      <th></th>\n",
       "      <th></th>\n",
       "      <th></th>\n",
       "      <th></th>\n",
       "      <th></th>\n",
       "    </tr>\n",
       "  </thead>\n",
       "  <tbody>\n",
       "    <tr>\n",
       "      <th>6579</th>\n",
       "      <td>Homicide</td>\n",
       "      <td>M</td>\n",
       "      <td>0.0</td>\n",
       "      <td>Black</td>\n",
       "      <td>100</td>\n",
       "      <td>Home</td>\n",
       "      <td>0.0</td>\n",
       "      <td>2012-01-01</td>\n",
       "    </tr>\n",
       "    <tr>\n",
       "      <th>47129</th>\n",
       "      <td>Homicide</td>\n",
       "      <td>M</td>\n",
       "      <td>28.0</td>\n",
       "      <td>Black</td>\n",
       "      <td>100</td>\n",
       "      <td>Street</td>\n",
       "      <td>2.0</td>\n",
       "      <td>2013-01-01</td>\n",
       "    </tr>\n",
       "    <tr>\n",
       "      <th>47136</th>\n",
       "      <td>Homicide</td>\n",
       "      <td>M</td>\n",
       "      <td>28.0</td>\n",
       "      <td>Black</td>\n",
       "      <td>100</td>\n",
       "      <td>Trade/service area</td>\n",
       "      <td>1.0</td>\n",
       "      <td>2013-01-01</td>\n",
       "    </tr>\n",
       "    <tr>\n",
       "      <th>48932</th>\n",
       "      <td>Homicide</td>\n",
       "      <td>M</td>\n",
       "      <td>28.0</td>\n",
       "      <td>Black</td>\n",
       "      <td>100</td>\n",
       "      <td>Street</td>\n",
       "      <td>3.0</td>\n",
       "      <td>2013-01-01</td>\n",
       "    </tr>\n",
       "    <tr>\n",
       "      <th>48941</th>\n",
       "      <td>Homicide</td>\n",
       "      <td>M</td>\n",
       "      <td>28.0</td>\n",
       "      <td>Black</td>\n",
       "      <td>100</td>\n",
       "      <td>School/instiution</td>\n",
       "      <td>2.0</td>\n",
       "      <td>2013-01-01</td>\n",
       "    </tr>\n",
       "  </tbody>\n",
       "</table>\n",
       "</div>"
      ],
      "text/plain": [
       "         Intent Sex   Age   Race  Hispanic               Place  Education  \\\n",
       "Index                                                                       \n",
       "6579   Homicide   M   0.0  Black       100                Home        0.0   \n",
       "47129  Homicide   M  28.0  Black       100              Street        2.0   \n",
       "47136  Homicide   M  28.0  Black       100  Trade/service area        1.0   \n",
       "48932  Homicide   M  28.0  Black       100              Street        3.0   \n",
       "48941  Homicide   M  28.0  Black       100   School/instiution        2.0   \n",
       "\n",
       "            Date  \n",
       "Index             \n",
       "6579  2012-01-01  \n",
       "47129 2013-01-01  \n",
       "47136 2013-01-01  \n",
       "48932 2013-01-01  \n",
       "48941 2013-01-01  "
      ]
     },
     "execution_count": 43,
     "metadata": {},
     "output_type": "execute_result"
    }
   ],
   "source": [
    "list_ordered = ['Homicide','Suicide','Accidental','Undetermined']\n",
    "guns['Intent'] = guns['Intent'].astype('category')\n",
    "guns.Intent.cat.set_categories(list_ordered, inplace=True)\n",
    "guns.sort_values(['Intent']).head()"
   ]
  },
  {
   "cell_type": "markdown",
   "metadata": {},
   "source": [
    "We can treat 'Undetermined' values in the 'intent' column as NaN and drop those rows, since these values do not give us any additional info and they are less than 1% of the rows (798/ about 100,000)."
   ]
  },
  {
   "cell_type": "code",
   "execution_count": 44,
   "metadata": {
    "collapsed": false,
    "scrolled": true
   },
   "outputs": [
    {
     "data": {
      "text/plain": [
       "Suicide         62295\n",
       "Homicide        33380\n",
       "Accidental       1619\n",
       "Undetermined      798\n",
       "Name: Intent, dtype: int64"
      ]
     },
     "execution_count": 44,
     "metadata": {},
     "output_type": "execute_result"
    }
   ],
   "source": [
    "guns.Intent.value_counts()"
   ]
  },
  {
   "cell_type": "markdown",
   "metadata": {},
   "source": [
    "Let's take those lines also out of our df. \n",
    "\n",
    "Note: my assumption in dropping these values is that my prediction model would try to predict the 'intent' column, and 'Undetermined' cases have no value for that process. If you're predicting a different column - you may want to leave these values in the df."
   ]
  },
  {
   "cell_type": "code",
   "execution_count": 45,
   "metadata": {
    "collapsed": false
   },
   "outputs": [
    {
     "data": {
      "text/plain": [
       "Suicide         62295\n",
       "Homicide        33380\n",
       "Accidental       1619\n",
       "Undetermined        0\n",
       "Name: Intent, dtype: int64"
      ]
     },
     "execution_count": 45,
     "metadata": {},
     "output_type": "execute_result"
    }
   ],
   "source": [
    "guns = guns[guns.Intent != 'Undetermined']\n",
    "guns.Intent.value_counts()"
   ]
  },
  {
   "cell_type": "markdown",
   "metadata": {},
   "source": [
    "Note: Converting `NaN`s highly depends on context:\n",
    "* It Might (rarely) contain information and hence it's own category\n",
    "* Sometimes you want to take it out totally when either plottting or training in machine learning\n",
    "* Other times, when machine learning with sparse data you might want to fill the values. That, of course depends on context\n",
    "\n"
   ]
  },
  {
   "cell_type": "markdown",
   "metadata": {},
   "source": [
    "**Question:** Why does 'Undetermined' still appears in the value_counts() with 0 count?"
   ]
  },
  {
   "cell_type": "markdown",
   "metadata": {},
   "source": [
    "**Answer:** We defined labels for the 'intent' column earlier. We need to remove 'Undetermined' from 'list_ordered' for the intent column. Otherwise pandas will keep listing it as if it is part of our DF with 0 counts. "
   ]
  },
  {
   "cell_type": "code",
   "execution_count": 46,
   "metadata": {
    "collapsed": false,
    "scrolled": true
   },
   "outputs": [
    {
     "data": {
      "text/plain": [
       "Suicide       62295\n",
       "Homicide      33380\n",
       "Accidental     1619\n",
       "Name: Intent, dtype: int64"
      ]
     },
     "execution_count": 46,
     "metadata": {},
     "output_type": "execute_result"
    }
   ],
   "source": [
    "# removing last value in list ordered - which is 'Undetermined'\n",
    "list_ordered = list_ordered[:-1]\n",
    "guns.Intent.cat.set_categories(list_ordered, inplace=True)\n",
    "guns.Intent.value_counts()"
   ]
  },
  {
   "cell_type": "markdown",
   "metadata": {},
   "source": [
    "** Question:** Given a Series  which contains strings, how do you find the length of each of the strings?"
   ]
  },
  {
   "cell_type": "code",
   "execution_count": 47,
   "metadata": {
    "collapsed": false
   },
   "outputs": [
    {
     "data": {
      "text/plain": [
       "array([ 5,  8, 22, 30])"
      ]
     },
     "execution_count": 47,
     "metadata": {},
     "output_type": "execute_result"
    }
   ],
   "source": [
    "guns.Race.str.len().unique()"
   ]
  },
  {
   "cell_type": "code",
   "execution_count": 48,
   "metadata": {
    "collapsed": false
   },
   "outputs": [
    {
     "data": {
      "text/plain": [
       "array(['Black', 'Hispanic', 'White', 'Asian/Pacific Islander',\n",
       "       'Native American/Native Alaskan'], dtype=object)"
      ]
     },
     "execution_count": 48,
     "metadata": {},
     "output_type": "execute_result"
    }
   ],
   "source": [
    "guns.Race.unique()"
   ]
  },
  {
   "cell_type": "markdown",
   "metadata": {},
   "source": [
    "**Question:** For the same series, how do you know if any given entry contains a string segment. E.g: Which entries int the 'intent' column contain the segment 'cide'?"
   ]
  },
  {
   "cell_type": "code",
   "execution_count": 49,
   "metadata": {
    "collapsed": false
   },
   "outputs": [
    {
     "data": {
      "text/plain": [
       "97294"
      ]
     },
     "execution_count": 49,
     "metadata": {},
     "output_type": "execute_result"
    }
   ],
   "source": [
    "guns.Intent.str.contains('cide').sum()"
   ]
  },
  {
   "cell_type": "markdown",
   "metadata": {},
   "source": [
    "**Suggestion for further analysis:** Use census data to get the precentahge of each race name in the population in order to normalize the data."
   ]
  },
  {
   "cell_type": "markdown",
   "metadata": {},
   "source": [
    "## 2. Data Visualization <a class=\"anchor\" id=\"2\"></a>"
   ]
  },
  {
   "cell_type": "markdown",
   "metadata": {},
   "source": [
    "We can quickly find patterns in the visual information we encounter. However, our ability to quickly process symbolic values (like numbers and words) is very poor. Data visualization focuses on transforming data from table representations visual ones. By noticing visual patterns, we may have a good indication about correlations before moving to our prediction part of the analyzation.\n",
    "\n",
    "Let's import the pyplot library, some extra styles and show the plots inline the Jupyter notebook."
   ]
  },
  {
   "cell_type": "code",
   "execution_count": 50,
   "metadata": {
    "collapsed": false
   },
   "outputs": [],
   "source": [
    "import matplotlib.pyplot as plt\n",
    "import seaborn as sns\n",
    "sns.set(style='white', color_codes=True)\n",
    "%matplotlib inline"
   ]
  },
  {
   "cell_type": "markdown",
   "metadata": {},
   "source": [
    "## Line Charts / Time analysis"
   ]
  },
  {
   "cell_type": "markdown",
   "metadata": {},
   "source": [
    "**Line charts** work best when there is a logical connection between adjacent points. When dealing with dates, line charts are an appropriate choise for visualizing because the rows had a natural ordering to it. Each row reflected information about an event that occurred after the previous row (if the df is ordered by date).\n",
    "\n",
    "To emphasize how the visual representation of the line chart helps us observe trends easily, let's look at the same 36 data points from 2012 to the end of 2014 as a line chart."
   ]
  },
  {
   "cell_type": "markdown",
   "metadata": {},
   "source": [
    "To create a line chart of the unemployment data from 2012, we need:\n",
    "- the x-axis to range from 2012-01-01 to 2014-12-01\n",
    "- the y-axis to range from 2357 to 3079 (which correspond to the minimum and maximum death incident values)\n",
    "We don't have to specify the values. we pass in the list of x-values as the first parameter and the list of y-values as the second parameter to plot().\n",
    "\n",
    "Let's begin with a yearly plot:"
   ]
  },
  {
   "cell_type": "code",
   "execution_count": 51,
   "metadata": {
    "collapsed": false
   },
   "outputs": [
    {
     "data": {
      "image/png": "[encoded data removed]",
      "text/plain": [
       "<matplotlib.figure.Figure at 0x121d93990>"
      ]
     },
     "metadata": {},
     "output_type": "display_data"
    }
   ],
   "source": [
    "# 2012\n",
    "plt.plot(monthly_rates.index[:12], monthly_rates['Count'][:12], \n",
    "         linestyle='--', linewidth=3., alpha=0.6)\n",
    "plt.xticks(rotation=70)\n",
    "plt.tick_params(axis='both', which='both',length=0)\n",
    "plt.show()"
   ]
  },
  {
   "cell_type": "code",
   "execution_count": 52,
   "metadata": {
    "collapsed": false,
    "scrolled": false
   },
   "outputs": [
    {
     "data": {
      "image/png": "[encoded data removed]",
      "text/plain": [
       "<matplotlib.figure.Figure at 0x1241c2510>"
      ]
     },
     "metadata": {},
     "output_type": "display_data"
    }
   ],
   "source": [
    "# notice the y column in the previous plot begins at 2200; \n",
    "# Let's look at the real picture from 0 \n",
    "plt.plot(monthly_rates.index[:12], monthly_rates['Count'][:12],\n",
    "        linestyle='--', linewidth=3., alpha=0.6)\n",
    "plt.xticks(rotation=70)\n",
    "plt.ylim(ymin=0, ymax=3500)\n",
    "plt.tick_params(axis='both', which='both',length=0)\n",
    "plt.xlabel('Month', fontsize=14)\n",
    "plt.ylabel('Gun Deaths\\ncount', fontsize=14)\n",
    "plt.title('Monthly Gun Death Count in the US, 2012', fontsize=14, fontweight='bold')\n",
    "sns.despine()\n",
    "plt.show()"
   ]
  },
  {
   "cell_type": "code",
   "execution_count": 53,
   "metadata": {
    "collapsed": false
   },
   "outputs": [
    {
     "data": {
      "image/png": "[encoded data removed]",
      "text/plain": [
       "<matplotlib.figure.Figure at 0x12429c410>"
      ]
     },
     "metadata": {},
     "output_type": "display_data"
    }
   ],
   "source": [
    "# year 2013:\n",
    "plt.plot(monthly_rates.index[12:24], monthly_rates['Count'][12:24],\n",
    "        linestyle='--', linewidth=3., alpha=0.6, color='r')\n",
    "plt.xticks(rotation=70)\n",
    "plt.ylim(ymin=0, ymax=3500)\n",
    "plt.tick_params(axis='both', which='both',length=0)\n",
    "plt.xlabel('Month', fontsize=14)\n",
    "plt.ylabel('Gun Death\\ncount', fontsize=14)\n",
    "plt.title('Monthly Gun Death Count in the US, 2013', fontsize=14, fontweight='bold')\n",
    "sns.despine()\n",
    "plt.show()"
   ]
  },
  {
   "cell_type": "code",
   "execution_count": 54,
   "metadata": {
    "collapsed": false,
    "scrolled": false
   },
   "outputs": [
    {
     "data": {
      "image/png": "[encoded data removed]",
      "text/plain": [
       "<matplotlib.figure.Figure at 0x12458a7d0>"
      ]
     },
     "metadata": {},
     "output_type": "display_data"
    }
   ],
   "source": [
    "# year 2014:\n",
    "plt.plot(monthly_rates.index[24:], monthly_rates['Count'][24:],\n",
    "        linestyle='--', linewidth=3., alpha=0.6, color='g')\n",
    "plt.xticks(rotation=70)\n",
    "plt.ylim(ymin=0, ymax=3500)\n",
    "plt.tick_params(axis='both', which='both',length=0)\n",
    "plt.xlabel('Month', fontsize=14)\n",
    "plt.ylabel('Gun Death\\nCount', fontsize=14)\n",
    "plt.title('Monthly Gun Death Count in the US, 2014', fontsize=14, fontweight='bold')\n",
    "sns.despine()\n",
    "plt.show()"
   ]
  },
  {
   "cell_type": "markdown",
   "metadata": {
    "collapsed": true
   },
   "source": [
    "Let's print them on the same plot in order to compare:"
   ]
  },
  {
   "cell_type": "code",
   "execution_count": 55,
   "metadata": {
    "collapsed": false,
    "scrolled": false
   },
   "outputs": [
    {
     "data": {
      "image/png": "[encoded data removed]",
      "text/plain": [
       "<matplotlib.figure.Figure at 0x124536190>"
      ]
     },
     "metadata": {},
     "output_type": "display_data"
    }
   ],
   "source": [
    "# years 2012 - 2014\n",
    "# Changing linestyle to a constant line = seeing intersections more clearly\n",
    "fig = plt.figure()\n",
    "plt.plot(monthly_rates.index.month[0:12], monthly_rates['Count'][0:12], label='2012',\n",
    "        linestyle='-', linewidth=2., alpha=0.6)\n",
    "plt.plot(monthly_rates.index.month[12:24], monthly_rates['Count'][12:24], label='2013',\n",
    "        linestyle='-', linewidth=2., alpha=0.6, color='r')\n",
    "plt.plot(monthly_rates.index.month[24:36], monthly_rates['Count'][24:36], label='2014',\n",
    "        linestyle='-', linewidth=2., alpha=0.6, color='g')\n",
    "plt.xlim(xmin=1, xmax=12)\n",
    "plt.ylim(ymax=max(monthly_rates['Count'])+100)\n",
    "plt.tick_params(axis='both', which='both',length=0)\n",
    "plt.xticks(np.arange(1, 13, 1))\n",
    "plt.legend(loc='upper left', frameon=False)\n",
    "plt.xlabel('Month', fontsize=14)\n",
    "plt.ylabel('Gun Death\\nCount', fontsize=14)\n",
    "plt.title('Monthly Gun Death Count in the US: 2012-2014', fontsize=14, fontweight='bold')\n",
    "sns.despine()\n",
    "plt.show()"
   ]
  },
  {
   "cell_type": "markdown",
   "metadata": {},
   "source": [
    "But this is a distorted look on the data. It's important our axis starts from 0. Also, let's not repeat ourselves and enlarge the plot: "
   ]
  },
  {
   "cell_type": "code",
   "execution_count": 56,
   "metadata": {
    "collapsed": false,
    "scrolled": false
   },
   "outputs": [
    {
     "data": {
      "image/png": "[encoded data removed]",
      "text/plain": [
       "<matplotlib.figure.Figure at 0x12479c4d0>"
      ]
     },
     "metadata": {},
     "output_type": "display_data"
    }
   ],
   "source": [
    "fig = plt.figure(figsize=(10,6))\n",
    "\n",
    "colors = ['b', 'r', 'g']\n",
    "labels = ['2012', '2013', '2014']\n",
    "\n",
    "for i in range(len(labels)):\n",
    "    start_index = i*12\n",
    "    end_index = (i+1)*12\n",
    "    subset = monthly_rates[start_index:end_index]\n",
    "    plt.plot(subset.index.month, subset['Count'], color=colors[i], label=labels[i],\n",
    "            linestyle='-', linewidth=2., alpha=0.6)\n",
    "\n",
    "plt.xlim(xmin=1, xmax=12)\n",
    "plt.ylim(ymin=0, ymax=max(monthly_rates['Count'])+100)\n",
    "plt.tick_params(axis='both', which='both',length=0)\n",
    "plt.xticks(np.arange(1, 13, 1))\n",
    "plt.legend(loc='center right', frameon=False)\n",
    "plt.xlabel('Month', fontsize=14)\n",
    "plt.ylabel('Number of Gun Death Count', fontsize=14)\n",
    "plt.title('Monthly Gun Death Count in the US: 2012-2014', fontsize=14, fontweight='bold')\n",
    "sns.despine()\n",
    "plt.show()"
   ]
  },
  {
   "cell_type": "markdown",
   "metadata": {},
   "source": [
    "The trend of deaths does not seem to vary significantly over the years. There is a recurring phenomenon of very low number of incidents during february. July has the highest rate of gun deaths in 2012 and 2013, but it is not the case in 2014.  "
   ]
  },
  {
   "cell_type": "markdown",
   "metadata": {},
   "source": [
    "## Bar Plots"
   ]
  },
  {
   "cell_type": "markdown",
   "metadata": {},
   "source": [
    "When we need visualization that scales graphical objects to the quantitative values we're interested in comparing - we can use a **bar plot**.\n",
    "\n",
    "Let's look at the 'intent' division with inner gender ['sex'] division."
   ]
  },
  {
   "cell_type": "code",
   "execution_count": 57,
   "metadata": {
    "collapsed": false,
    "scrolled": true
   },
   "outputs": [
    {
     "data": {
      "image/png": "[encoded data removed]",
      "text/plain": [
       "<matplotlib.figure.Figure at 0x1245e46d0>"
      ]
     },
     "metadata": {},
     "output_type": "display_data"
    }
   ],
   "source": [
    "intent_sex = guns.groupby(['Intent', 'Sex'])['Intent'].count().unstack('Sex')\n",
    "ax = intent_sex.plot(kind='bar', stacked=True, alpha=0.7)\n",
    "ax.set_xlabel('Intent', fontsize=14)\n",
    "ax.set_ylabel('Count', fontsize=14)\n",
    "plt.xticks(rotation=0)\n",
    "plt.tick_params(axis='both', which='both',length=0)\n",
    "ax.legend(labels=['Female', 'Male'], frameon=False, loc=0)\n",
    "plt.title('Gender distribution\\nGun Deaths US: 2012-2014', fontsize=14, fontweight='bold')\n",
    "sns.despine()\n",
    "plt.show()"
   ]
  },
  {
   "cell_type": "markdown",
   "metadata": {},
   "source": [
    "There are far more male incidents than female. From this visual we can infer that it will be hard to learn from 'Accidental' cases since there is so little of them."
   ]
  },
  {
   "cell_type": "markdown",
   "metadata": {
    "collapsed": true
   },
   "source": [
    "We can look at a similar split to get a sence of the education of the victims: "
   ]
  },
  {
   "cell_type": "code",
   "execution_count": 58,
   "metadata": {
    "collapsed": false,
    "scrolled": true
   },
   "outputs": [
    {
     "data": {
      "image/png": "[encoded data removed]",
      "text/plain": [
       "<matplotlib.figure.Figure at 0x124f6c590>"
      ]
     },
     "metadata": {},
     "output_type": "display_data"
    }
   ],
   "source": [
    "intent_edu = guns.groupby(['Intent', 'Education'])['Intent'].count().unstack('Education')\n",
    "# creating a range of 5 colors - from light to dark\n",
    "edu_legend_labels = ['Less than\\nElementry school','Less than \\nHigh School', 'Graduated from\\nHigh School\\nor equivalent', \n",
    "                 'Some College', 'At least\\ngraduated\\nfrom College']\n",
    "colors = plt.cm.GnBu(np.linspace(0, 1, 5))\n",
    "ax = intent_edu.plot(kind='bar', stacked=True, color=colors, width=0.5, alpha=0.6)\n",
    "plt.xticks(rotation=0)\n",
    "ax.set_xlabel('Intent', fontsize=14)\n",
    "ax.set_ylabel('Count', fontsize=14)\n",
    "plt.tick_params(axis='both', which='both',length=0)\n",
    "ax.legend(edu_legend_labels, ncol=1, frameon=False, prop={'size':10}, loc=0)\n",
    "plt.ylim(ymin=0, ymax=90000)\n",
    "plt.title('Education distribution\\n in Gun Deaths US: 2012-2014', fontsize=14, fontweight='bold')\n",
    "sns.despine()\n",
    "plt.show()"
   ]
  },
  {
   "cell_type": "markdown",
   "metadata": {},
   "source": [
    "But this is too crowded, so let's make it horizontal and spread it out a bit:"
   ]
  },
  {
   "cell_type": "code",
   "execution_count": 59,
   "metadata": {
    "collapsed": false,
    "scrolled": true
   },
   "outputs": [
    {
     "data": {
      "image/png": "[encoded data removed]",
      "text/plain": [
       "<matplotlib.figure.Figure at 0x124f7ba50>"
      ]
     },
     "metadata": {},
     "output_type": "display_data"
    }
   ],
   "source": [
    "intent_edu = guns.groupby(['Intent', 'Education'])['Intent'].count().unstack('Education')\n",
    "ax = intent_edu.plot(kind='barh', figsize=(15,6), stacked=True, color=colors, alpha=0.6)\n",
    "ax.set_xlabel('Count', fontsize=20)\n",
    "ax.set_ylabel('Intent', fontsize=20)\n",
    "ax.legend(edu_legend_labels, loc=0,  prop={'size':12}, frameon=False)\n",
    "plt.xlim(xmin=0, xmax=80000)\n",
    "plt.tick_params(axis='both', which='both',length=0)\n",
    "plt.title('Education distribution\\nin Gun Deaths US: 2012-2014', fontsize=20, fontweight='bold')\n",
    "sns.despine()\n",
    "plt.show()"
   ]
  },
  {
   "cell_type": "markdown",
   "metadata": {},
   "source": [
    "Using this split visualization we can see that there is a larger percentage of people with some college education and higher in the suicide gun deaths than in the Homicide incidents. The dark blues are more than a third of the Suicide cases, but only about a quarter of the Homicide cases. This is indication that **'education' could be a helpful variable for our 'intent' prediction.**\n",
    "\n",
    "Again, the Accidental bar does not seem to give us any additional info. It may be useless for our prediction, and we're better off going with binary: 'Suicide' vs. 'Homicide'.\n",
    "\n",
    "Moving on to distribution of location:"
   ]
  },
  {
   "cell_type": "code",
   "execution_count": 60,
   "metadata": {
    "collapsed": false,
    "scrolled": true
   },
   "outputs": [
    {
     "data": {
      "image/png": "[encoded data removed]",
      "text/plain": [
       "<matplotlib.figure.Figure at 0x12534cf10>"
      ]
     },
     "metadata": {},
     "output_type": "display_data"
    }
   ],
   "source": [
    "intent_place = guns.groupby(['Intent', 'Place'])['Intent'].count().unstack('Place')\n",
    "\n",
    "colors = plt.cm.GnBu(np.linspace(0, 2, 20))\n",
    "ax = intent_place.plot(kind='barh', figsize=(15,6), stacked=True, color=colors, alpha=0.8)\n",
    "ax.set_xlabel('Count', fontsize=20)\n",
    "ax.set_ylabel('Intent', fontsize=20)\n",
    "plt.tick_params(axis='both', which='both', length=0)\n",
    "ax.legend(loc=0, ncol=2, prop={'size':12}, frameon=False)\n",
    "plt.title('Location distribution\\nin Gun Deaths US: 2012-2014', fontsize=20, fontweight='bold')\n",
    "sns.despine()\n",
    "plt.show()"
   ]
  },
  {
   "cell_type": "markdown",
   "metadata": {},
   "source": [
    "We can see that most cases of Suicide happen at home. This means that **location could be an important variable when we want to predict intent**. The Accidental column, again, seems too dense to give us any valuble info. \n",
    "\n",
    "It's almost impossible to conclude things about this visualization since there are a lot of values (i.e colors), and this distribution isn't that useful for us. Let's make it better by merging some of the values. "
   ]
  },
  {
   "cell_type": "code",
   "execution_count": 61,
   "metadata": {
    "collapsed": false
   },
   "outputs": [
    {
     "data": {
      "text/plain": [
       "Home                       59146\n",
       "Other specified            13472\n",
       "Street                     10989\n",
       "Other unspecified           8625\n",
       "Trade/service area          3374\n",
       "School/instiution            659\n",
       "Farm                         465\n",
       "Industrial/construction      238\n",
       "Residential institution      201\n",
       "Sports                       125\n",
       "Name: Place, dtype: int64"
      ]
     },
     "execution_count": 61,
     "metadata": {},
     "output_type": "execute_result"
    }
   ],
   "source": [
    "guns.Place.value_counts()"
   ]
  },
  {
   "cell_type": "markdown",
   "metadata": {},
   "source": [
    "I'm not sure if the values 'other specified' and 'other unspecified' give us any info. We may want to drop this column all together, or chose: Home, Street and other as our 3 values for this. "
   ]
  },
  {
   "cell_type": "code",
   "execution_count": 62,
   "metadata": {
    "collapsed": false,
    "scrolled": true
   },
   "outputs": [
    {
     "data": {
      "text/plain": [
       "Home      59146\n",
       "Other     23547\n",
       "Street    14601\n",
       "Name: Place, dtype: int64"
      ]
     },
     "execution_count": 62,
     "metadata": {},
     "output_type": "execute_result"
    }
   ],
   "source": [
    "#These are too many categories and it's hard to arrive to conclusions\n",
    "# let's merge 'street' with 'trade/service area' and the rest to 'Other'\n",
    "index_temp = guns[(guns['Place'] == 'Trade/service area') | (guns.Place == 'Industrial/construction')].index\n",
    "guns.loc[index_temp, 'Place'] = 'Street'\n",
    "index_temp = guns[(guns['Place'] != 'Street') & (guns.Place != 'Home')].index\n",
    "guns.loc[index_temp, 'Place'] = 'Other'\n",
    "\n",
    "guns.Place.value_counts()"
   ]
  },
  {
   "cell_type": "markdown",
   "metadata": {},
   "source": [
    "Let's take another look:"
   ]
  },
  {
   "cell_type": "code",
   "execution_count": 63,
   "metadata": {
    "collapsed": false
   },
   "outputs": [
    {
     "data": {
      "image/png": "[encoded data removed]",
      "text/plain": [
       "<matplotlib.figure.Figure at 0x125525e50>"
      ]
     },
     "metadata": {},
     "output_type": "display_data"
    }
   ],
   "source": [
    "intent_place = guns.groupby(['Intent', 'Place'])['Intent'].count().unstack('Place')\n",
    "\n",
    "colors = plt.cm.GnBu(np.linspace(0,2,6))\n",
    "ax = intent_place.plot(kind='barh', figsize=(15,6), stacked=True, color=colors, alpha=0.6)\n",
    "ax.set_xlabel('Count', fontsize=20)\n",
    "ax.set_ylabel('Intent', fontsize=20)\n",
    "plt.tick_params(axis='both', which='both',length=0)\n",
    "ax.legend(loc='upper right', prop={'size':14}, frameon=False)\n",
    "plt.title('Location distribution\\nin Gun Deaths US: 2012-2014', fontsize=20, fontweight='bold')\n",
    "sns.despine()\n",
    "plt.show()"
   ]
  },
  {
   "cell_type": "markdown",
   "metadata": {},
   "source": [
    "This is far less dense and better for understanding our data. It is not surprising that the minoroty of suicide cases were located in the street, and the majority - at home. Homicide seems to be split 3 ways pretty evenly. "
   ]
  },
  {
   "cell_type": "markdown",
   "metadata": {},
   "source": [
    "## Histograms"
   ]
  },
  {
   "cell_type": "markdown",
   "metadata": {},
   "source": [
    "We use value counts and **sort_index()** in order to organize the age values according to frequency. "
   ]
  },
  {
   "cell_type": "code",
   "execution_count": 64,
   "metadata": {
    "collapsed": false,
    "scrolled": true
   },
   "outputs": [
    {
     "data": {
      "image/png": "[encoded data removed]",
      "text/plain": [
       "<matplotlib.figure.Figure at 0x12528cb50>"
      ]
     },
     "metadata": {},
     "output_type": "display_data"
    }
   ],
   "source": [
    "age_freq = guns.Age.value_counts()\n",
    "sorted_age_freq = age_freq.sort_index()\n",
    "sorted_age_freq.head()\n",
    "plt.hist(guns['Age'], range=(0,107), alpha=0.4)\n",
    "plt.tick_params(axis='both', which='both',length=0)\n",
    "plt.xlim(xmin=0, xmax=110)\n",
    "plt.xlabel('Age', fontsize=14)\n",
    "plt.ylabel('Count', fontsize=14)\n",
    "plt.title('Age distribution', fontsize=14, fontweight='bold')\n",
    "sns.despine(bottom=True, left=True)\n",
    "plt.show()"
   ]
  },
  {
   "cell_type": "markdown",
   "metadata": {},
   "source": [
    "Let's look at the age histogram for the suicide deaths vs. the homicide deaths, and check if there are any evident differences. "
   ]
  },
  {
   "cell_type": "code",
   "execution_count": 65,
   "metadata": {
    "collapsed": false
   },
   "outputs": [
    {
     "data": {
      "image/png": "[encoded data removed]",
      "text/plain": [
       "<matplotlib.figure.Figure at 0x12534ca10>"
      ]
     },
     "metadata": {},
     "output_type": "display_data"
    }
   ],
   "source": [
    "fig = plt.figure(figsize=(12,4))\n",
    "ax1 = fig.add_subplot(1,2,1)\n",
    "ax2 = fig.add_subplot(1,2,2)\n",
    "\n",
    "suicide = guns[guns['Intent'] == 'Suicide']\n",
    "homicide = guns[guns['Intent'] == 'Homicide']\n",
    "\n",
    "ax1.hist(suicide.Age, 20, alpha=0.4)\n",
    "ax1.set_title('Suicide gun deaths\\nAge Distribution', fontsize=14, fontweight='bold')\n",
    "ax2.hist(homicide.Age, 20, alpha=0.4)\n",
    "ax2.set_title('Homicide gun deaths\\nAge Distribution', fontsize=14, fontweight='bold')\n",
    "ax1.set_xlabel('Age', fontsize=14)\n",
    "ax2.set_xlabel('Age', fontsize=14)\n",
    "ax1.set_ylabel('Frequency', fontsize=14)\n",
    "ax2.set_ylabel('Frequency', fontsize=14)\n",
    "ax1.tick_params(axis='both', which='both',length=0)\n",
    "ax2.tick_params(axis='both', which='both',length=0)\n",
    "ax1.set_xlim(xmin=0, xmax=110)\n",
    "ax2.set_xlim(xmin=0, xmax=110)\n",
    "sns.despine(bottom=True, left=True)\n",
    "plt.show()"
   ]
  },
  {
   "cell_type": "markdown",
   "metadata": {},
   "source": [
    "By looking at this we can see that most of the Homicide deaths occured around the age of 20-21, while most suicide cases are circled just under the age of 55-58 (there is also a noticable peak around the age of 20). If we wanted more accurate numbers - we could take a look at the mean and median of these variables. Again, since we have so little incidents of accidental gun deaths, it's hard to infer anything from that part of the data [red dots]."
   ]
  },
  {
   "cell_type": "code",
   "execution_count": 66,
   "metadata": {
    "collapsed": false
   },
   "outputs": [
    {
     "data": {
      "text/plain": [
       "<matplotlib.text.Text at 0x124f7b090>"
      ]
     },
     "execution_count": 66,
     "metadata": {},
     "output_type": "execute_result"
    },
    {
     "data": {
      "image/png": "[encoded data removed]",
      "text/plain": [
       "<matplotlib.figure.Figure at 0x121c83ed0>"
      ]
     },
     "metadata": {},
     "output_type": "display_data"
    },
    {
     "data": {
      "image/png": "[encoded data removed]",
      "text/plain": [
       "<matplotlib.figure.Figure at 0x1250f8c50>"
      ]
     },
     "metadata": {},
     "output_type": "display_data"
    }
   ],
   "source": [
    "g = sns.FacetGrid(suicide, col='Sex')  \n",
    "g.map(sns.distplot, 'Age')\n",
    "plt.subplots_adjust(top=0.8)\n",
    "g.set(xlim=(0, 110), ylim=(0, 0.05))\n",
    "g.fig.suptitle('Suicide ages: Gender comparison', fontsize=14, fontweight='bold')\n",
    "g = sns.FacetGrid(homicide, col='Sex') \n",
    "g.map(sns.distplot, 'Age')\n",
    "plt.subplots_adjust(top=0.8)\n",
    "g.set(xlim=(0, 110), ylim=(0, 0.05), xlabel='Age', ylabel='Percentage', )\n",
    "g.fig.suptitle('Homicide ages: Gender comparison', fontsize=14, fontweight='bold')"
   ]
  },
  {
   "cell_type": "code",
   "execution_count": 67,
   "metadata": {
    "collapsed": false,
    "scrolled": false
   },
   "outputs": [
    {
     "data": {
      "text/plain": [
       "<matplotlib.text.Text at 0x126a35bd0>"
      ]
     },
     "execution_count": 67,
     "metadata": {},
     "output_type": "execute_result"
    },
    {
     "data": {
      "image/png": "[encoded data removed]",
      "text/plain": [
       "<matplotlib.figure.Figure at 0x1255e5ed0>"
      ]
     },
     "metadata": {},
     "output_type": "display_data"
    },
    {
     "data": {
      "image/png": "[encoded data removed]",
      "text/plain": [
       "<matplotlib.figure.Figure at 0x1245eb290>"
      ]
     },
     "metadata": {},
     "output_type": "display_data"
    }
   ],
   "source": [
    "g = sns.FacetGrid(suicide, col='Race')  \n",
    "g.map(sns.distplot, 'Age')\n",
    "g.set(xlim=(0, None))\n",
    "plt.subplots_adjust(top=0.8)\n",
    "g.set(xlim=(0, 110), ylim=(0, 0.06), xlabel='Age')\n",
    "g.fig.suptitle('Suicide ages: Race comparison', fontsize=14, fontweight='bold')\n",
    "g = sns.FacetGrid(homicide, col='Race') \n",
    "g.map(sns.distplot, 'Age')\n",
    "g.set(xlim=(0, None))\n",
    "plt.subplots_adjust(top=0.8)\n",
    "g.set(xlim=(0, 110), ylim=(0, 0.06), xlabel='Age')\n",
    "g.fig.suptitle('Homicide ages: Race comparison', fontsize=14, fontweight='bold')"
   ]
  },
  {
   "cell_type": "markdown",
   "metadata": {},
   "source": [
    "in order to get in in the same order for better comparison:"
   ]
  },
  {
   "cell_type": "code",
   "execution_count": 68,
   "metadata": {
    "collapsed": false,
    "scrolled": true
   },
   "outputs": [],
   "source": [
    "race_ordered = ['Black', 'White', 'Hispanic', 'Asian/Pacific Islander', 'Native American/Native Alaskan']\n",
    "guns['Race'] = guns['Race'].astype('category')\n",
    "guns.Race.cat.set_categories(race_ordered, inplace=True)"
   ]
  },
  {
   "cell_type": "code",
   "execution_count": 69,
   "metadata": {
    "collapsed": false
   },
   "outputs": [
    {
     "data": {
      "text/plain": [
       "<matplotlib.text.Text at 0x126767690>"
      ]
     },
     "execution_count": 69,
     "metadata": {},
     "output_type": "execute_result"
    },
    {
     "data": {
      "image/png": "[encoded data removed]",
      "text/plain": [
       "<matplotlib.figure.Figure at 0x126759f50>"
      ]
     },
     "metadata": {},
     "output_type": "display_data"
    },
    {
     "data": {
      "image/png": "[encoded data removed]",
      "text/plain": [
       "<matplotlib.figure.Figure at 0x12452c190>"
      ]
     },
     "metadata": {},
     "output_type": "display_data"
    }
   ],
   "source": [
    "suicide = guns[guns['Intent'] == 'Suicide']\n",
    "homicide = guns[guns['Intent'] == 'Homicide']\n",
    "\n",
    "g = sns.FacetGrid(suicide, col='Race')  \n",
    "g.map(sns.distplot, 'Age')\n",
    "plt.subplots_adjust(top=0.8)\n",
    "g.set(xlim=(0, 110), ylim=(0, 0.06), xlabel='Age')\n",
    "g.fig.suptitle('Suicide ages: Race comparison', fontsize=16, fontweight='bold')\n",
    "g = sns.FacetGrid(homicide, col='Race') \n",
    "g.map(sns.distplot, 'Age')\n",
    "plt.subplots_adjust(top=0.8)\n",
    "g.set(xlim=(0, 110), ylim=(0, 0.06), xlabel='Age')\n",
    "g.fig.suptitle('Homicide ages: Race comparison', fontsize=16, fontweight='bold')"
   ]
  },
  {
   "cell_type": "markdown",
   "metadata": {},
   "source": [
    "It's very apperant that the peak in most races in both suicide incidents is around age 20, while the peak in the race 'white' is much higher - around 55 in suicide cases. There is a difference in the homicide cases of this race as well. "
   ]
  },
  {
   "cell_type": "code",
   "execution_count": 70,
   "metadata": {
    "collapsed": false
   },
   "outputs": [
    {
     "data": {
      "text/plain": [
       "<matplotlib.text.Text at 0x1258dc250>"
      ]
     },
     "execution_count": 70,
     "metadata": {},
     "output_type": "execute_result"
    },
    {
     "data": {
      "image/png": "[encoded data removed]",
      "text/plain": [
       "<matplotlib.figure.Figure at 0x11c0edb10>"
      ]
     },
     "metadata": {},
     "output_type": "display_data"
    },
    {
     "data": {
      "image/png": "[encoded data removed]",
      "text/plain": [
       "<matplotlib.figure.Figure at 0x127d4b1d0>"
      ]
     },
     "metadata": {},
     "output_type": "display_data"
    }
   ],
   "source": [
    "# we can ignore education = 0 - since these are all very young ages\n",
    "g = sns.FacetGrid(suicide[suicide.Education > 0], col='Education')\n",
    "g.map(sns.distplot, 'Age')\n",
    "plt.subplots_adjust(top=0.8)\n",
    "g.set(xlim=(0, 110), ylim=(0, 0.06), xlabel='Age')\n",
    "g.fig.suptitle('Suicide ages: Education comparison', fontsize=16, fontweight='bold')\n",
    "g = sns.FacetGrid(homicide[homicide.Education > 0], col='Education') \n",
    "g.map(sns.distplot, 'Age')\n",
    "plt.subplots_adjust(top=0.8)\n",
    "g.set(xlim=(0, 110), ylim=(0, 0.06), xlabel='Age')\n",
    "g.fig.suptitle('Homicide ages: Education comparison', fontsize=16, fontweight='bold')"
   ]
  },
  {
   "cell_type": "markdown",
   "metadata": {},
   "source": [
    "The peaks show an interesting picture: All of the homicides plot peaks are in the area of 20 years old, and this is similar for suicides in cases where the education was low. However, when the victim was of college university [3.0-4.0] the peak is also around age 60. \n",
    "\n",
    "This may mean that **age can also help us predict intent**. "
   ]
  },
  {
   "cell_type": "markdown",
   "metadata": {},
   "source": [
    "# KDE Plot"
   ]
  },
  {
   "cell_type": "markdown",
   "metadata": {},
   "source": [
    "This plot is useful for looking at univariate relations. It creates and visualizes a kernel density estimate of the underlying feature.\n",
    "\n",
    "Let's look at the age values:"
   ]
  },
  {
   "cell_type": "markdown",
   "metadata": {},
   "source": [
    "This view will make it look like there are negative ages in our dataset, but that is not the case. The reason for that is that KDE smoothes the lines and thus manipulates the truth. We can limit the x axis. "
   ]
  },
  {
   "cell_type": "code",
   "execution_count": 71,
   "metadata": {
    "collapsed": false
   },
   "outputs": [
    {
     "data": {
      "text/plain": [
       "<matplotlib.text.Text at 0x127fcb1d0>"
      ]
     },
     "execution_count": 71,
     "metadata": {},
     "output_type": "execute_result"
    },
    {
     "data": {
      "image/png": "[encoded data removed]",
      "text/plain": [
       "<matplotlib.figure.Figure at 0x126b71a10>"
      ]
     },
     "metadata": {},
     "output_type": "display_data"
    }
   ],
   "source": [
    "# limit the x-axis\n",
    "sns.FacetGrid(guns, hue='Intent', size=4).map(sns.kdeplot, 'Age')\n",
    "plt.legend(loc=9, frameon=False)\n",
    "plt.xlim(xmin=0)\n",
    "plt.xlabel('Age', fontsize=14)\n",
    "plt.ylabel('Density', fontsize=14)\n",
    "sns.despine(left=True)\n",
    "plt.title('Age distribution\\nHomicide vs. Suicide', fontsize=14, fontweight='bold')"
   ]
  },
  {
   "cell_type": "markdown",
   "metadata": {
    "collapsed": true
   },
   "source": [
    "This is very similar to the plot we saw before, only seeing it on the same grid makes it easier to see differences. "
   ]
  },
  {
   "cell_type": "code",
   "execution_count": 72,
   "metadata": {
    "collapsed": false,
    "scrolled": false
   },
   "outputs": [
    {
     "data": {
      "text/plain": [
       "<matplotlib.text.Text at 0x12850d4d0>"
      ]
     },
     "execution_count": 72,
     "metadata": {},
     "output_type": "execute_result"
    },
    {
     "data": {
      "image/png": "[encoded data removed]",
      "text/plain": [
       "<matplotlib.figure.Figure at 0x127f17110>"
      ]
     },
     "metadata": {},
     "output_type": "display_data"
    }
   ],
   "source": [
    "sns.FacetGrid(guns, hue='Sex', size=4).map(sns.kdeplot, 'Age').add_legend()\n",
    "sns.despine(left=True)\n",
    "plt.xlim(xmin=0)\n",
    "plt.title('Age distribution\\nMale vs. Female', fontsize=14, fontweight='bold')"
   ]
  },
  {
   "cell_type": "markdown",
   "metadata": {
    "collapsed": true
   },
   "source": [
    "This is also very useful in seeing differences between the genders. Let's make different KDE plots for each intent:"
   ]
  },
  {
   "cell_type": "code",
   "execution_count": 73,
   "metadata": {
    "collapsed": false
   },
   "outputs": [
    {
     "data": {
      "text/plain": [
       "<matplotlib.text.Text at 0x12842d650>"
      ]
     },
     "execution_count": 73,
     "metadata": {},
     "output_type": "execute_result"
    },
    {
     "data": {
      "image/png": "[encoded data removed]",
      "text/plain": [
       "<matplotlib.figure.Figure at 0x127dfab50>"
      ]
     },
     "metadata": {},
     "output_type": "display_data"
    },
    {
     "data": {
      "image/png": "[encoded data removed]",
      "text/plain": [
       "<matplotlib.figure.Figure at 0x11188ea50>"
      ]
     },
     "metadata": {},
     "output_type": "display_data"
    }
   ],
   "source": [
    "sns.FacetGrid(suicide, hue='Sex', size=4).map(sns.kdeplot, 'Age').add_legend()\n",
    "plt.xlabel('Age', fontsize=14)\n",
    "sns.despine(left=True)\n",
    "plt.title('Suicide ages: Gender comparison', fontsize=14, fontweight='bold')\n",
    "sns.FacetGrid(homicide, hue='Sex', size=4).map(sns.kdeplot, 'Age').add_legend()\n",
    "plt.xlabel('Age', fontsize=14)\n",
    "sns.despine(left=True)\n",
    "plt.xlim(xmin=0)\n",
    "plt.title('Homicide ages: Gender comparison', fontsize=14, fontweight='bold')"
   ]
  },
  {
   "cell_type": "markdown",
   "metadata": {},
   "source": [
    "# Box Plots"
   ]
  },
  {
   "cell_type": "markdown",
   "metadata": {},
   "source": [
    "A box plot consists of box-and-whisker diagrams, which represents the different quartiles in a visual way. It is useful to show differences between different groups in our data. "
   ]
  },
  {
   "cell_type": "code",
   "execution_count": 74,
   "metadata": {
    "collapsed": false,
    "scrolled": true
   },
   "outputs": [
    {
     "data": {
      "image/png": "[encoded data removed]",
      "text/plain": [
       "<matplotlib.figure.Figure at 0x12553cb50>"
      ]
     },
     "metadata": {},
     "output_type": "display_data"
    }
   ],
   "source": [
    "fig, ax = plt.subplots()\n",
    "data_to_plot = [suicide.Age, homicide.Age]\n",
    "plt.xlim(xmin=0, xmax=110)\n",
    "plt.boxplot(data_to_plot)\n",
    "plt.ylim(ymin=-1, ymax=110)\n",
    "plt.xticks([1, 2, 3], ['Suicide', 'Homicide'], fontsize=14)\n",
    "plt.tick_params(axis='both', which='both',length=0)\n",
    "plt.ylabel('Age', fontsize=14)\n",
    "plt.title('Ages in Suicide vs. Homicide',\n",
    "          fontsize=14, fontweight='bold')\n",
    "sns.despine(bottom=True)\n",
    "plt.show()"
   ]
  },
  {
   "cell_type": "markdown",
   "metadata": {},
   "source": [
    "Another useful tool is the ability to split column by their value. Here we are doing a gender comparison of age in each 'intent' value:"
   ]
  },
  {
   "cell_type": "code",
   "execution_count": 75,
   "metadata": {
    "collapsed": false
   },
   "outputs": [
    {
     "data": {
      "image/png": "[encoded data removed]",
      "text/plain": [
       "<matplotlib.figure.Figure at 0x124934a90>"
      ]
     },
     "metadata": {},
     "output_type": "display_data"
    }
   ],
   "source": [
    "#sns.set(style='ticks')\n",
    "sns.boxplot(x='Intent', y='Age', hue='Sex', data=guns, palette='PRGn', width=0.6)\n",
    "sns.despine(bottom=True)"
   ]
  },
  {
   "cell_type": "markdown",
   "metadata": {},
   "source": [
    "Again we see that Accidental does not give us any additional info.\n",
    "\n",
    "We see the ages in suicides among women varies more than men. However, there is a smaller variation in the ages of females that are murderd in homicide cases. "
   ]
  },
  {
   "cell_type": "markdown",
   "metadata": {},
   "source": [
    "# Violin plots"
   ]
  },
  {
   "cell_type": "code",
   "execution_count": 76,
   "metadata": {
    "collapsed": false,
    "scrolled": true
   },
   "outputs": [
    {
     "data": {
      "image/png": "[encoded data removed]",
      "text/plain": [
       "<matplotlib.figure.Figure at 0x125288410>"
      ]
     },
     "metadata": {},
     "output_type": "display_data"
    }
   ],
   "source": [
    "sns.violinplot(x='Intent', y='Age', hue='Sex', split=True, data=guns, size=4, inner='quart')\n",
    "sns.despine(bottom=True)"
   ]
  },
  {
   "cell_type": "markdown",
   "metadata": {},
   "source": [
    "This visualization of the variance in each gender help us to better understand the numbers: Again, the accidental column does not give us much info since the distribution and quartiles are very similar between genders. However, we see the distribution between male and female in homicide differs in quartiles and in the range of the quarters. This may mean that combining age and gender can be a helpful predictor."
   ]
  },
  {
   "cell_type": "markdown",
   "metadata": {},
   "source": [
    "**Note:** Since most of our variables are categorical, **scatter plots** would not give us much information (believe me, I tried). The same applies to **scatter matrix plot**."
   ]
  },
  {
   "cell_type": "markdown",
   "metadata": {},
   "source": [
    "### Takeaways\n",
    "\n",
    "1. Age, education, place and age~gender may be helpful in predicting intent. \n",
    "2. Place variable should be used carefuly since some of the values were combined. \n",
    "3. There is a large number of gun deaths during July and June, and a smaller number on February. \n",
    "**4. To do: Prediction.**\n",
    "\n",
    "Would love to get your feedback!"
   ]
  }
 ],
 "metadata": {
  "anaconda-cloud": {},
  "kernelspec": {
   "display_name": "Python 2",
   "language": "python",
   "name": "python2"
  },
  "language_info": {
   "codemirror_mode": {
    "name": "ipython",
    "version": 2
   },
   "file_extension": ".py",
   "mimetype": "text/x-python",
   "name": "python",
   "nbconvert_exporter": "python",
   "pygments_lexer": "ipython2",
   "version": "2.7.13"
  }
 },
 "nbformat": 4,
 "nbformat_minor": 1
}
